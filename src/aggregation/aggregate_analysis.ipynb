{
 "cells": [
  {
   "cell_type": "code",
   "execution_count": null,
   "metadata": {},
   "outputs": [],
   "source": [
    "import pandas as pd\n",
    "\n",
    "agg_df = pd.read_json('/data/laviniad/sermons-ir/unified_congress_df_with_scores.json')\n",
    "def get_perc_relig(list_labels):\n",
    "    num_relig = sum([l for l in list_labels if isinstance(l, int)]) # 1s = relig \n",
    "\n",
    "    return num_relig / len(list_labels)\n",
    "\n",
    "# thresholded at .5 (via idxmax)\n",
    "agg_df['classifier_perc_relig'] = agg_df['classifier_label'].apply(get_perc_relig)\n",
    "\n",
    "scores = ['bible_over_base', 'lexical_overlap', 'has_relig_keyword', 'max_cosine_sim_ref', 'classifier_perc_relig']\n",
    "agg_df_corrs = agg_df[scores].corr()"
   ]
  },
  {
   "cell_type": "code",
   "execution_count": null,
   "metadata": {},
   "outputs": [],
   "source": [
    "import pandas as pd\n",
    "import seaborn as sns\n",
    "import matplotlib.pyplot as plt\n",
    "\n",
    "plt.figure(figsize=(8, 6))\n",
    "sns.heatmap(agg_df_corrs, annot=True, cmap='coolwarm', fmt=\".2f\")\n",
    "plt.title('Correlation Matrix')\n",
    "plt.show()"
   ]
  }
 ],
 "metadata": {
  "kernelspec": {
   "display_name": "sermons",
   "language": "python",
   "name": "sermons"
  },
  "language_info": {
   "name": "python",
   "version": "3.11.7"
  }
 },
 "nbformat": 4,
 "nbformat_minor": 2
}
