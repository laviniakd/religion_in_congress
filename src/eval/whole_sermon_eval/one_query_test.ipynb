{
 "cells": [
  {
   "cell_type": "code",
   "execution_count": 2,
   "id": "713b78e4-e9e0-499b-82fb-2607d7db7cf5",
   "metadata": {},
   "outputs": [
    {
     "name": "stdout",
     "output_type": "stream",
     "text": [
      "Collecting pandas\n",
      "  Downloading pandas-2.1.1-cp311-cp311-manylinux_2_17_x86_64.manylinux2014_x86_64.whl (12.2 MB)\n",
      "\u001b[2K     \u001b[90m━━━━━━━━━━━━━━━━━━━━━━━━━━━━━━━━━━━━━━━━\u001b[0m \u001b[32m12.2/12.2 MB\u001b[0m \u001b[31m23.8 MB/s\u001b[0m eta \u001b[36m0:00:00\u001b[0m00:01\u001b[0m00:01\u001b[0m\n",
      "\u001b[?25hCollecting numpy>=1.23.2 (from pandas)\n",
      "  Downloading numpy-1.26.1-cp311-cp311-manylinux_2_17_x86_64.manylinux2014_x86_64.whl (18.2 MB)\n",
      "\u001b[2K     \u001b[90m━━━━━━━━━━━━━━━━━━━━━━━━━━━━━━━━━━━━━━━━\u001b[0m \u001b[32m18.2/18.2 MB\u001b[0m \u001b[31m26.5 MB/s\u001b[0m eta \u001b[36m0:00:00\u001b[0m00:01\u001b[0m00:01\u001b[0m\n",
      "\u001b[?25hRequirement already satisfied: python-dateutil>=2.8.2 in /home/laviniad/miniconda3/lib/python3.11/site-packages (from pandas) (2.8.2)\n",
      "Collecting pytz>=2020.1 (from pandas)\n",
      "  Downloading pytz-2023.3.post1-py2.py3-none-any.whl (502 kB)\n",
      "\u001b[2K     \u001b[90m━━━━━━━━━━━━━━━━━━━━━━━━━━━━━━━━━━━━━━\u001b[0m \u001b[32m502.5/502.5 kB\u001b[0m \u001b[31m37.6 MB/s\u001b[0m eta \u001b[36m0:00:00\u001b[0m\n",
      "\u001b[?25hCollecting tzdata>=2022.1 (from pandas)\n",
      "  Using cached tzdata-2023.3-py2.py3-none-any.whl (341 kB)\n",
      "Requirement already satisfied: six>=1.5 in /home/laviniad/miniconda3/lib/python3.11/site-packages (from python-dateutil>=2.8.2->pandas) (1.16.0)\n",
      "Installing collected packages: pytz, tzdata, numpy, pandas\n",
      "Successfully installed numpy-1.26.1 pandas-2.1.1 pytz-2023.3.post1 tzdata-2023.3\n"
     ]
    }
   ],
   "source": [
    "!pip install pandas"
   ]
  },
  {
   "cell_type": "code",
   "execution_count": 4,
   "id": "f7c4cf1c-81d6-4a9a-8c7e-d37bcebcc08b",
   "metadata": {},
   "outputs": [
    {
     "name": "stdout",
     "output_type": "stream",
     "text": [
      "Collecting rapidfuzz\n",
      "  Downloading rapidfuzz-3.4.0-cp311-cp311-manylinux_2_17_x86_64.manylinux2014_x86_64.whl (3.2 MB)\n",
      "\u001b[2K     \u001b[90m━━━━━━━━━━━━━━━━━━━━━━━━━━━━━━━━━━━━━━━━\u001b[0m \u001b[32m3.2/3.2 MB\u001b[0m \u001b[31m19.5 MB/s\u001b[0m eta \u001b[36m0:00:00\u001b[0m00:01\u001b[0m00:01\u001b[0m\n",
      "\u001b[?25hInstalling collected packages: rapidfuzz\n",
      "Successfully installed rapidfuzz-3.4.0\n"
     ]
    }
   ],
   "source": [
    "!pip install rapidfuzz"
   ]
  },
  {
   "cell_type": "code",
   "execution_count": 6,
   "id": "50c8e6cf-b3fb-4ec2-b516-ab28b835adf2",
   "metadata": {},
   "outputs": [
    {
     "name": "stdout",
     "output_type": "stream",
     "text": [
      "Collecting nltk\n",
      "  Using cached nltk-3.8.1-py3-none-any.whl (1.5 MB)\n",
      "Collecting click (from nltk)\n",
      "  Downloading click-8.1.7-py3-none-any.whl (97 kB)\n",
      "\u001b[2K     \u001b[90m━━━━━━━━━━━━━━━━━━━━━━━━━━━━━━━━━━━━━━━━\u001b[0m \u001b[32m97.9/97.9 kB\u001b[0m \u001b[31m5.1 MB/s\u001b[0m eta \u001b[36m0:00:00\u001b[0m\n",
      "\u001b[?25hCollecting joblib (from nltk)\n",
      "  Using cached joblib-1.3.2-py3-none-any.whl (302 kB)\n",
      "Collecting regex>=2021.8.3 (from nltk)\n",
      "  Downloading regex-2023.10.3-cp311-cp311-manylinux_2_17_x86_64.manylinux2014_x86_64.whl (785 kB)\n",
      "\u001b[2K     \u001b[90m━━━━━━━━━━━━━━━━━━━━━━━━━━━━━━━━━━━━━━\u001b[0m \u001b[32m785.1/785.1 kB\u001b[0m \u001b[31m16.9 MB/s\u001b[0m eta \u001b[36m0:00:00\u001b[0ma \u001b[36m0:00:01\u001b[0m\n",
      "\u001b[?25hRequirement already satisfied: tqdm in /home/laviniad/miniconda3/lib/python3.11/site-packages (from nltk) (4.65.0)\n",
      "Installing collected packages: regex, joblib, click, nltk\n",
      "Successfully installed click-8.1.7 joblib-1.3.2 nltk-3.8.1 regex-2023.10.3\n"
     ]
    }
   ],
   "source": [
    "!pip install nltk"
   ]
  },
  {
   "cell_type": "code",
   "execution_count": 8,
   "id": "f6ef4125-32ce-424d-9884-882cd59595d0",
   "metadata": {},
   "outputs": [
    {
     "name": "stdout",
     "output_type": "stream",
     "text": [
      "------------------------- Now evaluating -------------------------\n"
     ]
    }
   ],
   "source": [
    "import pandas as pd\n",
    "import argparse\n",
    "from tqdm import tqdm\n",
    "import json\n",
    "from src.bm25 import BM25Okapi\n",
    "from data.bible_utils import bible_helper, build_candidates\n",
    "from data.data_utils import get_verse_dicts\n",
    "from src.eval.eval_utils import load_paired_data, load_whole_sermon_data\n",
    "\n",
    "from src.relic_utils.utils import build_lit_instance, print_results, NUM_SENTS\n",
    "\n",
    "#SERMON_DF_PATH = '/data/laviniad/sermons-ir/sermoncentral/fsm/'\n",
    "BIBLE_PATH = '/home/laviniad/projects/religion_in_congress/data/AmericanKJVBible.txt'\n",
    "FUZZY_CITATION_DICT_PATH = '/data/laviniad/sermons-ir/fuzzy_citation_dict.json'\n",
    "\n",
    "#parser = argparse.ArgumentParser()\n",
    "#parser.add_argument('--split', default=\"train\", type=str)\n",
    "#parser.add_argument('--output_dir', default=\"/home/laviniad/projects/religion_in_congress/results/whole_sermon/bm25/\", type=str)\n",
    "#parser.add_argument('--num_examples', default=100, type=int)\n",
    "#args = parser.parse_args()\n",
    "\n",
    "bible_df = bible_helper(BIBLE_PATH)\n",
    "verse_text_dict, fuzzy_citation_dict = get_verse_dicts(FUZZY_CITATION_DICT_PATH, BIBLE_PATH)\n",
    "verse_text_dict = {k: v.lower() for k,v in verse_text_dict.items()}\n",
    "\n",
    "text_verse_dict = {v: k for k,v in verse_text_dict.items()}\n",
    "\n",
    "total = 0\n",
    "submission_data = {}\n",
    "\n",
    "\n",
    "cands = build_candidates(bible_df)\n",
    "verse_to_idx = {v.lower(): k for k,v in enumerate(cands)}\n",
    "\n",
    "tokenized_corpus = [verse.split(\" \") for verse in cands]\n",
    "bm25 = BM25Okapi(tokenized_corpus)\n",
    "\n",
    "\n",
    "print(f\"{'-' * 25} Now evaluating {'-' * 25}\")\n",
    "\n",
    "results = {\n",
    "    \"mean_rank\": [],\n",
    "    \"recall@1\": [],\n",
    "    \"recall@3\": [],\n",
    "    \"recall@5\": [],\n",
    "    \"recall@10\": [],\n",
    "    \"recall@50\": [],\n",
    "    \"recall@100\": [],\n",
    "    \"num_candidates\": []\n",
    "}\n",
    "\n",
    "QUERY = 'The Bible is very clear that God is the one that raises up those in authority. He raised up each of you, all of us. And I believe that God has ordained and allowed each one of us to be brought here for this specific moment.'\n",
    "\n",
    "#sermon_df, sermon_verse_data, sermon_texts = load_whole_sermon_data(SERMON_DF_PATH, args.split, verse_text_dict, verse_to_idx, args.num_examples, fuzzy_citation_dict)\n",
    "#full_len = float(len(commentary_verse_df.index))\n",
    "\n",
    "ranks = []\n",
    "\n",
    "tokenized_query = QUERY.split(\" \")  # just concatenating prefix and suffix"
   ]
  },
  {
   "cell_type": "code",
   "execution_count": 10,
   "id": "f772c311-f363-4636-bcbb-43e7f479bcb5",
   "metadata": {},
   "outputs": [
    {
     "name": "stdout",
     "output_type": "stream",
     "text": [
      "\n",
      "Results (1 instances):\n",
      "mean_rank = 9323.0000, recall@1 = 0.0000, recall@3 = 0.0000, recall@5 = 0.0000, recall@10 = 0.0000, recall@50 = 0.0000, recall@100 = 0.0000, num_candidates = nan, \n",
      "******************************\n",
      "[ 0.         24.04597613 12.93599392 ... 26.06557299  6.17914138\n",
      " 14.5995305 ]\n"
     ]
    },
    {
     "name": "stderr",
     "output_type": "stream",
     "text": [
      "/home/laviniad/miniconda3/lib/python3.11/site-packages/numpy/core/fromnumeric.py:3504: RuntimeWarning: Mean of empty slice.\n",
      "  return _methods._mean(a, axis=axis, dtype=dtype,\n",
      "/home/laviniad/miniconda3/lib/python3.11/site-packages/numpy/core/_methods.py:129: RuntimeWarning: invalid value encountered in scalar divide\n",
      "  ret = ret.dtype.type(ret / rcount)\n"
     ]
    }
   ],
   "source": [
    "quote_id = verse_to_idx[verse_text_dict['daniel 2:21']]\n",
    "result_verse_scores = bm25.get_scores(tokenized_query)\n",
    "sorted_scores = dict(sorted(enumerate(result_verse_scores), key=lambda x: x[0], reverse=True))\n",
    "sorted_score_idx, sorted_score_vals = list(sorted_scores.keys()), list(sorted_scores.values())\n",
    "\n",
    "gold_rank = sorted_score_idx.index(quote_id) + 1\n",
    "ranks.append(gold_rank)\n",
    "\n",
    "results[\"mean_rank\"].extend(ranks)\n",
    "results[\"recall@1\"].extend([x <= 1 for x in ranks])\n",
    "results[\"recall@3\"].extend([x <= 3 for x in ranks])\n",
    "results[\"recall@5\"].extend([x <= 5 for x in ranks])\n",
    "results[\"recall@10\"].extend([x <= 10 for x in ranks])\n",
    "results[\"recall@50\"].extend([x <= 50 for x in ranks])\n",
    "results[\"recall@100\"].extend([x <= 100 for x in ranks])\n",
    "\n",
    "print_results(results)\n",
    "\n",
    "print(\"*\" * 30)\n",
    "\n",
    "print(result_verse_scores)"
   ]
  },
  {
   "cell_type": "code",
   "execution_count": null,
   "id": "c037fc80-8d34-4337-b01b-6895ec7b1629",
   "metadata": {},
   "outputs": [],
   "source": []
  }
 ],
 "metadata": {
  "kernelspec": {
   "display_name": "Python 3 (ipykernel)",
   "language": "python",
   "name": "python3"
  },
  "language_info": {
   "codemirror_mode": {
    "name": "ipython",
    "version": 3
   },
   "file_extension": ".py",
   "mimetype": "text/x-python",
   "name": "python",
   "nbconvert_exporter": "python",
   "pygments_lexer": "ipython3",
   "version": "3.11.4"
  }
 },
 "nbformat": 4,
 "nbformat_minor": 5
}
