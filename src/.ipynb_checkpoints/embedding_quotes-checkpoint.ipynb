{
 "cells": [
  {
   "cell_type": "code",
   "execution_count": null,
   "id": "6412d0d3-9286-4aec-bf3a-22fbf25a9c21",
   "metadata": {},
   "outputs": [],
   "source": [
    "# import packages\n",
    "import pandas as pd\n",
    "import json\n",
    "import numpy as np\n",
    "import csv\n",
    "import matplotlib.pyplot as plt\n",
    "import seaborn as sns\n",
    "from pprint import pprint\n",
    "from collections import Counter\n",
    "from data import presidential_utils, congress_utils\n",
    "from data.bible_utils import comp_bible_helper\n",
    "import re\n",
    "from nltk.tokenize import sent_tokenize\n",
    "from tqdm.notebook import tqdm"
   ]
  },
  {
   "cell_type": "code",
   "execution_count": null,
   "id": "01f35fe5-ecbb-4e77-a332-5f6ba581b96b",
   "metadata": {},
   "outputs": [],
   "source": [
    "from transformers import RobertaForMaskedLM, RobertaTokenizer, pipeline"
   ]
  },
  {
   "cell_type": "code",
   "execution_count": null,
   "id": "46c91ab7-e877-4a11-8c98-67adf40678e0",
   "metadata": {},
   "outputs": [],
   "source": [
    "# load congressional data\n",
    "nonproc_indices = '/data/laviniad/congress_errata/nonprocedural_indices.json'\n",
    "congress_df = congress_utils.load_full_df_from_raw('/data/corpora/congressional-record/', remove_procedural_speeches=True, nonprocedural_indices_path=nonproc_indices)"
   ]
  },
  {
   "cell_type": "code",
   "execution_count": null,
   "id": "e75fae76-2b85-4c7a-ac96-2a9d96014f85",
   "metadata": {},
   "outputs": [],
   "source": [
    "# load popular bible verses\n",
    "\n",
    "TAG_RE = re.compile(r'<[^>]+>')\n",
    "\n",
    "def remove_tags(text):\n",
    "    return TAG_RE.sub('', text)\n",
    "\n",
    "bible_df = comp_bible_helper()\n",
    "pop_verses = pd.read_csv('/home/laviniad/projects/religion_in_congress/data/most_popular_verses.csv')\n",
    "n = 250\n",
    "pop_citations = list(pop_verses['verse'].iloc[1:n+1]) # remove 'UNKNOWN'\n",
    "\n",
    "bible_df['Verse'] = bible_df['Verse'].apply(lambda x: x.lower())\n",
    "bible_df = bible_df[bible_df['Verse'].apply(lambda x: x in pop_citations)]\n",
    "bible_df['text'] = bible_df['King James Bible'].apply(remove_tags)\n",
    "verses = bible_df['text']\n",
    "verse_to_citation = dict(zip(verses, bible_df['Verse']))"
   ]
  },
  {
   "cell_type": "code",
   "execution_count": 19,
   "id": "e2bbc1ea-9c1a-4924-af7d-88b77884641c",
   "metadata": {},
   "outputs": [],
   "source": [
    "# load embedding model\n",
    "\n",
    "USE_FINETUNED = True\n",
    "\n",
    "if USE_FINETUNED:\n",
    "    model = RobertaForMaskedLM.from_pretrained('roberta-large', output_hidden_states=True).to('cpu')\n",
    "    tokenizer = RobertaTokenizer.from_pretrained('roberta-large', model_max_length=model.config.max_position_embeddings, truncation=True)\n",
    "else:\n",
    "    model = RobertaForMaskedLM.from_pretrained(pretrained_model_name_or_path='/data/laviniad/sermons-ir/modeling/presidential_pretrained/checkpoint-110000', output_hidden_states=True).to('cpu')\n",
    "    tokenizer = RobertaTokenizer.from_pretrained('roberta-large', model_max_length=model.config.max_position_embeddings, truncation=True)"
   ]
  },
  {
   "cell_type": "code",
   "execution_count": null,
   "id": "c13cf93b-844b-4f31-bcd3-c509c2024d08",
   "metadata": {},
   "outputs": [],
   "source": [
    "# embed popular bible verses\n",
    "\n",
    "verse_idx_to_embedding = {}\n",
    "\n",
    "for idx,verse in tqdm(enumerate(verses)):\n",
    "    tokenized_input = tokenizer(verse, return_tensors=\"pt\", padding=True, truncation=True)\n",
    "    \n",
    "    # doesn't really need to be efficient\n",
    "    output = model(**tokenized_input)\n",
    "    hidden_states = output.hidden_states\n",
    "    representation = hidden_states[-1][:, 0, :]\n",
    "    verse_idx_to_embedding[idx] = representation"
   ]
  },
  {
   "cell_type": "code",
   "execution_count": null,
   "id": "8eaa2aa6-2740-423c-a153-4e9b2789cb2f",
   "metadata": {},
   "outputs": [],
   "source": [
    "pence_df = congress_df[congress_df['speaker'] == 'Mr. PENCE']\n",
    "print(f\"Number of Mike Pence utterances: {len(pence_df.index)}\")\n",
    "\n",
    "sentence_list = []\n",
    "\n",
    "for idx, row in tqdm(pence_df.iterrows(), total=len(pence_df.index)):\n",
    "    sentences = sent_tokenize(row['text'])\n",
    "    sentence_list += sentences"
   ]
  },
  {
   "cell_type": "code",
   "execution_count": 22,
   "id": "f03b949c-8333-4fb5-9897-0d357f6b92e5",
   "metadata": {},
   "outputs": [
    {
     "data": {
      "application/vnd.jupyter.widget-view+json": {
       "model_id": "c77f134d48f04d4693284f93b6af9558",
       "version_major": 2,
       "version_minor": 0
      },
      "text/plain": [
       "Downloading .gitattributes:   0%|          | 0.00/1.18k [00:00<?, ?B/s]"
      ]
     },
     "metadata": {},
     "output_type": "display_data"
    },
    {
     "data": {
      "application/vnd.jupyter.widget-view+json": {
       "model_id": "80796b9768e648c4a0ed1ed55b4f7dea",
       "version_major": 2,
       "version_minor": 0
      },
      "text/plain": [
       "Downloading 1_Pooling/config.json:   0%|          | 0.00/190 [00:00<?, ?B/s]"
      ]
     },
     "metadata": {},
     "output_type": "display_data"
    },
    {
     "data": {
      "application/vnd.jupyter.widget-view+json": {
       "model_id": "b48c4317aff64d118694e5ee171cfb3c",
       "version_major": 2,
       "version_minor": 0
      },
      "text/plain": [
       "Downloading README.md:   0%|          | 0.00/10.6k [00:00<?, ?B/s]"
      ]
     },
     "metadata": {},
     "output_type": "display_data"
    },
    {
     "data": {
      "application/vnd.jupyter.widget-view+json": {
       "model_id": "27b4b4655979445692a33bd42d6d1aef",
       "version_major": 2,
       "version_minor": 0
      },
      "text/plain": [
       "Downloading config.json:   0%|          | 0.00/571 [00:00<?, ?B/s]"
      ]
     },
     "metadata": {},
     "output_type": "display_data"
    },
    {
     "data": {
      "application/vnd.jupyter.widget-view+json": {
       "model_id": "6c119936faba45e4a1d30ae6c1e45186",
       "version_major": 2,
       "version_minor": 0
      },
      "text/plain": [
       "Downloading (…)ce_transformers.json:   0%|          | 0.00/116 [00:00<?, ?B/s]"
      ]
     },
     "metadata": {},
     "output_type": "display_data"
    },
    {
     "data": {
      "application/vnd.jupyter.widget-view+json": {
       "model_id": "8e8269a8981c4fad98fa7f533a02732a",
       "version_major": 2,
       "version_minor": 0
      },
      "text/plain": [
       "Downloading data_config.json:   0%|          | 0.00/39.3k [00:00<?, ?B/s]"
      ]
     },
     "metadata": {},
     "output_type": "display_data"
    },
    {
     "data": {
      "application/vnd.jupyter.widget-view+json": {
       "model_id": "ac4c5842bc44445eb80dfadad430dc7f",
       "version_major": 2,
       "version_minor": 0
      },
      "text/plain": [
       "Downloading pytorch_model.bin:   0%|          | 0.00/438M [00:00<?, ?B/s]"
      ]
     },
     "metadata": {},
     "output_type": "display_data"
    },
    {
     "data": {
      "application/vnd.jupyter.widget-view+json": {
       "model_id": "191eb216e64842faa03b12176a14497b",
       "version_major": 2,
       "version_minor": 0
      },
      "text/plain": [
       "Downloading (…)nce_bert_config.json:   0%|          | 0.00/53.0 [00:00<?, ?B/s]"
      ]
     },
     "metadata": {},
     "output_type": "display_data"
    },
    {
     "data": {
      "application/vnd.jupyter.widget-view+json": {
       "model_id": "b714557c50f04847ba2980ed81acaf3a",
       "version_major": 2,
       "version_minor": 0
      },
      "text/plain": [
       "Downloading (…)cial_tokens_map.json:   0%|          | 0.00/239 [00:00<?, ?B/s]"
      ]
     },
     "metadata": {},
     "output_type": "display_data"
    },
    {
     "data": {
      "application/vnd.jupyter.widget-view+json": {
       "model_id": "a7f0a0c6e6a5480980c983c599e3857d",
       "version_major": 2,
       "version_minor": 0
      },
      "text/plain": [
       "Downloading tokenizer.json:   0%|          | 0.00/466k [00:00<?, ?B/s]"
      ]
     },
     "metadata": {},
     "output_type": "display_data"
    },
    {
     "data": {
      "application/vnd.jupyter.widget-view+json": {
       "model_id": "6cf2a2f6c93b45a9ae78bbe2f648148a",
       "version_major": 2,
       "version_minor": 0
      },
      "text/plain": [
       "Downloading tokenizer_config.json:   0%|          | 0.00/363 [00:00<?, ?B/s]"
      ]
     },
     "metadata": {},
     "output_type": "display_data"
    },
    {
     "data": {
      "application/vnd.jupyter.widget-view+json": {
       "model_id": "d937775f611341659530ddfb3f25eef2",
       "version_major": 2,
       "version_minor": 0
      },
      "text/plain": [
       "Downloading train_script.py:   0%|          | 0.00/13.1k [00:00<?, ?B/s]"
      ]
     },
     "metadata": {},
     "output_type": "display_data"
    },
    {
     "data": {
      "application/vnd.jupyter.widget-view+json": {
       "model_id": "bbfc6e5381ba42de834fba6445ad43df",
       "version_major": 2,
       "version_minor": 0
      },
      "text/plain": [
       "Downloading vocab.txt:   0%|          | 0.00/232k [00:00<?, ?B/s]"
      ]
     },
     "metadata": {},
     "output_type": "display_data"
    },
    {
     "data": {
      "application/vnd.jupyter.widget-view+json": {
       "model_id": "b7d6bb397e3d4937b3044ea2b358ace2",
       "version_major": 2,
       "version_minor": 0
      },
      "text/plain": [
       "Downloading modules.json:   0%|          | 0.00/349 [00:00<?, ?B/s]"
      ]
     },
     "metadata": {},
     "output_type": "display_data"
    },
    {
     "name": "stdout",
     "output_type": "stream",
     "text": [
      "Top-25 most similar pairs:\n",
      "No greater love has a man than this, that he should lay down his life for his friends. \t Greater love hath no man than this, that a man lay down his life for his friends. \t 0.9404\n",
      "It is written, ``No greater love has a man than this that he should lay down his life for his friends.'' \t Greater love hath no man than this, that a man lay down his life for his friends. \t 0.9202\n",
      "It is written that no greater love has a man than this that he should lay down his life for his friends. \t Greater love hath no man than this, that a man lay down his life for his friends. \t 0.8910\n",
      "The Bible tells us that God has not given us the spirit of fear, but a spirit of power and love, and of a sound mind. \t For God hath not given us the spirit of fear; but of power, and of love, and of a sound mind. \t 0.8872\n",
      "Several millennia ago the words were written that a man should leave his father and mother and cleave to his wife and the two shall become one flesh. \t Therefore shall a man leave his father and his mother, and shall cleave unto his wife: and they shall be one flesh. \t 0.8579\n",
      "As we consider the lives of those who have had paid the ultimate price to secure our freedom, I am reminded of the verse that, ``Greater love hath no man than this, that he should lay down his life for his friends.'' \t Greater love hath no man than this, that a man lay down his life for his friends. \t 0.8479\n",
      "The Bible says ``No greater love has a man than this, that he should lay down his life for his friends.'' \t Greater love hath no man than this, that a man lay down his life for his friends. \t 0.8382\n",
      "The Bible tells us that God created man in his own imagine, male and female. \t So God created man in his own image, in the image of God created he him; male and female created he them. \t 0.7818\n",
      "It says ``In what, O, man, is required of you but this: To do justice, to love kindness, and to walk humbly with your God.'' \t He hath shewed thee, O man, what is good; and what doth the LORD require of thee, but to do justly, and to love mercy, and to walk humbly with thy God? \t 0.7735\n",
      "And with this I close: The Bible tells us we have three duties; to do justice, to love kindness, to walk humbly with our God. \t Bear ye one another's burdens, and so fulfil the law of Christ. \t 0.7690\n",
      "The Good Book tells us that where the spirit of the Lord is, there is liberty. \t For, brethren, ye have been called unto liberty; only use not liberty for an occasion to the flesh, but by love serve one another. \t 0.7507\n",
      "It says ``In what, O, man, is required of you but this: To do justice, to love kindness, and to walk humbly with your God.'' \t Follow peace with all men, and holiness, without which no man shall see the Lord: \t 0.7378\n",
      "Rather, in humility value others above yourselves, not looking to your own interests but each of you to the interests of the others.'' \t Let nothing be done through strife or vainglory; but in lowliness of mind let each esteem other better than themselves. \t 0.7323\n",
      "To do justice, to love kindness, to walk humbly with your God. \t Bear ye one another's burdens, and so fulfil the law of Christ. \t 0.7291\n",
      "The Good Book tells us that where the spirit of the Lord is, there is liberty. \t Stand fast therefore in the liberty wherewith Christ hath made us free, and be not entangled again with the yoke of bondage. \t 0.7091\n",
      "It is written that ``Where the spirit of the Lord is, there is liberty.'' \t For, brethren, ye have been called unto liberty; only use not liberty for an occasion to the flesh, but by love serve one another. \t 0.7030\n",
      "It says ``In what, O, man, is required of you but this: To do justice, to love kindness, and to walk humbly with your God.'' \t And he answering said, Thou shalt love the Lord thy God with all thy heart, and with all thy soul, and with all thy strength, and with all thy mind; and thy neighbour as thyself. \t 0.6986\n",
      "But as we were reminded so poignantly today by leaders of both parties and eloquently by our President and the Chief of Naval Operations, we gather as Americans because we believe that if His people who are called by His name will humble themselves and pray and seek His face, He will today, as He always has, hear from heaven, forgive our sins and heal our land. \t If my people, which are called by my name, shall humble themselves, and pray, and seek my face, and turn from their wicked ways; then will I hear from heaven, and will forgive their sin, and will heal their land. \t 0.6910\n",
      "It says ``In what, O, man, is required of you but this: To do justice, to love kindness, and to walk humbly with your God.'' \t And be not conformed to this world: but be ye transformed by the renewing of your mind, that ye may prove what is that good, and acceptable, and perfect, will of God. \t 0.6849\n",
      "You know, the Old Book tells us what is required: do justice, love kindness, and walk humbly with your God. \t Follow peace with all men, and holiness, without which no man shall see the Lord: \t 0.6776\n",
      "It is written in the Good Book, ``Do your best to present yourself to God as one approved, a workman who does not need to be ashamed and who correctly handles the word of truth.'' \t Study to shew thyself approved unto God, a workman that needeth not to be ashamed, rightly dividing the word of truth. \t 0.6729\n",
      "The Good Book tells us, and what does the Lord require of you? \t He hath shewed thee, O man, what is good; and what doth the LORD require of thee, but to do justly, and to love mercy, and to walk humbly with thy God? \t 0.6728\n",
      "It says ``In what, O, man, is required of you but this: To do justice, to love kindness, and to walk humbly with your God.'' \t Bear ye one another's burdens, and so fulfil the law of Christ. \t 0.6700\n",
      "And with this I close: The Bible tells us we have three duties; to do justice, to love kindness, to walk humbly with our God. \t He hath shewed thee, O man, what is good; and what doth the LORD require of thee, but to do justly, and to love mercy, and to walk humbly with thy God? \t 0.6668\n",
      "To do justice, to love kindness, to walk humbly with your God. \t Follow peace with all men, and holiness, without which no man shall see the Lord: \t 0.6664\n"
     ]
    }
   ],
   "source": [
    "from sentence_transformers import SentenceTransformer, util\n",
    "# literally JUST minilm\n",
    "model = SentenceTransformer('all-mpnet-base-v2')\n",
    "\n",
    "pence_embeddings = model.encode(sentence_list)\n",
    "verse_embeddings = model.encode(list(verses))\n",
    "cos_sim = util.cos_sim(pence_embeddings, verse_embeddings)\n",
    "\n",
    "all_sentence_combinations = []\n",
    "for i in range(len(pence_embeddings)):\n",
    "    for j in range(len(verse_embeddings)):\n",
    "        all_sentence_combinations.append([cos_sim[i][j], i, j])\n",
    "\n",
    "all_sentence_combinations = sorted(all_sentence_combinations, key=lambda x: x[0], reverse=True)\n",
    "\n",
    "print(\"Top-25 most similar pairs:\")\n",
    "for score, i, j in all_sentence_combinations[0:25]:\n",
    "    print(\"{} \\t {} \\t {:.4f}\".format(sentence_list[i], list(verses)[j], cos_sim[i][j]))"
   ]
  },
  {
   "cell_type": "code",
   "execution_count": 24,
   "id": "7b3898a7-14f4-4126-91a7-ba3a56d09d1e",
   "metadata": {},
   "outputs": [
    {
     "ename": "IsADirectoryError",
     "evalue": "[Errno 21] Is a directory: '/home/laviniad/projects/religion_in_congress/'",
     "output_type": "error",
     "traceback": [
      "\u001b[0;31m---------------------------------------------------------------------------\u001b[0m",
      "\u001b[0;31mIsADirectoryError\u001b[0m                         Traceback (most recent call last)",
      "Cell \u001b[0;32mIn[24], line 10\u001b[0m\n\u001b[1;32m      4\u001b[0m \u001b[38;5;28;01mfor\u001b[39;00m score, i, j \u001b[38;5;129;01min\u001b[39;00m all_sentence_combinations[:\u001b[38;5;241m500\u001b[39m]:\n\u001b[1;32m      5\u001b[0m     results_df\u001b[38;5;241m.\u001b[39mappend({\u001b[38;5;124m'\u001b[39m\u001b[38;5;124mpence_sentence\u001b[39m\u001b[38;5;124m'\u001b[39m: sentence_list[i],\n\u001b[1;32m      6\u001b[0m                        \u001b[38;5;124m'\u001b[39m\u001b[38;5;124mbible_verse\u001b[39m\u001b[38;5;124m'\u001b[39m: verses[j],\n\u001b[1;32m      7\u001b[0m                        \u001b[38;5;124m'\u001b[39m\u001b[38;5;124msimilarity\u001b[39m\u001b[38;5;124m'\u001b[39m: cos_sim[i][j]\n\u001b[1;32m      8\u001b[0m     })\n\u001b[0;32m---> 10\u001b[0m pd\u001b[38;5;241m.\u001b[39mDataFrame(results_df)\u001b[38;5;241m.\u001b[39mto_csv(\u001b[38;5;124m'\u001b[39m\u001b[38;5;124m/home/laviniad/projects/religion_in_congress/\u001b[39m\u001b[38;5;124m'\u001b[39m)\n",
      "File \u001b[0;32m~/miniconda3/envs/sermons/lib/python3.11/site-packages/pandas/core/generic.py:3902\u001b[0m, in \u001b[0;36mNDFrame.to_csv\u001b[0;34m(self, path_or_buf, sep, na_rep, float_format, columns, header, index, index_label, mode, encoding, compression, quoting, quotechar, lineterminator, chunksize, date_format, doublequote, escapechar, decimal, errors, storage_options)\u001b[0m\n\u001b[1;32m   3891\u001b[0m df \u001b[38;5;241m=\u001b[39m \u001b[38;5;28mself\u001b[39m \u001b[38;5;28;01mif\u001b[39;00m \u001b[38;5;28misinstance\u001b[39m(\u001b[38;5;28mself\u001b[39m, ABCDataFrame) \u001b[38;5;28;01melse\u001b[39;00m \u001b[38;5;28mself\u001b[39m\u001b[38;5;241m.\u001b[39mto_frame()\n\u001b[1;32m   3893\u001b[0m formatter \u001b[38;5;241m=\u001b[39m DataFrameFormatter(\n\u001b[1;32m   3894\u001b[0m     frame\u001b[38;5;241m=\u001b[39mdf,\n\u001b[1;32m   3895\u001b[0m     header\u001b[38;5;241m=\u001b[39mheader,\n\u001b[0;32m   (...)\u001b[0m\n\u001b[1;32m   3899\u001b[0m     decimal\u001b[38;5;241m=\u001b[39mdecimal,\n\u001b[1;32m   3900\u001b[0m )\n\u001b[0;32m-> 3902\u001b[0m \u001b[38;5;28;01mreturn\u001b[39;00m DataFrameRenderer(formatter)\u001b[38;5;241m.\u001b[39mto_csv(\n\u001b[1;32m   3903\u001b[0m     path_or_buf,\n\u001b[1;32m   3904\u001b[0m     lineterminator\u001b[38;5;241m=\u001b[39mlineterminator,\n\u001b[1;32m   3905\u001b[0m     sep\u001b[38;5;241m=\u001b[39msep,\n\u001b[1;32m   3906\u001b[0m     encoding\u001b[38;5;241m=\u001b[39mencoding,\n\u001b[1;32m   3907\u001b[0m     errors\u001b[38;5;241m=\u001b[39merrors,\n\u001b[1;32m   3908\u001b[0m     compression\u001b[38;5;241m=\u001b[39mcompression,\n\u001b[1;32m   3909\u001b[0m     quoting\u001b[38;5;241m=\u001b[39mquoting,\n\u001b[1;32m   3910\u001b[0m     columns\u001b[38;5;241m=\u001b[39mcolumns,\n\u001b[1;32m   3911\u001b[0m     index_label\u001b[38;5;241m=\u001b[39mindex_label,\n\u001b[1;32m   3912\u001b[0m     mode\u001b[38;5;241m=\u001b[39mmode,\n\u001b[1;32m   3913\u001b[0m     chunksize\u001b[38;5;241m=\u001b[39mchunksize,\n\u001b[1;32m   3914\u001b[0m     quotechar\u001b[38;5;241m=\u001b[39mquotechar,\n\u001b[1;32m   3915\u001b[0m     date_format\u001b[38;5;241m=\u001b[39mdate_format,\n\u001b[1;32m   3916\u001b[0m     doublequote\u001b[38;5;241m=\u001b[39mdoublequote,\n\u001b[1;32m   3917\u001b[0m     escapechar\u001b[38;5;241m=\u001b[39mescapechar,\n\u001b[1;32m   3918\u001b[0m     storage_options\u001b[38;5;241m=\u001b[39mstorage_options,\n\u001b[1;32m   3919\u001b[0m )\n",
      "File \u001b[0;32m~/miniconda3/envs/sermons/lib/python3.11/site-packages/pandas/io/formats/format.py:1152\u001b[0m, in \u001b[0;36mDataFrameRenderer.to_csv\u001b[0;34m(self, path_or_buf, encoding, sep, columns, index_label, mode, compression, quoting, quotechar, lineterminator, chunksize, date_format, doublequote, escapechar, errors, storage_options)\u001b[0m\n\u001b[1;32m   1131\u001b[0m     created_buffer \u001b[38;5;241m=\u001b[39m \u001b[38;5;28;01mFalse\u001b[39;00m\n\u001b[1;32m   1133\u001b[0m csv_formatter \u001b[38;5;241m=\u001b[39m CSVFormatter(\n\u001b[1;32m   1134\u001b[0m     path_or_buf\u001b[38;5;241m=\u001b[39mpath_or_buf,\n\u001b[1;32m   1135\u001b[0m     lineterminator\u001b[38;5;241m=\u001b[39mlineterminator,\n\u001b[0;32m   (...)\u001b[0m\n\u001b[1;32m   1150\u001b[0m     formatter\u001b[38;5;241m=\u001b[39m\u001b[38;5;28mself\u001b[39m\u001b[38;5;241m.\u001b[39mfmt,\n\u001b[1;32m   1151\u001b[0m )\n\u001b[0;32m-> 1152\u001b[0m csv_formatter\u001b[38;5;241m.\u001b[39msave()\n\u001b[1;32m   1154\u001b[0m \u001b[38;5;28;01mif\u001b[39;00m created_buffer:\n\u001b[1;32m   1155\u001b[0m     \u001b[38;5;28;01massert\u001b[39;00m \u001b[38;5;28misinstance\u001b[39m(path_or_buf, StringIO)\n",
      "File \u001b[0;32m~/miniconda3/envs/sermons/lib/python3.11/site-packages/pandas/io/formats/csvs.py:247\u001b[0m, in \u001b[0;36mCSVFormatter.save\u001b[0;34m(self)\u001b[0m\n\u001b[1;32m    243\u001b[0m \u001b[38;5;250m\u001b[39m\u001b[38;5;124;03m\"\"\"\u001b[39;00m\n\u001b[1;32m    244\u001b[0m \u001b[38;5;124;03mCreate the writer & save.\u001b[39;00m\n\u001b[1;32m    245\u001b[0m \u001b[38;5;124;03m\"\"\"\u001b[39;00m\n\u001b[1;32m    246\u001b[0m \u001b[38;5;66;03m# apply compression and byte/text conversion\u001b[39;00m\n\u001b[0;32m--> 247\u001b[0m \u001b[38;5;28;01mwith\u001b[39;00m get_handle(\n\u001b[1;32m    248\u001b[0m     \u001b[38;5;28mself\u001b[39m\u001b[38;5;241m.\u001b[39mfilepath_or_buffer,\n\u001b[1;32m    249\u001b[0m     \u001b[38;5;28mself\u001b[39m\u001b[38;5;241m.\u001b[39mmode,\n\u001b[1;32m    250\u001b[0m     encoding\u001b[38;5;241m=\u001b[39m\u001b[38;5;28mself\u001b[39m\u001b[38;5;241m.\u001b[39mencoding,\n\u001b[1;32m    251\u001b[0m     errors\u001b[38;5;241m=\u001b[39m\u001b[38;5;28mself\u001b[39m\u001b[38;5;241m.\u001b[39merrors,\n\u001b[1;32m    252\u001b[0m     compression\u001b[38;5;241m=\u001b[39m\u001b[38;5;28mself\u001b[39m\u001b[38;5;241m.\u001b[39mcompression,\n\u001b[1;32m    253\u001b[0m     storage_options\u001b[38;5;241m=\u001b[39m\u001b[38;5;28mself\u001b[39m\u001b[38;5;241m.\u001b[39mstorage_options,\n\u001b[1;32m    254\u001b[0m ) \u001b[38;5;28;01mas\u001b[39;00m handles:\n\u001b[1;32m    255\u001b[0m     \u001b[38;5;66;03m# Note: self.encoding is irrelevant here\u001b[39;00m\n\u001b[1;32m    256\u001b[0m     \u001b[38;5;28mself\u001b[39m\u001b[38;5;241m.\u001b[39mwriter \u001b[38;5;241m=\u001b[39m csvlib\u001b[38;5;241m.\u001b[39mwriter(\n\u001b[1;32m    257\u001b[0m         handles\u001b[38;5;241m.\u001b[39mhandle,\n\u001b[1;32m    258\u001b[0m         lineterminator\u001b[38;5;241m=\u001b[39m\u001b[38;5;28mself\u001b[39m\u001b[38;5;241m.\u001b[39mlineterminator,\n\u001b[0;32m   (...)\u001b[0m\n\u001b[1;32m    263\u001b[0m         quotechar\u001b[38;5;241m=\u001b[39m\u001b[38;5;28mself\u001b[39m\u001b[38;5;241m.\u001b[39mquotechar,\n\u001b[1;32m    264\u001b[0m     )\n\u001b[1;32m    266\u001b[0m     \u001b[38;5;28mself\u001b[39m\u001b[38;5;241m.\u001b[39m_save()\n",
      "File \u001b[0;32m~/miniconda3/envs/sermons/lib/python3.11/site-packages/pandas/io/common.py:863\u001b[0m, in \u001b[0;36mget_handle\u001b[0;34m(path_or_buf, mode, encoding, compression, memory_map, is_text, errors, storage_options)\u001b[0m\n\u001b[1;32m    858\u001b[0m \u001b[38;5;28;01melif\u001b[39;00m \u001b[38;5;28misinstance\u001b[39m(handle, \u001b[38;5;28mstr\u001b[39m):\n\u001b[1;32m    859\u001b[0m     \u001b[38;5;66;03m# Check whether the filename is to be opened in binary mode.\u001b[39;00m\n\u001b[1;32m    860\u001b[0m     \u001b[38;5;66;03m# Binary mode does not support 'encoding' and 'newline'.\u001b[39;00m\n\u001b[1;32m    861\u001b[0m     \u001b[38;5;28;01mif\u001b[39;00m ioargs\u001b[38;5;241m.\u001b[39mencoding \u001b[38;5;129;01mand\u001b[39;00m \u001b[38;5;124m\"\u001b[39m\u001b[38;5;124mb\u001b[39m\u001b[38;5;124m\"\u001b[39m \u001b[38;5;129;01mnot\u001b[39;00m \u001b[38;5;129;01min\u001b[39;00m ioargs\u001b[38;5;241m.\u001b[39mmode:\n\u001b[1;32m    862\u001b[0m         \u001b[38;5;66;03m# Encoding\u001b[39;00m\n\u001b[0;32m--> 863\u001b[0m         handle \u001b[38;5;241m=\u001b[39m \u001b[38;5;28mopen\u001b[39m(\n\u001b[1;32m    864\u001b[0m             handle,\n\u001b[1;32m    865\u001b[0m             ioargs\u001b[38;5;241m.\u001b[39mmode,\n\u001b[1;32m    866\u001b[0m             encoding\u001b[38;5;241m=\u001b[39mioargs\u001b[38;5;241m.\u001b[39mencoding,\n\u001b[1;32m    867\u001b[0m             errors\u001b[38;5;241m=\u001b[39merrors,\n\u001b[1;32m    868\u001b[0m             newline\u001b[38;5;241m=\u001b[39m\u001b[38;5;124m\"\u001b[39m\u001b[38;5;124m\"\u001b[39m,\n\u001b[1;32m    869\u001b[0m         )\n\u001b[1;32m    870\u001b[0m     \u001b[38;5;28;01melse\u001b[39;00m:\n\u001b[1;32m    871\u001b[0m         \u001b[38;5;66;03m# Binary mode\u001b[39;00m\n\u001b[1;32m    872\u001b[0m         handle \u001b[38;5;241m=\u001b[39m \u001b[38;5;28mopen\u001b[39m(handle, ioargs\u001b[38;5;241m.\u001b[39mmode)\n",
      "\u001b[0;31mIsADirectoryError\u001b[0m: [Errno 21] Is a directory: '/home/laviniad/projects/religion_in_congress/'"
     ]
    }
   ],
   "source": [
    "results_df = []\n",
    "verses = list(verses)\n",
    "\n",
    "for score, i, j in all_sentence_combinations[:500]:\n",
    "    results_df.append({'pence_sentence': sentence_list[i],\n",
    "                       'bible_verse': verses[j],\n",
    "                       'similarity': cos_sim[i][j]\n",
    "    })\n",
    "    \n",
    "pd.DataFrame(results_df).to_csv('/home/laviniad/projects/religion_in_congress/data/pence_bible_similarity.csv')"
   ]
  },
  {
   "cell_type": "code",
   "execution_count": 23,
   "id": "f30034e8-8d38-4a93-8388-cdbf7c149120",
   "metadata": {},
   "outputs": [
    {
     "name": "stdout",
     "output_type": "stream",
     "text": [
      "No greater love has a man than this, that he should lay down his life for his friends. \t Greater love hath no man than this, that a man lay down his life for his friends. \t 0.9404\n",
      "It is written, ``No greater love has a man than this that he should lay down his life for his friends.'' \t Greater love hath no man than this, that a man lay down his life for his friends. \t 0.9202\n",
      "It is written that no greater love has a man than this that he should lay down his life for his friends. \t Greater love hath no man than this, that a man lay down his life for his friends. \t 0.8910\n",
      "The Bible tells us that God has not given us the spirit of fear, but a spirit of power and love, and of a sound mind. \t For God hath not given us the spirit of fear; but of power, and of love, and of a sound mind. \t 0.8872\n",
      "Several millennia ago the words were written that a man should leave his father and mother and cleave to his wife and the two shall become one flesh. \t Therefore shall a man leave his father and his mother, and shall cleave unto his wife: and they shall be one flesh. \t 0.8579\n",
      "As we consider the lives of those who have had paid the ultimate price to secure our freedom, I am reminded of the verse that, ``Greater love hath no man than this, that he should lay down his life for his friends.'' \t Greater love hath no man than this, that a man lay down his life for his friends. \t 0.8479\n",
      "The Bible says ``No greater love has a man than this, that he should lay down his life for his friends.'' \t Greater love hath no man than this, that a man lay down his life for his friends. \t 0.8382\n",
      "The Bible tells us that God created man in his own imagine, male and female. \t So God created man in his own image, in the image of God created he him; male and female created he them. \t 0.7818\n",
      "It says ``In what, O, man, is required of you but this: To do justice, to love kindness, and to walk humbly with your God.'' \t He hath shewed thee, O man, what is good; and what doth the LORD require of thee, but to do justly, and to love mercy, and to walk humbly with thy God? \t 0.7735\n",
      "And with this I close: The Bible tells us we have three duties; to do justice, to love kindness, to walk humbly with our God. \t Bear ye one another's burdens, and so fulfil the law of Christ. \t 0.7690\n",
      "The Good Book tells us that where the spirit of the Lord is, there is liberty. \t For, brethren, ye have been called unto liberty; only use not liberty for an occasion to the flesh, but by love serve one another. \t 0.7507\n",
      "It says ``In what, O, man, is required of you but this: To do justice, to love kindness, and to walk humbly with your God.'' \t Follow peace with all men, and holiness, without which no man shall see the Lord: \t 0.7378\n",
      "Rather, in humility value others above yourselves, not looking to your own interests but each of you to the interests of the others.'' \t Let nothing be done through strife or vainglory; but in lowliness of mind let each esteem other better than themselves. \t 0.7323\n",
      "To do justice, to love kindness, to walk humbly with your God. \t Bear ye one another's burdens, and so fulfil the law of Christ. \t 0.7291\n",
      "The Good Book tells us that where the spirit of the Lord is, there is liberty. \t Stand fast therefore in the liberty wherewith Christ hath made us free, and be not entangled again with the yoke of bondage. \t 0.7091\n",
      "It is written that ``Where the spirit of the Lord is, there is liberty.'' \t For, brethren, ye have been called unto liberty; only use not liberty for an occasion to the flesh, but by love serve one another. \t 0.7030\n",
      "It says ``In what, O, man, is required of you but this: To do justice, to love kindness, and to walk humbly with your God.'' \t And he answering said, Thou shalt love the Lord thy God with all thy heart, and with all thy soul, and with all thy strength, and with all thy mind; and thy neighbour as thyself. \t 0.6986\n",
      "But as we were reminded so poignantly today by leaders of both parties and eloquently by our President and the Chief of Naval Operations, we gather as Americans because we believe that if His people who are called by His name will humble themselves and pray and seek His face, He will today, as He always has, hear from heaven, forgive our sins and heal our land. \t If my people, which are called by my name, shall humble themselves, and pray, and seek my face, and turn from their wicked ways; then will I hear from heaven, and will forgive their sin, and will heal their land. \t 0.6910\n",
      "It says ``In what, O, man, is required of you but this: To do justice, to love kindness, and to walk humbly with your God.'' \t And be not conformed to this world: but be ye transformed by the renewing of your mind, that ye may prove what is that good, and acceptable, and perfect, will of God. \t 0.6849\n",
      "You know, the Old Book tells us what is required: do justice, love kindness, and walk humbly with your God. \t Follow peace with all men, and holiness, without which no man shall see the Lord: \t 0.6776\n",
      "It is written in the Good Book, ``Do your best to present yourself to God as one approved, a workman who does not need to be ashamed and who correctly handles the word of truth.'' \t Study to shew thyself approved unto God, a workman that needeth not to be ashamed, rightly dividing the word of truth. \t 0.6729\n",
      "The Good Book tells us, and what does the Lord require of you? \t He hath shewed thee, O man, what is good; and what doth the LORD require of thee, but to do justly, and to love mercy, and to walk humbly with thy God? \t 0.6728\n",
      "It says ``In what, O, man, is required of you but this: To do justice, to love kindness, and to walk humbly with your God.'' \t Bear ye one another's burdens, and so fulfil the law of Christ. \t 0.6700\n",
      "And with this I close: The Bible tells us we have three duties; to do justice, to love kindness, to walk humbly with our God. \t He hath shewed thee, O man, what is good; and what doth the LORD require of thee, but to do justly, and to love mercy, and to walk humbly with thy God? \t 0.6668\n",
      "To do justice, to love kindness, to walk humbly with your God. \t Follow peace with all men, and holiness, without which no man shall see the Lord: \t 0.6664\n"
     ]
    }
   ],
   "source": [
    "for score, i, j in all_sentence_combinations[0:25]:\n",
    "    print(\"{} \\t {} \\t {:.4f}\".format(sentence_list[i], list(verses)[j], cos_sim[i][j]))"
   ]
  },
  {
   "cell_type": "code",
   "execution_count": null,
   "id": "bed9cf08-3d54-49be-8968-4a4e58108473",
   "metadata": {},
   "outputs": [],
   "source": [
    "# embed pence (speaker tag: 'Mr. PENCE')\n",
    "\n",
    "import sys\n",
    "\n",
    "sentence_batch_size = 4\n",
    "\n",
    "pence_df = congress_df[congress_df['speaker'] == 'Mr. PENCE']\n",
    "print(f\"Number of Mike Pence utterances: {len(pence_df.index)}\")\n",
    "df_idx_to_embedding = {}\n",
    "\n",
    "for idx, row in tqdm(pence_df.iterrows(), total=len(pence_df.index)):\n",
    "    sentences = sent_tokenize(row['text'])\n",
    "\n",
    "    for batch_start in range(0, len(sentences), sentence_batch_size):\n",
    "        batch_end = min(batch_start + sentence_batch_size, len(sentences))\n",
    "        batch_sentences = sentences[batch_start:batch_end]\n",
    "\n",
    "        tokenized_input = tokenizer(batch_sentences, return_tensors=\"pt\", \n",
    "                                    padding=True, truncation=True\n",
    "                                   ).to('cuda:1')\n",
    "\n",
    "        output = model(**tokenized_input)\n",
    "        hidden_states = output.hidden_states\n",
    "        cls_token_representation = hidden_states[-1][:, 0, :].to('cpu')\n",
    "        representation_list = list(cls_token_representation.split(1, dim=0))\n",
    "        \n",
    "        # memory issues???\n",
    "        del tokenized_input\n",
    "        del output\n",
    "        del hidden_states\n",
    "        del cls_token_representation\n",
    "\n",
    "        df_idx_to_embedding[idx] = df_idx_to_embedding.get(idx, []) + representation_list\n",
    "\n",
    "    if idx % 50 == 0:\n",
    "        size = sys.getsizeof(df_idx_to_embedding)"
   ]
  },
  {
   "cell_type": "code",
   "execution_count": null,
   "id": "aaab7844-fb19-498a-afcc-22bf76628e12",
   "metadata": {},
   "outputs": [],
   "source": [
    "# reshape pence embeddings to be one long list\n",
    "sentence_idx_to_df_idx = {}\n",
    "sentence_idx_to_embedding = {}\n",
    "\n",
    "count = 0\n",
    "\n",
    "for idx,e in df_idx_to_embedding.items():\n",
    "    for i,embedding in enumerate(e):\n",
    "        sentence_idx_to_df_idx[count] = idx\n",
    "        sentence_idx_to_embedding[count] = embedding\n",
    "        count += 1"
   ]
  },
  {
   "cell_type": "code",
   "execution_count": null,
   "id": "45377073-82d1-4b24-9e53-650f9d53f1ae",
   "metadata": {},
   "outputs": [],
   "source": [
    "# compute pairwise similarity\n",
    "\n",
    "from sklearn.metrics.pairwise import cosine_similarity\n",
    "import torch\n",
    "\n",
    "similarity_matrix = cosine_similarity(list(sentence_idx_to_embedding.values()), list(verse_idx_to_embedding.values())) # now similarity_matrix[i,j] corresponds to similarity between sentence i and verse j"
   ]
  },
  {
   "cell_type": "code",
   "execution_count": null,
   "id": "57945cc0-697d-4bdc-bfa2-46faf6d4d10c",
   "metadata": {},
   "outputs": [],
   "source": [
    "# evaluate most similar pairs\n",
    "\n",
    "most_similar_indices = torch.argmax(similarity_matrix, dim=1)\n",
    "most_similar_pairs = [(i, most_similar_indices[i].item()) for i in range(len(most_similar_indices))]"
   ]
  },
  {
   "cell_type": "code",
   "execution_count": null,
   "id": "5a859068-4b1e-4f46-8deb-2005cff8a8f5",
   "metadata": {},
   "outputs": [],
   "source": []
  }
 ],
 "metadata": {
  "kernelspec": {
   "display_name": "sermons",
   "language": "python",
   "name": "sermons"
  },
  "language_info": {
   "codemirror_mode": {
    "name": "ipython",
    "version": 3
   },
   "file_extension": ".py",
   "mimetype": "text/x-python",
   "name": "python",
   "nbconvert_exporter": "python",
   "pygments_lexer": "ipython3",
   "version": "3.11.5"
  }
 },
 "nbformat": 4,
 "nbformat_minor": 5
}
