{
 "cells": [
  {
   "cell_type": "code",
   "execution_count": 2,
   "id": "47036dd5-4c52-4c8e-b837-32d48f68cecd",
   "metadata": {},
   "outputs": [],
   "source": [
    "import pandas as pd\n",
    "import torch\n",
    "from transformers import AutoModel, AutoTokenizer\n",
    "from src.references.train_biencoder import BiModel"
   ]
  },
  {
   "cell_type": "code",
   "execution_count": 6,
   "id": "dc332f2f-0b64-4fcb-84c0-3ee44f4e81e2",
   "metadata": {},
   "outputs": [],
   "source": [
    "#full_model = BiModel()\n",
    "#checkpoint = torch.load('/data/laviniad/sermons-ir/modeling/tuned_mpnet/model.pth', map_location='cpu')\n",
    "#full_model.load_state_dict(checkpoint)"
   ]
  },
  {
   "cell_type": "code",
   "execution_count": 7,
   "id": "d11713bc-f1f4-47e2-ae7e-0caa36147339",
   "metadata": {},
   "outputs": [],
   "source": [
    "model = torch.load('/data/laviniad/sermons-ir/modeling/tuned_mpnet/model.pth')"
   ]
  },
  {
   "cell_type": "code",
   "execution_count": 13,
   "id": "aaa1a157-e2b4-4147-8bc8-c5bb54bee2b4",
   "metadata": {},
   "outputs": [
    {
     "data": {
      "text/plain": [
       "_IncompatibleKeys(missing_keys=['model.embeddings.position_ids'], unexpected_keys=[])"
      ]
     },
     "execution_count": 13,
     "metadata": {},
     "output_type": "execute_result"
    }
   ],
   "source": [
    "full_model = BiModel(device='cpu')\n",
    "\n",
    "# Load the state dictionary\n",
    "checkpoint = torch.load('/data/laviniad/sermons-ir/modeling/tuned_mpnet/model.pth', map_location='cpu')\n",
    "\n",
    "# Make sure the model architecture is the same\n",
    "# If there are additional components like embeddings, make sure to define them in your model class\n",
    "full_model.load_state_dict(checkpoint, strict=False)"
   ]
  },
  {
   "cell_type": "code",
   "execution_count": 14,
   "id": "1529fdaf-6f1b-4afb-8543-1d4dc40a981d",
   "metadata": {},
   "outputs": [
    {
     "data": {
      "text/plain": [
       "BiModel(\n",
       "  (model): MPNetModel(\n",
       "    (embeddings): MPNetEmbeddings(\n",
       "      (word_embeddings): Embedding(30527, 768, padding_idx=1)\n",
       "      (position_embeddings): Embedding(514, 768, padding_idx=1)\n",
       "      (LayerNorm): LayerNorm((768,), eps=1e-05, elementwise_affine=True)\n",
       "      (dropout): Dropout(p=0.1, inplace=False)\n",
       "    )\n",
       "    (encoder): MPNetEncoder(\n",
       "      (layer): ModuleList(\n",
       "        (0-11): 12 x MPNetLayer(\n",
       "          (attention): MPNetAttention(\n",
       "            (attn): MPNetSelfAttention(\n",
       "              (q): Linear(in_features=768, out_features=768, bias=True)\n",
       "              (k): Linear(in_features=768, out_features=768, bias=True)\n",
       "              (v): Linear(in_features=768, out_features=768, bias=True)\n",
       "              (o): Linear(in_features=768, out_features=768, bias=True)\n",
       "              (dropout): Dropout(p=0.1, inplace=False)\n",
       "            )\n",
       "            (LayerNorm): LayerNorm((768,), eps=1e-05, elementwise_affine=True)\n",
       "            (dropout): Dropout(p=0.1, inplace=False)\n",
       "          )\n",
       "          (intermediate): MPNetIntermediate(\n",
       "            (dense): Linear(in_features=768, out_features=3072, bias=True)\n",
       "            (intermediate_act_fn): GELUActivation()\n",
       "          )\n",
       "          (output): MPNetOutput(\n",
       "            (dense): Linear(in_features=3072, out_features=768, bias=True)\n",
       "            (LayerNorm): LayerNorm((768,), eps=1e-05, elementwise_affine=True)\n",
       "            (dropout): Dropout(p=0.1, inplace=False)\n",
       "          )\n",
       "        )\n",
       "      )\n",
       "      (relative_attention_bias): Embedding(32, 12)\n",
       "    )\n",
       "    (pooler): MPNetPooler(\n",
       "      (dense): Linear(in_features=768, out_features=768, bias=True)\n",
       "      (activation): Tanh()\n",
       "    )\n",
       "  )\n",
       "  (cos): CosineSimilarity()\n",
       ")"
      ]
     },
     "execution_count": 14,
     "metadata": {},
     "output_type": "execute_result"
    }
   ],
   "source": [
    "full_model"
   ]
  },
  {
   "cell_type": "code",
   "execution_count": null,
   "id": "5a17a97d-831e-450c-a573-e6425ba36c7a",
   "metadata": {},
   "outputs": [],
   "source": []
  }
 ],
 "metadata": {
  "kernelspec": {
   "display_name": "sermons",
   "language": "python",
   "name": "sermons"
  },
  "language_info": {
   "codemirror_mode": {
    "name": "ipython",
    "version": 3
   },
   "file_extension": ".py",
   "mimetype": "text/x-python",
   "name": "python",
   "nbconvert_exporter": "python",
   "pygments_lexer": "ipython3",
   "version": "3.11.7"
  }
 },
 "nbformat": 4,
 "nbformat_minor": 5
}
