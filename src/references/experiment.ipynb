{
 "cells": [
  {
   "cell_type": "code",
   "execution_count": 1,
   "id": "0706a97c-a2c8-451c-ba79-3d28d25c4f87",
   "metadata": {},
   "outputs": [],
   "source": [
    "from transformers import pipeline, RobertaForMaskedLM, RobertaTokenizer"
   ]
  },
  {
   "cell_type": "code",
   "execution_count": 2,
   "id": "5d78ae1f-fbec-43c7-a28e-b717253de9bf",
   "metadata": {},
   "outputs": [],
   "source": [
    "model = RobertaForMaskedLM.from_pretrained(pretrained_model_name_or_path=\"/data/laviniad/sermons-ir/modeling/presidential_pretrained/checkpoint-110000\")\n",
    "model_max_length = model.config.max_position_embeddings\n",
    "tokenizer = RobertaTokenizer.from_pretrained('roberta-large', model_max_length=model_max_length, truncation=True)"
   ]
  },
  {
   "cell_type": "code",
   "execution_count": 3,
   "id": "8e4b2e86-1bf2-4143-8b1e-b190e005122b",
   "metadata": {},
   "outputs": [],
   "source": [
    "batched_text = ['I want to know if <mask> is working'] * 5\n",
    "for b in [0, 1, 2]:\n",
    "    batched_text += [\"this is a test <mask> strength \" + str(b)] * 5"
   ]
  },
  {
   "cell_type": "code",
   "execution_count": 4,
   "id": "5173ecef-1a78-4c63-ae3c-921b1207d3f7",
   "metadata": {},
   "outputs": [],
   "source": [
    "tokenizer_kwargs = {'truncation': True}\n",
    "pipe = pipeline('fill-mask', model=model, tokenizer=tokenizer, device_map=\"auto\")"
   ]
  },
  {
   "cell_type": "code",
   "execution_count": 6,
   "id": "0ad97bbe-2f88-4028-808d-b68e677fee47",
   "metadata": {},
   "outputs": [
    {
     "data": {
      "text/plain": [
       "['I want to know if <mask> is working',\n",
       " 'I want to know if <mask> is working',\n",
       " 'I want to know if <mask> is working',\n",
       " 'I want to know if <mask> is working',\n",
       " 'I want to know if <mask> is working',\n",
       " 'this is a test <mask> strength 0',\n",
       " 'this is a test <mask> strength 0',\n",
       " 'this is a test <mask> strength 0',\n",
       " 'this is a test <mask> strength 0',\n",
       " 'this is a test <mask> strength 0',\n",
       " 'this is a test <mask> strength 1',\n",
       " 'this is a test <mask> strength 1',\n",
       " 'this is a test <mask> strength 1',\n",
       " 'this is a test <mask> strength 1',\n",
       " 'this is a test <mask> strength 1',\n",
       " 'this is a test <mask> strength 2',\n",
       " 'this is a test <mask> strength 2',\n",
       " 'this is a test <mask> strength 2',\n",
       " 'this is a test <mask> strength 2',\n",
       " 'this is a test <mask> strength 2']"
      ]
     },
     "execution_count": 6,
     "metadata": {},
     "output_type": "execute_result"
    }
   ],
   "source": [
    "batched_text"
   ]
  },
  {
   "cell_type": "code",
   "execution_count": 5,
   "id": "03a30e38-ce28-48e0-8764-ae6bb02a0ea6",
   "metadata": {},
   "outputs": [
    {
     "name": "stdout",
     "output_type": "stream",
     "text": [
      "0\n",
      "[{'score': 0.4327022433280945, 'token': 24, 'token_str': ' it', 'sequence': 'I want to know if it is working'}, {'score': 0.36416199803352356, 'token': 42, 'token_str': ' this', 'sequence': 'I want to know if this is working'}, {'score': 0.11803141981363297, 'token': 14, 'token_str': ' that', 'sequence': 'I want to know if that is working'}, {'score': 0.02709273248910904, 'token': 402, 'token_str': ' something', 'sequence': 'I want to know if something is working'}, {'score': 0.009623411111533642, 'token': 960, 'token_str': ' everything', 'sequence': 'I want to know if everything is working'}]\n",
      "1\n",
      "[{'score': 0.4327022433280945, 'token': 24, 'token_str': ' it', 'sequence': 'I want to know if it is working'}, {'score': 0.36416199803352356, 'token': 42, 'token_str': ' this', 'sequence': 'I want to know if this is working'}, {'score': 0.11803141981363297, 'token': 14, 'token_str': ' that', 'sequence': 'I want to know if that is working'}, {'score': 0.02709273248910904, 'token': 402, 'token_str': ' something', 'sequence': 'I want to know if something is working'}, {'score': 0.009623411111533642, 'token': 960, 'token_str': ' everything', 'sequence': 'I want to know if everything is working'}]\n",
      "2\n",
      "[{'score': 0.4327022433280945, 'token': 24, 'token_str': ' it', 'sequence': 'I want to know if it is working'}, {'score': 0.36416199803352356, 'token': 42, 'token_str': ' this', 'sequence': 'I want to know if this is working'}, {'score': 0.11803141981363297, 'token': 14, 'token_str': ' that', 'sequence': 'I want to know if that is working'}, {'score': 0.02709273248910904, 'token': 402, 'token_str': ' something', 'sequence': 'I want to know if something is working'}, {'score': 0.009623411111533642, 'token': 960, 'token_str': ' everything', 'sequence': 'I want to know if everything is working'}]\n",
      "3\n",
      "[{'score': 0.4327022433280945, 'token': 24, 'token_str': ' it', 'sequence': 'I want to know if it is working'}, {'score': 0.36416199803352356, 'token': 42, 'token_str': ' this', 'sequence': 'I want to know if this is working'}, {'score': 0.11803141981363297, 'token': 14, 'token_str': ' that', 'sequence': 'I want to know if that is working'}, {'score': 0.02709273248910904, 'token': 402, 'token_str': ' something', 'sequence': 'I want to know if something is working'}, {'score': 0.009623411111533642, 'token': 960, 'token_str': ' everything', 'sequence': 'I want to know if everything is working'}]\n",
      "4\n",
      "[{'score': 0.4327022433280945, 'token': 24, 'token_str': ' it', 'sequence': 'I want to know if it is working'}, {'score': 0.36416199803352356, 'token': 42, 'token_str': ' this', 'sequence': 'I want to know if this is working'}, {'score': 0.11803141981363297, 'token': 14, 'token_str': ' that', 'sequence': 'I want to know if that is working'}, {'score': 0.02709273248910904, 'token': 402, 'token_str': ' something', 'sequence': 'I want to know if something is working'}, {'score': 0.009623411111533642, 'token': 960, 'token_str': ' everything', 'sequence': 'I want to know if everything is working'}]\n",
      "5\n",
      "[{'score': 0.9860315322875977, 'token': 9, 'token_str': ' of', 'sequence': 'this is a test of strength 0'}, {'score': 0.00815958809107542, 'token': 13, 'token_str': ' for', 'sequence': 'this is a test for strength 0'}, {'score': 0.0018431446515023708, 'token': 11, 'token_str': ' in', 'sequence': 'this is a test in strength 0'}, {'score': 0.0009321363759227097, 'token': 7, 'token_str': ' to', 'sequence': 'this is a test to strength 0'}, {'score': 0.0005601623561233282, 'token': 136, 'token_str': ' against', 'sequence': 'this is a test against strength 0'}]\n",
      "6\n",
      "[{'score': 0.9860315322875977, 'token': 9, 'token_str': ' of', 'sequence': 'this is a test of strength 0'}, {'score': 0.00815958809107542, 'token': 13, 'token_str': ' for', 'sequence': 'this is a test for strength 0'}, {'score': 0.0018431446515023708, 'token': 11, 'token_str': ' in', 'sequence': 'this is a test in strength 0'}, {'score': 0.0009321363759227097, 'token': 7, 'token_str': ' to', 'sequence': 'this is a test to strength 0'}, {'score': 0.0005601623561233282, 'token': 136, 'token_str': ' against', 'sequence': 'this is a test against strength 0'}]\n",
      "7\n",
      "[{'score': 0.9860315322875977, 'token': 9, 'token_str': ' of', 'sequence': 'this is a test of strength 0'}, {'score': 0.00815958809107542, 'token': 13, 'token_str': ' for', 'sequence': 'this is a test for strength 0'}, {'score': 0.0018431446515023708, 'token': 11, 'token_str': ' in', 'sequence': 'this is a test in strength 0'}, {'score': 0.0009321363759227097, 'token': 7, 'token_str': ' to', 'sequence': 'this is a test to strength 0'}, {'score': 0.0005601623561233282, 'token': 136, 'token_str': ' against', 'sequence': 'this is a test against strength 0'}]\n",
      "8\n",
      "[{'score': 0.9860315322875977, 'token': 9, 'token_str': ' of', 'sequence': 'this is a test of strength 0'}, {'score': 0.00815958809107542, 'token': 13, 'token_str': ' for', 'sequence': 'this is a test for strength 0'}, {'score': 0.0018431446515023708, 'token': 11, 'token_str': ' in', 'sequence': 'this is a test in strength 0'}, {'score': 0.0009321363759227097, 'token': 7, 'token_str': ' to', 'sequence': 'this is a test to strength 0'}, {'score': 0.0005601623561233282, 'token': 136, 'token_str': ' against', 'sequence': 'this is a test against strength 0'}]\n",
      "9\n",
      "[{'score': 0.9860315322875977, 'token': 9, 'token_str': ' of', 'sequence': 'this is a test of strength 0'}, {'score': 0.00815958809107542, 'token': 13, 'token_str': ' for', 'sequence': 'this is a test for strength 0'}, {'score': 0.0018431446515023708, 'token': 11, 'token_str': ' in', 'sequence': 'this is a test in strength 0'}, {'score': 0.0009321363759227097, 'token': 7, 'token_str': ' to', 'sequence': 'this is a test to strength 0'}, {'score': 0.0005601623561233282, 'token': 136, 'token_str': ' against', 'sequence': 'this is a test against strength 0'}]\n",
      "10\n",
      "[{'score': 0.9846373200416565, 'token': 9, 'token_str': ' of', 'sequence': 'this is a test of strength 1'}, {'score': 0.00846132729202509, 'token': 13, 'token_str': ' for', 'sequence': 'this is a test for strength 1'}, {'score': 0.0020528461318463087, 'token': 11, 'token_str': ' in', 'sequence': 'this is a test in strength 1'}, {'score': 0.0010384584311395884, 'token': 7, 'token_str': ' to', 'sequence': 'this is a test to strength 1'}, {'score': 0.0006870707147754729, 'token': 136, 'token_str': ' against', 'sequence': 'this is a test against strength 1'}]\n",
      "11\n",
      "[{'score': 0.9846373200416565, 'token': 9, 'token_str': ' of', 'sequence': 'this is a test of strength 1'}, {'score': 0.00846132729202509, 'token': 13, 'token_str': ' for', 'sequence': 'this is a test for strength 1'}, {'score': 0.0020528461318463087, 'token': 11, 'token_str': ' in', 'sequence': 'this is a test in strength 1'}, {'score': 0.0010384584311395884, 'token': 7, 'token_str': ' to', 'sequence': 'this is a test to strength 1'}, {'score': 0.0006870707147754729, 'token': 136, 'token_str': ' against', 'sequence': 'this is a test against strength 1'}]\n",
      "12\n",
      "[{'score': 0.9846373200416565, 'token': 9, 'token_str': ' of', 'sequence': 'this is a test of strength 1'}, {'score': 0.00846132729202509, 'token': 13, 'token_str': ' for', 'sequence': 'this is a test for strength 1'}, {'score': 0.0020528461318463087, 'token': 11, 'token_str': ' in', 'sequence': 'this is a test in strength 1'}, {'score': 0.0010384584311395884, 'token': 7, 'token_str': ' to', 'sequence': 'this is a test to strength 1'}, {'score': 0.0006870707147754729, 'token': 136, 'token_str': ' against', 'sequence': 'this is a test against strength 1'}]\n",
      "13\n",
      "[{'score': 0.9846373200416565, 'token': 9, 'token_str': ' of', 'sequence': 'this is a test of strength 1'}, {'score': 0.00846132729202509, 'token': 13, 'token_str': ' for', 'sequence': 'this is a test for strength 1'}, {'score': 0.0020528461318463087, 'token': 11, 'token_str': ' in', 'sequence': 'this is a test in strength 1'}, {'score': 0.0010384584311395884, 'token': 7, 'token_str': ' to', 'sequence': 'this is a test to strength 1'}, {'score': 0.0006870707147754729, 'token': 136, 'token_str': ' against', 'sequence': 'this is a test against strength 1'}]\n",
      "14\n",
      "[{'score': 0.9846373200416565, 'token': 9, 'token_str': ' of', 'sequence': 'this is a test of strength 1'}, {'score': 0.00846132729202509, 'token': 13, 'token_str': ' for', 'sequence': 'this is a test for strength 1'}, {'score': 0.0020528461318463087, 'token': 11, 'token_str': ' in', 'sequence': 'this is a test in strength 1'}, {'score': 0.0010384584311395884, 'token': 7, 'token_str': ' to', 'sequence': 'this is a test to strength 1'}, {'score': 0.0006870707147754729, 'token': 136, 'token_str': ' against', 'sequence': 'this is a test against strength 1'}]\n",
      "15\n",
      "[{'score': 0.9851191639900208, 'token': 9, 'token_str': ' of', 'sequence': 'this is a test of strength 2'}, {'score': 0.007727356627583504, 'token': 13, 'token_str': ' for', 'sequence': 'this is a test for strength 2'}, {'score': 0.0025668067391961813, 'token': 11, 'token_str': ' in', 'sequence': 'this is a test in strength 2'}, {'score': 0.0009522734326310456, 'token': 7, 'token_str': ' to', 'sequence': 'this is a test to strength 2'}, {'score': 0.0006891371449455619, 'token': 136, 'token_str': ' against', 'sequence': 'this is a test against strength 2'}]\n",
      "16\n",
      "[{'score': 0.9851192831993103, 'token': 9, 'token_str': ' of', 'sequence': 'this is a test of strength 2'}, {'score': 0.0077272988855838776, 'token': 13, 'token_str': ' for', 'sequence': 'this is a test for strength 2'}, {'score': 0.0025667876470834017, 'token': 11, 'token_str': ' in', 'sequence': 'this is a test in strength 2'}, {'score': 0.0009522571926936507, 'token': 7, 'token_str': ' to', 'sequence': 'this is a test to strength 2'}, {'score': 0.0006891254452057183, 'token': 136, 'token_str': ' against', 'sequence': 'this is a test against strength 2'}]\n",
      "17\n",
      "[{'score': 0.9851192831993103, 'token': 9, 'token_str': ' of', 'sequence': 'this is a test of strength 2'}, {'score': 0.007727283984422684, 'token': 13, 'token_str': ' for', 'sequence': 'this is a test for strength 2'}, {'score': 0.0025667778681963682, 'token': 11, 'token_str': ' in', 'sequence': 'this is a test in strength 2'}, {'score': 0.0009522535838186741, 'token': 7, 'token_str': ' to', 'sequence': 'this is a test to strength 2'}, {'score': 0.0006891280063427985, 'token': 136, 'token_str': ' against', 'sequence': 'this is a test against strength 2'}]\n",
      "18\n",
      "[{'score': 0.9851192831993103, 'token': 9, 'token_str': ' of', 'sequence': 'this is a test of strength 2'}, {'score': 0.0077272988855838776, 'token': 13, 'token_str': ' for', 'sequence': 'this is a test for strength 2'}, {'score': 0.0025667778681963682, 'token': 11, 'token_str': ' in', 'sequence': 'this is a test in strength 2'}, {'score': 0.0009522626642137766, 'token': 7, 'token_str': ' to', 'sequence': 'this is a test to strength 2'}, {'score': 0.0006891280063427985, 'token': 136, 'token_str': ' against', 'sequence': 'this is a test against strength 2'}]\n",
      "19\n",
      "[{'score': 0.9851192831993103, 'token': 9, 'token_str': ' of', 'sequence': 'this is a test of strength 2'}, {'score': 0.0077272988855838776, 'token': 13, 'token_str': ' for', 'sequence': 'this is a test for strength 2'}, {'score': 0.0025667729787528515, 'token': 11, 'token_str': ' in', 'sequence': 'this is a test in strength 2'}, {'score': 0.0009522571926936507, 'token': 7, 'token_str': ' to', 'sequence': 'this is a test to strength 2'}, {'score': 0.0006891266675665975, 'token': 136, 'token_str': ' against', 'sequence': 'this is a test against strength 2'}]\n"
     ]
    }
   ],
   "source": [
    "for idx,result in enumerate(pipe(batched_text, batch_size=8, top_k=5, tokenizer_kwargs=tokenizer_kwargs)):\n",
    "    print(idx)\n",
    "    print(result)"
   ]
  },
  {
   "cell_type": "code",
   "execution_count": null,
   "id": "df8bd052-f7e3-4088-8770-e0f1b24d4d2e",
   "metadata": {},
   "outputs": [],
   "source": []
  }
 ],
 "metadata": {
  "kernelspec": {
   "display_name": "myenv",
   "language": "python",
   "name": "myenv"
  },
  "language_info": {
   "codemirror_mode": {
    "name": "ipython",
    "version": 3
   },
   "file_extension": ".py",
   "mimetype": "text/x-python",
   "name": "python",
   "nbconvert_exporter": "python",
   "pygments_lexer": "ipython3",
   "version": "3.11.4"
  }
 },
 "nbformat": 4,
 "nbformat_minor": 5
}
