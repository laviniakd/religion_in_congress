{
 "cells": [
  {
   "cell_type": "code",
   "execution_count": 1,
   "metadata": {},
   "outputs": [
    {
     "name": "stderr",
     "output_type": "stream",
     "text": [
      "[nltk_data] Downloading package punkt to /home/laviniad/nltk_data...\n",
      "[nltk_data]   Package punkt is already up-to-date!\n"
     ]
    }
   ],
   "source": [
    "# in general: sample random negative examples from the CR data, assuming they are not verse references; then pick top verse match according to all three methods\n",
    "\n",
    "# imports\n",
    "import pandas as pd\n",
    "import spacy\n",
    "import time\n",
    "from tqdm import tqdm\n",
    "import sys\n",
    "import argparse\n",
    "import os\n",
    "import json\n",
    "import re\n",
    "import nltk\n",
    "\n",
    "from data import congress_utils, data_utils\n",
    "from src.references.retrieve_and_infer import load_bible_data_for_references, create_inference_df\n",
    "\n",
    "\n",
    "BIBLE_VERSION = 'King James Bible'\n",
    "OUT_DATA_PATH = '/home/laviniad/projects/religion_in_congress/src/references/validation/data/true_positive_examples.csv'\n",
    "MIN_SENTENCE_LENGTH = 5\n",
    "\n",
    "VERSE_REGEX = r'\\b(?:\\d\\s\\w+\\s\\d+:\\d+-\\d+|\\d\\s\\w+\\s\\d+:\\d+|\\w+\\s\\d+:\\d+-\\d+|\\w+\\s\\d+:\\d+)\\b'\n"
   ]
  },
  {
   "cell_type": "code",
   "execution_count": 2,
   "metadata": {},
   "outputs": [
    {
     "name": "stdout",
     "output_type": "stream",
     "text": [
      "Loading Bible data for version: King James Bible\n",
      "Loading verses...\n",
      "Number of verses: 1000\n",
      "On file 0\n"
     ]
    },
    {
     "name": "stderr",
     "output_type": "stream",
     "text": [
      "100%|█████████████████████████████████████████████████████████████████████████████████████████████████| 106493/106493 [00:00<00:00, 202036.55it/s]\n"
     ]
    },
    {
     "name": "stdout",
     "output_type": "stream",
     "text": [
      "On file 1\n"
     ]
    },
    {
     "name": "stderr",
     "output_type": "stream",
     "text": [
      "100%|█████████████████████████████████████████████████████████████████████████████████████████████████| 190933/190933 [00:00<00:00, 201666.92it/s]\n"
     ]
    },
    {
     "name": "stdout",
     "output_type": "stream",
     "text": [
      "On file 2\n"
     ]
    },
    {
     "name": "stderr",
     "output_type": "stream",
     "text": [
      "100%|███████████████████████████████████████████████████████████████████████████████████████████████████| 94162/94162 [00:00<00:00, 207830.51it/s]\n"
     ]
    },
    {
     "name": "stdout",
     "output_type": "stream",
     "text": [
      "On file 3\n"
     ]
    },
    {
     "name": "stderr",
     "output_type": "stream",
     "text": [
      "100%|█████████████████████████████████████████████████████████████████████████████████████████████████| 207487/207487 [00:01<00:00, 199046.27it/s]\n"
     ]
    },
    {
     "name": "stdout",
     "output_type": "stream",
     "text": [
      "On file 4\n"
     ]
    },
    {
     "name": "stderr",
     "output_type": "stream",
     "text": [
      "100%|█████████████████████████████████████████████████████████████████████████████████████████████████| 183503/183503 [00:00<00:00, 199167.22it/s]\n"
     ]
    },
    {
     "name": "stdout",
     "output_type": "stream",
     "text": [
      "On file 5\n"
     ]
    },
    {
     "name": "stderr",
     "output_type": "stream",
     "text": [
      "100%|█████████████████████████████████████████████████████████████████████████████████████████████████| 130265/130265 [00:00<00:00, 207128.26it/s]\n"
     ]
    },
    {
     "name": "stdout",
     "output_type": "stream",
     "text": [
      "On file 6\n"
     ]
    },
    {
     "name": "stderr",
     "output_type": "stream",
     "text": [
      "100%|█████████████████████████████████████████████████████████████████████████████████████████████████| 197548/197548 [00:00<00:00, 198575.70it/s]\n"
     ]
    },
    {
     "name": "stdout",
     "output_type": "stream",
     "text": [
      "On file 7\n",
      "On file 8\n",
      "On file 9\n"
     ]
    },
    {
     "name": "stderr",
     "output_type": "stream",
     "text": [
      "100%|█████████████████████████████████████████████████████████████████████████████████████████████████| 139281/139281 [00:00<00:00, 207623.70it/s]\n"
     ]
    },
    {
     "name": "stdout",
     "output_type": "stream",
     "text": [
      "On file 10\n"
     ]
    },
    {
     "name": "stderr",
     "output_type": "stream",
     "text": [
      "100%|█████████████████████████████████████████████████████████████████████████████████████████████████| 127268/127268 [00:00<00:00, 204492.27it/s]\n"
     ]
    },
    {
     "name": "stdout",
     "output_type": "stream",
     "text": [
      "On file 11\n",
      "On file 12\n"
     ]
    },
    {
     "name": "stderr",
     "output_type": "stream",
     "text": [
      "100%|█████████████████████████████████████████████████████████████████████████████████████████████████| 179989/179989 [00:00<00:00, 199015.26it/s]\n"
     ]
    },
    {
     "name": "stdout",
     "output_type": "stream",
     "text": [
      "On file 13\n",
      "On file 14\n"
     ]
    },
    {
     "name": "stderr",
     "output_type": "stream",
     "text": [
      "100%|█████████████████████████████████████████████████████████████████████████████████████████████████| 271528/271528 [00:01<00:00, 208747.60it/s]\n"
     ]
    },
    {
     "name": "stdout",
     "output_type": "stream",
     "text": [
      "On file 15\n"
     ]
    },
    {
     "name": "stderr",
     "output_type": "stream",
     "text": [
      "100%|███████████████████████████████████████████████████████████████████████████████████████████████████| 48007/48007 [00:00<00:00, 213746.18it/s]\n"
     ]
    },
    {
     "name": "stdout",
     "output_type": "stream",
     "text": [
      "On file 16\n"
     ]
    },
    {
     "name": "stderr",
     "output_type": "stream",
     "text": [
      "100%|█████████████████████████████████████████████████████████████████████████████████████████████████| 210379/210379 [00:01<00:00, 199635.41it/s]\n"
     ]
    },
    {
     "name": "stdout",
     "output_type": "stream",
     "text": [
      "On file 17\n"
     ]
    },
    {
     "name": "stderr",
     "output_type": "stream",
     "text": [
      "100%|█████████████████████████████████████████████████████████████████████████████████████████████████| 196111/196111 [00:00<00:00, 201530.50it/s]\n"
     ]
    },
    {
     "name": "stdout",
     "output_type": "stream",
     "text": [
      "On file 18\n"
     ]
    },
    {
     "name": "stderr",
     "output_type": "stream",
     "text": [
      "100%|█████████████████████████████████████████████████████████████████████████████████████████████████| 122717/122717 [00:00<00:00, 204393.38it/s]\n",
      "100%|█████████████████████████████████████████████████████████████████████████████████████████████████| 2405671/2405671 [11:21<00:00, 3528.20it/s]\n"
     ]
    }
   ],
   "source": [
    "verse_df, limited_verse_to_citation, limited_citation_to_verse = load_bible_data_for_references(version=BIBLE_VERSION)\n",
    "cr_df = congress_utils.load_full_df_from_raw('/data/corpora/congressional-record/')\n",
    "\n",
    "# transform into sentence-wise df\n",
    "cr_df = create_inference_df(MIN_SENTENCE_LENGTH, cr_df)"
   ]
  },
  {
   "cell_type": "code",
   "execution_count": 8,
   "metadata": {},
   "outputs": [],
   "source": [
    "from rapidfuzz import fuzz\n",
    "\n",
    "def find_bible_citations(cr_df, limited_citation_to_verse):\n",
    "    ref_list = []\n",
    "\n",
    "    for idx, row in tqdm(cr_df.iterrows()):\n",
    "        congress_text = row['text']\n",
    "    \n",
    "        verse_citations = re.findall(VERSE_REGEX, congress_text)   \n",
    "\n",
    "        for citation in verse_citations:\n",
    "            citation = citation.lower()\n",
    "            if citation in limited_citation_to_verse:\n",
    "                ref_list.append((row['congress_idx'], congress_text, citation, 1))\n",
    "                print(\"Found Bible verse citation: \", citation)\n",
    "\n",
    "    return ref_list"
   ]
  },
  {
   "cell_type": "code",
   "execution_count": null,
   "metadata": {},
   "outputs": [],
   "source": [
    "true_positive_examples = find_bible_citations(cr_df, limited_citation_to_verse)\n",
    "print(\"True positive examples found via regex: \", len(true_positive_examples))    \n",
    "true_positive_examples.to_csv(OUT_DATA_PATH, index=False)\n",
    "print(\"Saved true positive examples to \", OUT_DATA_PATH)\n"
   ]
  },
  {
   "cell_type": "code",
   "execution_count": 15,
   "metadata": {},
   "outputs": [],
   "source": [
    "true_positive_examples = pd.DataFrame(true_positive_examples, columns=['congress_idx', 'text', 'verse', 'label'])"
   ]
  },
  {
   "cell_type": "code",
   "execution_count": 16,
   "metadata": {},
   "outputs": [],
   "source": [
    "true_positive_examples.to_csv(OUT_DATA_PATH, index=False)"
   ]
  }
 ],
 "metadata": {
  "kernelspec": {
   "display_name": "sermons",
   "language": "python",
   "name": "sermons"
  }
 },
 "nbformat": 4,
 "nbformat_minor": 2
}
