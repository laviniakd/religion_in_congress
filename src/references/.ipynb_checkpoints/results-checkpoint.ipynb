{
 "cells": [
  {
   "cell_type": "code",
   "execution_count": 59,
   "id": "1d43b75f-f5f1-4a50-acb9-baefba636ba1",
   "metadata": {},
   "outputs": [],
   "source": [
    "import pandas as pd\n",
    "import pickle as pkl"
   ]
  },
  {
   "cell_type": "code",
   "execution_count": 60,
   "id": "a3ce65b6-d9df-4401-8680-4aea074e0c59",
   "metadata": {},
   "outputs": [],
   "source": [
    "MPNET_RESULTS = '/data/laviniad/sermons-ir/modeling/mpnet_results'"
   ]
  },
  {
   "cell_type": "code",
   "execution_count": 61,
   "id": "f0ee8e03-1f5e-4d4f-b96f-29c0f371bc4c",
   "metadata": {},
   "outputs": [],
   "source": [
    "with open(MPNET_RESULTS + \"/data.pkl\", \"rb\") as f:\n",
    "    data = pkl.load(f)"
   ]
  },
  {
   "cell_type": "code",
   "execution_count": 62,
   "id": "b7eea039-2468-4ef5-a59e-4387daf5798d",
   "metadata": {},
   "outputs": [
    {
     "data": {
      "text/plain": [
       "[[0.7238944582215334,\n",
       "  0.8968683956972072,\n",
       "  0.9246838123517498,\n",
       "  0.9281490086624156],\n",
       " [0.7234454811802415,\n",
       "  0.8849144942770449,\n",
       "  0.914602412976579,\n",
       "  0.9190430169638386],\n",
       " [0.7230672597236363,\n",
       "  0.8870696636522414,\n",
       "  0.9121191462103824,\n",
       "  0.916224182789791]]"
      ]
     },
     "execution_count": 62,
     "metadata": {},
     "output_type": "execute_result"
    }
   ],
   "source": [
    "data"
   ]
  },
  {
   "cell_type": "code",
   "execution_count": 63,
   "id": "e835c2ab-be31-40af-88f6-603b50346216",
   "metadata": {},
   "outputs": [],
   "source": [
    "import numpy as np"
   ]
  },
  {
   "cell_type": "code",
   "execution_count": 64,
   "id": "1c6f14a1-28dd-4069-bc04-d4ecce43a5c4",
   "metadata": {},
   "outputs": [],
   "source": [
    "data_n = np.asarray(data)"
   ]
  },
  {
   "cell_type": "code",
   "execution_count": 65,
   "id": "a8d849a6-81f3-485d-84df-b9b663426738",
   "metadata": {},
   "outputs": [
    {
     "data": {
      "text/plain": [
       "0.9281490086624156"
      ]
     },
     "execution_count": 65,
     "metadata": {},
     "output_type": "execute_result"
    }
   ],
   "source": [
    "num_epochs = 3\n",
    "np.max(data_n[:,num_epochs])"
   ]
  },
  {
   "cell_type": "code",
   "execution_count": 52,
   "id": "a3ccf5fa-3639-43dd-a41a-0c7d86cd35cd",
   "metadata": {},
   "outputs": [
    {
     "name": "stdout",
     "output_type": "stream",
     "text": [
      "Number of verses: 499\n"
     ]
    }
   ],
   "source": [
    "import re\n",
    "from data.bible_utils import comp_bible_helper\n",
    "import nltk\n",
    "\n",
    "TAG_RE = re.compile(r'<[^>]+>')\n",
    "\n",
    "def remove_tags(text):\n",
    "    return TAG_RE.sub('', text)\n",
    "\n",
    "bible_df = comp_bible_helper()\n",
    "pop_verses = pd.read_csv('/home/laviniad/projects/religion_in_congress/data/most_popular_verses.csv')\n",
    "n = 500 # VERY generous\n",
    "pop_citations = list(pop_verses['verse'].iloc[1:n+1])\n",
    "bible_df['King James Bible'] = bible_df['King James Bible'].apply(remove_tags) # KJV in this df has italics etc\n",
    "bible_df['Verse'] = bible_df['Verse'].apply(lambda x: x.lower())\n",
    "limited_bible_df = bible_df[bible_df['Verse'].apply(lambda x: x in pop_citations)]\n",
    "limited_verses = limited_bible_df['King James Bible']\n",
    "verse_df = [{'text': t['King James Bible'], 'citation': t['citation']} for idx,t in limited_bible_df.iterrows()]\n",
    "verse_df = pd.DataFrame(verse_df)\n",
    "print(f\"Number of verses: {len(verse_df.index)}\")\n",
    "limited_verse_to_citation = dict(zip(limited_verses, limited_bible_df['Verse']))\n",
    "limited_citation_to_verse = {v.lower(): k for k,v in limited_verse_to_citation.items()}"
   ]
  },
  {
   "cell_type": "code",
   "execution_count": 53,
   "id": "b091f4f6-c034-47f3-bfd6-dce42939f4a7",
   "metadata": {},
   "outputs": [],
   "source": [
    "df = pd.read_csv('/data/laviniad/sermons-ir/modeling/mpnet_results/sample100000_results.csv')"
   ]
  },
  {
   "cell_type": "code",
   "execution_count": 54,
   "id": "97e6733f-7b84-4f53-81b8-a52074288a04",
   "metadata": {},
   "outputs": [
    {
     "data": {
      "text/html": [
       "<div>\n",
       "<style scoped>\n",
       "    .dataframe tbody tr th:only-of-type {\n",
       "        vertical-align: middle;\n",
       "    }\n",
       "\n",
       "    .dataframe tbody tr th {\n",
       "        vertical-align: top;\n",
       "    }\n",
       "\n",
       "    .dataframe thead th {\n",
       "        text-align: right;\n",
       "    }\n",
       "</style>\n",
       "<table border=\"1\" class=\"dataframe\">\n",
       "  <thead>\n",
       "    <tr style=\"text-align: right;\">\n",
       "      <th></th>\n",
       "      <th>Unnamed: 0</th>\n",
       "      <th>sermon_idx</th>\n",
       "      <th>text</th>\n",
       "      <th>most_similar_verse</th>\n",
       "      <th>cosine_similarity</th>\n",
       "      <th>verse_citation</th>\n",
       "    </tr>\n",
       "  </thead>\n",
       "  <tbody>\n",
       "    <tr>\n",
       "      <th>0</th>\n",
       "      <td>0</td>\n",
       "      <td>tensor(1665421)</td>\n",
       "      <td>Mr. COATS.</td>\n",
       "      <td>My sheep hear my voice, and I know them, and t...</td>\n",
       "      <td>0.328442</td>\n",
       "      <td>John 10:27</td>\n",
       "    </tr>\n",
       "    <tr>\n",
       "      <th>1</th>\n",
       "      <td>1</td>\n",
       "      <td>tensor(1665421)</td>\n",
       "      <td>Mr. President, I will just state that over the...</td>\n",
       "      <td>These were more noble than those in Thessaloni...</td>\n",
       "      <td>0.341711</td>\n",
       "      <td>Acts 17:11</td>\n",
       "    </tr>\n",
       "    <tr>\n",
       "      <th>2</th>\n",
       "      <td>2</td>\n",
       "      <td>tensor(1665421)</td>\n",
       "      <td>He agreed, I agreed, all of us agreed that it ...</td>\n",
       "      <td>These all continued with one accord in prayer ...</td>\n",
       "      <td>0.446893</td>\n",
       "      <td>Acts 1:14</td>\n",
       "    </tr>\n",
       "    <tr>\n",
       "      <th>3</th>\n",
       "      <td>3</td>\n",
       "      <td>tensor(1665421)</td>\n",
       "      <td>He was clearly under the impression that the u...</td>\n",
       "      <td>These were more noble than those in Thessaloni...</td>\n",
       "      <td>0.327224</td>\n",
       "      <td>Acts 17:11</td>\n",
       "    </tr>\n",
       "    <tr>\n",
       "      <th>4</th>\n",
       "      <td>4</td>\n",
       "      <td>tensor(1665421)</td>\n",
       "      <td>He was surprised, I was surprised, we were all...</td>\n",
       "      <td>He was oppressed, and he was afflicted, yet he...</td>\n",
       "      <td>0.356004</td>\n",
       "      <td>Isaiah 53:7</td>\n",
       "    </tr>\n",
       "  </tbody>\n",
       "</table>\n",
       "</div>"
      ],
      "text/plain": [
       "   Unnamed: 0       sermon_idx  \\\n",
       "0           0  tensor(1665421)   \n",
       "1           1  tensor(1665421)   \n",
       "2           2  tensor(1665421)   \n",
       "3           3  tensor(1665421)   \n",
       "4           4  tensor(1665421)   \n",
       "\n",
       "                                                text  \\\n",
       "0                                         Mr. COATS.   \n",
       "1  Mr. President, I will just state that over the...   \n",
       "2  He agreed, I agreed, all of us agreed that it ...   \n",
       "3  He was clearly under the impression that the u...   \n",
       "4  He was surprised, I was surprised, we were all...   \n",
       "\n",
       "                                  most_similar_verse  cosine_similarity  \\\n",
       "0  My sheep hear my voice, and I know them, and t...           0.328442   \n",
       "1  These were more noble than those in Thessaloni...           0.341711   \n",
       "2  These all continued with one accord in prayer ...           0.446893   \n",
       "3  These were more noble than those in Thessaloni...           0.327224   \n",
       "4  He was oppressed, and he was afflicted, yet he...           0.356004   \n",
       "\n",
       "  verse_citation  \n",
       "0     John 10:27  \n",
       "1     Acts 17:11  \n",
       "2      Acts 1:14  \n",
       "3     Acts 17:11  \n",
       "4    Isaiah 53:7  "
      ]
     },
     "execution_count": 54,
     "metadata": {},
     "output_type": "execute_result"
    }
   ],
   "source": [
    "df.head()"
   ]
  },
  {
   "cell_type": "code",
   "execution_count": 11,
   "id": "2ff0980d-5868-436e-92df-6b95663ea72d",
   "metadata": {},
   "outputs": [
    {
     "data": {
      "text/html": [
       "<div>\n",
       "<style scoped>\n",
       "    .dataframe tbody tr th:only-of-type {\n",
       "        vertical-align: middle;\n",
       "    }\n",
       "\n",
       "    .dataframe tbody tr th {\n",
       "        vertical-align: top;\n",
       "    }\n",
       "\n",
       "    .dataframe thead th {\n",
       "        text-align: right;\n",
       "    }\n",
       "</style>\n",
       "<table border=\"1\" class=\"dataframe\">\n",
       "  <thead>\n",
       "    <tr style=\"text-align: right;\">\n",
       "      <th></th>\n",
       "      <th>Unnamed: 0</th>\n",
       "      <th>sermon_idx</th>\n",
       "      <th>text</th>\n",
       "      <th>most_similar_verse</th>\n",
       "      <th>cosine_similarity</th>\n",
       "      <th>verse_citation</th>\n",
       "      <th>verse_text</th>\n",
       "    </tr>\n",
       "  </thead>\n",
       "  <tbody>\n",
       "    <tr>\n",
       "      <th>0</th>\n",
       "      <td>0</td>\n",
       "      <td>tensor(0)</td>\n",
       "      <td>Ms. LOFGREN.</td>\n",
       "      <td>Hebrews 13:8</td>\n",
       "      <td>0.231387</td>\n",
       "      <td>Hebrews 13:8</td>\n",
       "      <td>Jesus Christ the same yesterday, and to day, a...</td>\n",
       "    </tr>\n",
       "    <tr>\n",
       "      <th>1</th>\n",
       "      <td>1</td>\n",
       "      <td>tensor(0)</td>\n",
       "      <td>Madam Speaker, I rise today to honor Pastor Ke...</td>\n",
       "      <td>Romans 6:4</td>\n",
       "      <td>0.390354</td>\n",
       "      <td>Romans 6:4</td>\n",
       "      <td>Therefore we are buried with him by baptism in...</td>\n",
       "    </tr>\n",
       "    <tr>\n",
       "      <th>2</th>\n",
       "      <td>2</td>\n",
       "      <td>tensor(0)</td>\n",
       "      <td>I spoke three years ago on the impact he made ...</td>\n",
       "      <td>Acts 2:42</td>\n",
       "      <td>0.176640</td>\n",
       "      <td>Acts 2:42</td>\n",
       "      <td>And they continued stedfastly in the apostles'...</td>\n",
       "    </tr>\n",
       "    <tr>\n",
       "      <th>3</th>\n",
       "      <td>3</td>\n",
       "      <td>tensor(0)</td>\n",
       "      <td>He was a beloved member of our community whose...</td>\n",
       "      <td>1 John 4:19</td>\n",
       "      <td>0.247268</td>\n",
       "      <td>1 John 4:19</td>\n",
       "      <td>We love him, because he first loved us.</td>\n",
       "    </tr>\n",
       "    <tr>\n",
       "      <th>4</th>\n",
       "      <td>4</td>\n",
       "      <td>tensor(0)</td>\n",
       "      <td>Pastor Kenny Foreman dedicated his life to the...</td>\n",
       "      <td>Acts 2:42</td>\n",
       "      <td>0.235627</td>\n",
       "      <td>Acts 2:42</td>\n",
       "      <td>And they continued stedfastly in the apostles'...</td>\n",
       "    </tr>\n",
       "  </tbody>\n",
       "</table>\n",
       "</div>"
      ],
      "text/plain": [
       "   Unnamed: 0 sermon_idx                                               text  \\\n",
       "0           0  tensor(0)                                       Ms. LOFGREN.   \n",
       "1           1  tensor(0)  Madam Speaker, I rise today to honor Pastor Ke...   \n",
       "2           2  tensor(0)  I spoke three years ago on the impact he made ...   \n",
       "3           3  tensor(0)  He was a beloved member of our community whose...   \n",
       "4           4  tensor(0)  Pastor Kenny Foreman dedicated his life to the...   \n",
       "\n",
       "  most_similar_verse  cosine_similarity verse_citation  \\\n",
       "0       Hebrews 13:8           0.231387   Hebrews 13:8   \n",
       "1         Romans 6:4           0.390354     Romans 6:4   \n",
       "2          Acts 2:42           0.176640      Acts 2:42   \n",
       "3        1 John 4:19           0.247268    1 John 4:19   \n",
       "4          Acts 2:42           0.235627      Acts 2:42   \n",
       "\n",
       "                                          verse_text  \n",
       "0  Jesus Christ the same yesterday, and to day, a...  \n",
       "1  Therefore we are buried with him by baptism in...  \n",
       "2  And they continued stedfastly in the apostles'...  \n",
       "3            We love him, because he first loved us.  \n",
       "4  And they continued stedfastly in the apostles'...  "
      ]
     },
     "execution_count": 11,
     "metadata": {},
     "output_type": "execute_result"
    }
   ],
   "source": [
    "df.head()"
   ]
  },
  {
   "cell_type": "code",
   "execution_count": 66,
   "id": "3fa4db02-aca9-4d3d-b8ec-3c24516e9a44",
   "metadata": {},
   "outputs": [
    {
     "data": {
      "text/plain": [
       "<Axes: >"
      ]
     },
     "execution_count": 66,
     "metadata": {},
     "output_type": "execute_result"
    },
    {
     "data": {
      "image/png": "[encoded data removed]",
      "text/plain": [
       "<Figure size 640x480 with 1 Axes>"
      ]
     },
     "metadata": {},
     "output_type": "display_data"
    }
   ],
   "source": [
    "df['cosine_similarity'].hist()"
   ]
  },
  {
   "cell_type": "code",
   "execution_count": 58,
   "id": "5193b7ba-c9ff-4a30-b691-abc2acbb90dd",
   "metadata": {},
   "outputs": [
    {
     "name": "stdout",
     "output_type": "stream",
     "text": [
      "************************* Cosine similarity range: (0.4, 0.5) *************************\n",
      "Congressional sentence: Robinson was a much more tolerant kind of guy but a man who knew what he believed, and he believed that God meant civil and church governments to be separated.\n",
      "Bible verse: Then Peter and the other apostles answered and said, We ought to obey God rather than men.\n",
      "Congressional sentence: Mr. Speaker, in the Jewish tradition, when a book of study is completed, traditionally we celebrate the success by offering encouragement to immediately return to the work ahead.\n",
      "Bible verse: And this gospel of the kingdom shall be preached in all the world for a witness unto all nations; and then shall the end come.\n",
      "Congressional sentence: The feelings I have of great sorrow, disbelief, and anger towards those responsible are feelings that I hope and pray I will never have cause to feel again in my life.\n",
      "Bible verse: And GOD saw that the wickedness of man was great in the earth, and that every imagination of the thoughts of his heart was only evil continually.\n",
      "Congressional sentence: He is a man of great dignity and character who takes pride in the accomplishments of those he has helped over the years.\n",
      "Bible verse: These were more noble than those in Thessalonica, in that they received the word with all readiness of mind, and searched the scriptures daily, whether those things were so.\n",
      "Congressional sentence: And we should not be ridiculed and castigated for discussing the spiritual life of our society.\n",
      "Bible verse: And, ye fathers, provoke not your children to wrath: but bring them up in the nurture and admonition of the Lord.\n",
      "Congressional sentence: We recognize the awesome responsibility of our inheritance.\n",
      "Bible verse: And if children, then heirs; heirs of God, and joint-heirs with Christ; if so be that we suffer with him, that we may be also glorified together.\n",
      "Congressional sentence: I might add, that is not where you need to look for sudden converts.\n",
      "Bible verse: Sanctify them through thy truth: thy word is truth.\n",
      "Congressional sentence: During this difficult time, we will comfort the Scarlett family and pray for their wellbeing.\n",
      "Bible verse: And they continued stedfastly in the apostles' doctrine and fellowship, and in breaking of bread, and in prayers.\n",
      "Congressional sentence: TMP, as it is known in Northwest Kansas, has served as a pillar of faith-based learning for generations.\n",
      "Bible verse: And they continued stedfastly in the apostles' doctrine and fellowship, and in breaking of bread, and in prayers.\n",
      "Congressional sentence: And so it was a very, very grim time.\n",
      "Bible verse: And this is the condemnation, that light is come into the world, and men loved darkness rather than light, because their deeds were evil.\n",
      "************************* Cosine similarity range: (0.5, 0.6) *************************\n",
      "Congressional sentence: A Christian Ministry in the National Parks will continue to touch lives for generations to come and we know Warren and Nancy will remain active participants in this and other Christian ministries.\n",
      "Bible verse: And they continued stedfastly in the apostles' doctrine and fellowship, and in breaking of bread, and in prayers.\n",
      "Congressional sentence: He is not here to do ours.\n",
      "Bible verse: He came unto his own, and his own received him not.\n",
      "Congressional sentence: May He be as original with us as He has been with others.\n",
      "Bible verse: As every man hath received the gift, even so minister the same one to another, as good stewards of the manifold grace of God.\n",
      "Congressional sentence: (10) Never be discouraged over anything!\n",
      "Bible verse: Train up a child in the way he should go: and when he is old, he will not depart from it.\n",
      "Congressional sentence: I think he knew God gave him a special gift of intellect, discipline and drive .\n",
      "Bible verse: And Jesus increased in wisdom and stature, and in favour with God and man.\n",
      "Congressional sentence: One's country is worth dying for, and democracy is worth dying for, because it's the most deeply honorable form of government ever devised by man.\n",
      "Bible verse: Greater love hath no man than this, that a man lay down his life for his friends.\n",
      "Congressional sentence: Choose the task to be done, and do it to the best of my ability.\n",
      "Bible verse: Bear ye one another's burdens, and so fulfil the law of Christ.\n",
      "Congressional sentence: In doing so, he raised his hand, Mr. Speaker, and he had this to say: That hand is not the color of yours, but if I pierce it, I shall feel pain.\n",
      "Bible verse: And I will put enmity between thee and the woman, and between thy seed and her seed; it shall bruise thy head, and thou shalt bruise his heel.\n",
      "Congressional sentence: God bless you in all your life ahead and thank you for all you have done for us and for me especially.\n",
      "Bible verse: Glory to God in the highest, and on earth peace, good will toward men.\n",
      "Congressional sentence: Yes, we live in divided times, but there is always more that unites us than divides us.\n",
      "Bible verse: There is neither Jew nor Greek, there is neither bond nor free, there is neither male nor female: for ye are all one in Christ Jesus.\n",
      "************************* Cosine similarity range: (0.6, 0.7) *************************\n",
      "Congressional sentence: In our family, we often say that the safest place in the world is to be in the center of God's will, and we believe that we had his protection.\n",
      "Bible verse: Thou wilt keep him in perfect peace, whose mind is stayed on thee: because he trusteth in thee.\n",
      "Congressional sentence: I do not know another person who has met such a challenge with more strength, faith, and grace.\n",
      "Bible verse: For when we were yet without strength, in due time Christ died for the ungodly.\n",
      "Congressional sentence: Anybody that reads through the book of Hosea will find a verse--and I had never had it jump out as it did until a few weeks ago.\n",
      "Bible verse: All that the Father giveth me shall come to me; and him that cometh to me I will in no wise cast out.\n",
      "Congressional sentence: God's blessings to you always, and once again, thank you.\n",
      "Bible verse: And I will pray the Father, and he shall give you another Comforter, that he may abide with you for ever;\n",
      "Congressional sentence: Why should we pray?\n",
      "Bible verse: Because it is written, Be ye holy; for I am holy.\n",
      "Congressional sentence: The explosion of the spirit is what happens when all the things we thought we believed in collapses, when the world of meaning collapses, when the truths that we always thought were true seem untrue, when doubt attacks every item of faith and prevails, and faith seems counterfeit, and trust wanders aimlessly hunting for a place to rest, and when other people's piety bring charges of hypocrisy to our lips.\n",
      "Bible verse: Casting down imaginations, and every high thing that exalteth itself against the knowledge of God, and bringing into captivity every thought to the obedience of Christ;\n",
      "Congressional sentence: You are blessed so that you may be a blessing to others.\n",
      "Bible verse: Blessed be the God and Father of our Lord Jesus Christ, who hath blessed us with all spiritual blessings in heavenly places in Christ:\n",
      "Congressional sentence: And when I think of him, as I do often, I recall the words from Romeo and Juliet: And, when he shall die, Take him and cut him out in little stars, And he will make the face of heaven so fine That all the world will be in love with night And pay no worship to the garish sun.\n",
      "Bible verse: I am the vine, ye are the branches: He that abideth in me, and I in him, the same bringeth forth much fruit: for without me ye can do nothing.\n",
      "Congressional sentence: A great soul never dies.''\n",
      "Bible verse: Heaven and earth shall pass away, but my words shall not pass away.\n",
      "Congressional sentence: He was deeply devoted to his family, and with their love and guidance he became devoted to his church and his faith.\n",
      "Bible verse: And they continued stedfastly in the apostles' doctrine and fellowship, and in breaking of bread, and in prayers.\n",
      "************************* Cosine similarity range: (0.7, 0.8) *************************\n",
      "Congressional sentence: The Bible says, to whom God has given much, much is expected.\n",
      "Bible verse: I have shewed you all things, how that so labouring ye ought to support the weak, and to remember the words of the Lord Jesus, how he said, It is more blessed to give than to receive.\n",
      "Congressional sentence: My parents always taught me to put my faith where it belongs--in God himself.\n",
      "Bible verse: Let not your heart be troubled: ye believe in God, believe also in me.\n",
      "Congressional sentence: Increase our faith so that no difficulty or discouragement keeps us from believing in what is right and Your ability to accomplish it through us.\n",
      "Bible verse: Bear ye one another's burdens, and so fulfil the law of Christ.\n",
      "Congressional sentence: There are some things that God cannot do.\n",
      "Bible verse: For with God nothing shall be impossible.\n",
      "Congressional sentence: Through the Holy Spirit, we seek to be guided in all things by the New and Old Testaments.\n",
      "Bible verse: BETH. Wherewithal shall a young man cleanse his way? by taking heed thereto according to thy word.\n",
      "Congressional sentence: Take up our quarrel with the foe: To you from failing hands we throw The torch; be yours to hold it high.\n",
      "Bible verse: Be sober, be vigilant; because your adversary the devil, as a roaring lion, walketh about, seeking whom he may devour:\n",
      "Congressional sentence: Even as we celebrate the differences in our religious expressions and backgrounds, even as we celebrate the fact that we will not all speak with one voice on every issue when we come into this Chamber or stand in this well or cast a vote on behalf of those we represent, but we give thanks for the opportunity to be here to be able to worship according to the dictates of our own conscience, to discuss these matters freely and openly, and to have the opportunities to see that we can address the so-called moral crisis with a commitment to seek wisdom, with a commitment in the words of the prophet Micah to do justly, to love mercy, and to walk humbly with our God.\n",
      "Bible verse: And let the peace of God rule in your hearts, to the which also ye are called in one body; and be ye thankful.\n",
      "Congressional sentence: Our God is faithful, and He is the same yesterday, today, and forever.\n",
      "Bible verse: If we confess our sins, he is faithful and just to forgive us our sins, and to cleanse us from all unrighteousness.\n",
      "Congressional sentence: May there someday be sunshine, may there someday be happiness, may there someday be love, may there someday be peace.\n",
      "Bible verse: Peace I leave with you, my peace I give unto you: not as the world giveth, give I unto you. Let not your heart be troubled, neither let it be afraid.\n",
      "Congressional sentence: Enter into the joy of your Lord.''\n",
      "Bible verse: Let the word of Christ dwell in you richly in all wisdom; teaching and admonishing one another in psalms and hymns and spiritual songs, singing with grace in your hearts to the Lord.\n",
      "************************* Cosine similarity range: (0.8, 0.9) *************************\n",
      "Congressional sentence: Hebrews 11.1 says, ``Now faith is the substance of things hoped for, the evidence of things not seen.''\n",
      "Bible verse: Now faith is the substance of things hoped for, the evidence of things not seen.\n",
      "Congressional sentence: We need to walk not in the counsel of the wicked, nor sit in the seat of scoffers, but with due humility awaken to our duty and get to work because here on Earth God's work must truly be our own.\n",
      "Bible verse: And be not conformed to this world: but be ye transformed by the renewing of your mind, that ye may prove what is that good, and acceptable, and perfect, will of God.\n",
      "Congressional sentence: Know that following the example of our father, he stood up for what he believed.\n",
      "Bible verse: Trust in the LORD with all thine heart; and lean not unto thine own understanding.\n",
      "Congressional sentence: Serve the Lord with gladness: come before His presence with singing.\n",
      "Bible verse: Let the word of Christ dwell in you richly in all wisdom; teaching and admonishing one another in psalms and hymns and spiritual songs, singing with grace in your hearts to the Lord.\n",
      "Congressional sentence: And if you give yourself to the hungry And satisfy the desire of the afflicted, Then your light will rise in darkness And your gloom will become like midday.\n",
      "Bible verse: Blessed are they which do hunger and thirst after righteousness: for they shall be filled.\n",
      "Congressional sentence: But he was pierced for our transgressions, he was crushed for our iniquities; the punishment that brought us peace was upon him, and by his wounds we are healed (Isaiah 53: 4-5).''\n",
      "Bible verse: But he was wounded for our transgressions, he was bruised for our iniquities: the chastisement of our peace was upon him; and with his stripes we are healed.\n",
      "Congressional sentence: As Paul says in his letter to the Phillippians: ``Be anxious for nothing, but in everything by prayer and supplication with thanksgiving let your requests be made known to God.\n",
      "Bible verse: Be careful for nothing; but in every thing by prayer and supplication with thanksgiving let your requests be made known unto God.\n",
      "Congressional sentence: In fact, a favorite verse of mine is John 3:16, for God so loved the world that He gave his only begotten Son, that whosoever shall believe in Him shall not perish but shall have everlasting life.\n",
      "Bible verse: For God so loved the world, that he gave his only begotten Son, that whosoever believeth in him should not perish, but have everlasting life.\n",
      "Congressional sentence: It says: Husbands love your wives, even as Christ also loved the church and gave himself for it; That he might sanctify and cleanse it with the washing of water by the word; That he might present it to himself, a glorious church, not having spot, or wrinkle, or any such thing; but that it should be holy and without blemish.\n",
      "Bible verse: Husbands, love your wives, even as Christ also loved the church, and gave himself for it;\n",
      "Congressional sentence: And the LORD will continually guide you, And satisfy your desire in scorched places, And (give strength to your bones; And you will be like a watered garden, And like a (spring of water whose waters do not fail.\n",
      "Bible verse: But they that wait upon the LORD shall renew their strength; they shall mount up with wings as eagles; they shall run, and not be weary; and they shall walk, and not faint.\n",
      "************************* Cosine similarity range: (0.9, 1.0) *************************\n",
      "Congressional sentence: By this all men know that you are my disciples, if you love one another.''\n",
      "Bible verse: By this shall all men know that ye are my disciples, if ye have love one to another.\n",
      "Congressional sentence: ``And if I go and prepare a place for you, I will come again and receive you unto myself; that where I am, there ye may also be.''\n",
      "Bible verse: And if I go and prepare a place for you, I will come again, and receive you unto myself; that where I am, there ye may be also.\n",
      "Congressional sentence: Blessed are the peacemakers, for they shall be called the children of God.\n",
      "Bible verse: Blessed are the peacemakers: for they shall be called the children of God.\n",
      "Congressional sentence: And the peace of God, which surpasses all understanding, shall guard your hearts and .\n",
      "Bible verse: And the peace of God, which passeth all understanding, shall keep your hearts and minds through Christ Jesus.\n"
     ]
    }
   ],
   "source": [
    "ranges = [(0.4, 0.5), (0.5, 0.6), (0.6, 0.7), (0.7, 0.8), (0.8, 0.9), (0.9, 1.0)]\n",
    "for r in ranges:\n",
    "    sample = df[(df['cosine_similarity'] >= r[0]) & (df['cosine_similarity'] < r[1])]\n",
    "    sample = sample.sample(min(10, len(sample.index)))\n",
    "    print(\"*\" * 25 + f\" Cosine similarity range: {r} \" + \"*\" * 25)\n",
    "    for t,v in zip(sample['text'], sample['most_similar_verse']):\n",
    "        print(\"Congressional sentence: \" + t)\n",
    "        print(\"Bible verse: \" + v)"
   ]
  },
  {
   "cell_type": "code",
   "execution_count": 69,
   "id": "58654f91-c32b-4fa2-af9c-02d23f82eff3",
   "metadata": {},
   "outputs": [
    {
     "data": {
      "text/plain": [
       "verse_citation\n",
       "Acts 17:11         11137\n",
       "Acts 2:42           8142\n",
       "Luke 2:7            4109\n",
       "Acts 5:29           3856\n",
       "Colossians 2:15     3484\n",
       "                   ...  \n",
       "Acts 22:16             1\n",
       "John 16:8              1\n",
       "1 Peter 2:21           1\n",
       "Ephesians 1:13         1\n",
       "Ephesians 2:8          1\n",
       "Name: count, Length: 494, dtype: int64"
      ]
     },
     "execution_count": 69,
     "metadata": {},
     "output_type": "execute_result"
    }
   ],
   "source": [
    "df['verse_citation'].value_counts()"
   ]
  },
  {
   "cell_type": "code",
   "execution_count": 73,
   "id": "d82811d5-6647-4b68-8d02-10ee37e1605a",
   "metadata": {},
   "outputs": [
    {
     "data": {
      "text/plain": [
       "verse_citation\n",
       "Ephesians 5:25     3\n",
       "John 13:35         2\n",
       "Isaiah 40:31       2\n",
       "Philippians 4:7    2\n",
       "Colossians 3:16    2\n",
       "Matthew 5:9        2\n",
       "Matthew 5:6        1\n",
       "Proverbs 3:5       1\n",
       "Genesis 1:31       1\n",
       "Matthew 5:44       1\n",
       "Matthew 25:40      1\n",
       "Luke 2:14          1\n",
       "John 13:34         1\n",
       "Psalm 23:1         1\n",
       "Galatians 5:13     1\n",
       "Isaiah 53:5        1\n",
       "John 3:16          1\n",
       "Hebrews 11:1       1\n",
       "Joshua 1:9         1\n",
       "Matthew 7:7        1\n",
       "Philippians 4:6    1\n",
       "Romans 12:2        1\n",
       "Isaiah 41:10       1\n",
       "John 15:13         1\n",
       "John 14:3          1\n",
       "Colossians 3:13    1\n",
       "Name: count, dtype: int64"
      ]
     },
     "execution_count": 73,
     "metadata": {},
     "output_type": "execute_result"
    }
   ],
   "source": [
    "(df[df['cosine_similarity'] > 0.8])['verse_citation'].value_counts()"
   ]
  },
  {
   "cell_type": "code",
   "execution_count": 74,
   "id": "181d856e-2c65-430c-8699-b7486576f5ec",
   "metadata": {},
   "outputs": [],
   "source": [
    "import torch"
   ]
  },
  {
   "cell_type": "code",
   "execution_count": 75,
   "id": "eb2ea4cb-e893-4a64-a6ef-c27fa4564949",
   "metadata": {},
   "outputs": [
    {
     "data": {
      "text/plain": [
       "<Axes: >"
      ]
     },
     "execution_count": 75,
     "metadata": {},
     "output_type": "execute_result"
    },
    {
     "data": {
      "image/png": "[encoded data removed]",
      "text/plain": [
       "<Figure size 640x480 with 1 Axes>"
      ]
     },
     "metadata": {},
     "output_type": "display_data"
    }
   ],
   "source": [
    "df['verse_citation'].hist()"
   ]
  },
  {
   "cell_type": "code",
   "execution_count": 76,
   "id": "476d63e2-6a51-4e2f-a4b6-8fe9b679d75d",
   "metadata": {},
   "outputs": [],
   "source": [
    "from data.congress_utils import induce_party_and_state, load_full_df_from_raw"
   ]
  },
  {
   "cell_type": "code",
   "execution_count": 68,
   "id": "9fc3ede8-a2b1-4ce3-9678-137b2dc20ed7",
   "metadata": {},
   "outputs": [
    {
     "name": "stdout",
     "output_type": "stream",
     "text": [
      "On file 0\n"
     ]
    },
    {
     "name": "stderr",
     "output_type": "stream",
     "text": [
      "100%|██████████████████████████████████████████████████████████████████████████████████████████| 106493/106493 [00:00<00:00, 151140.40it/s]\n"
     ]
    },
    {
     "name": "stdout",
     "output_type": "stream",
     "text": [
      "On file 1\n"
     ]
    },
    {
     "name": "stderr",
     "output_type": "stream",
     "text": [
      "100%|██████████████████████████████████████████████████████████████████████████████████████████| 190933/190933 [00:01<00:00, 163222.15it/s]\n"
     ]
    },
    {
     "name": "stdout",
     "output_type": "stream",
     "text": [
      "On file 2\n"
     ]
    },
    {
     "name": "stderr",
     "output_type": "stream",
     "text": [
      "100%|████████████████████████████████████████████████████████████████████████████████████████████| 94162/94162 [00:00<00:00, 179221.70it/s]\n"
     ]
    },
    {
     "name": "stdout",
     "output_type": "stream",
     "text": [
      "On file 3\n"
     ]
    },
    {
     "name": "stderr",
     "output_type": "stream",
     "text": [
      "100%|██████████████████████████████████████████████████████████████████████████████████████████| 207487/207487 [00:00<00:00, 209456.72it/s]\n"
     ]
    },
    {
     "name": "stdout",
     "output_type": "stream",
     "text": [
      "On file 4\n"
     ]
    },
    {
     "name": "stderr",
     "output_type": "stream",
     "text": [
      "100%|██████████████████████████████████████████████████████████████████████████████████████████| 183503/183503 [00:00<00:00, 210691.54it/s]\n"
     ]
    },
    {
     "name": "stdout",
     "output_type": "stream",
     "text": [
      "On file 5\n"
     ]
    },
    {
     "name": "stderr",
     "output_type": "stream",
     "text": [
      "100%|██████████████████████████████████████████████████████████████████████████████████████████| 130265/130265 [00:00<00:00, 172170.33it/s]\n"
     ]
    },
    {
     "name": "stdout",
     "output_type": "stream",
     "text": [
      "On file 6\n"
     ]
    },
    {
     "name": "stderr",
     "output_type": "stream",
     "text": [
      "100%|██████████████████████████████████████████████████████████████████████████████████████████| 197548/197548 [00:01<00:00, 172450.50it/s]\n"
     ]
    },
    {
     "name": "stdout",
     "output_type": "stream",
     "text": [
      "On file 7\n",
      "On file 8\n"
     ]
    },
    {
     "name": "stderr",
     "output_type": "stream",
     "text": [
      "100%|██████████████████████████████████████████████████████████████████████████████████████████| 139281/139281 [00:00<00:00, 218857.72it/s]\n"
     ]
    },
    {
     "name": "stdout",
     "output_type": "stream",
     "text": [
      "On file 9\n"
     ]
    },
    {
     "name": "stderr",
     "output_type": "stream",
     "text": [
      "100%|██████████████████████████████████████████████████████████████████████████████████████████| 127268/127268 [00:00<00:00, 206524.22it/s]\n"
     ]
    },
    {
     "name": "stdout",
     "output_type": "stream",
     "text": [
      "On file 10\n"
     ]
    },
    {
     "name": "stderr",
     "output_type": "stream",
     "text": [
      "100%|██████████████████████████████████████████████████████████████████████████████████████████| 179989/179989 [00:00<00:00, 203555.13it/s]\n"
     ]
    },
    {
     "name": "stdout",
     "output_type": "stream",
     "text": [
      "On file 11\n"
     ]
    },
    {
     "name": "stderr",
     "output_type": "stream",
     "text": [
      "100%|██████████████████████████████████████████████████████████████████████████████████████████| 271528/271528 [00:01<00:00, 220177.41it/s]\n"
     ]
    },
    {
     "name": "stdout",
     "output_type": "stream",
     "text": [
      "On file 12\n"
     ]
    },
    {
     "name": "stderr",
     "output_type": "stream",
     "text": [
      "100%|████████████████████████████████████████████████████████████████████████████████████████████| 48007/48007 [00:00<00:00, 228167.19it/s]\n"
     ]
    },
    {
     "name": "stdout",
     "output_type": "stream",
     "text": [
      "On file 13\n"
     ]
    },
    {
     "name": "stderr",
     "output_type": "stream",
     "text": [
      "100%|██████████████████████████████████████████████████████████████████████████████████████████| 210379/210379 [00:01<00:00, 208529.86it/s]\n"
     ]
    },
    {
     "name": "stdout",
     "output_type": "stream",
     "text": [
      "On file 14\n"
     ]
    },
    {
     "name": "stderr",
     "output_type": "stream",
     "text": [
      "100%|██████████████████████████████████████████████████████████████████████████████████████████| 196111/196111 [00:00<00:00, 211644.99it/s]\n"
     ]
    },
    {
     "name": "stdout",
     "output_type": "stream",
     "text": [
      "On file 15\n"
     ]
    },
    {
     "name": "stderr",
     "output_type": "stream",
     "text": [
      "100%|██████████████████████████████████████████████████████████████████████████████████████████████████| 80/80 [00:00<00:00, 217603.32it/s]\n"
     ]
    }
   ],
   "source": [
    "congressional_df = load_full_df_from_raw('/data/corpora/congressional-record/')\n",
    "congressional_df = induce_party_and_state(congressional_df)"
   ]
  },
  {
   "cell_type": "code",
   "execution_count": 77,
   "id": "e1294e2a-108e-443e-94c9-b62ea8ee1012",
   "metadata": {},
   "outputs": [
    {
     "data": {
      "text/plain": [
       "dtype('O')"
      ]
     },
     "execution_count": 77,
     "metadata": {},
     "output_type": "execute_result"
    }
   ],
   "source": [
    "df['sermon_idx'].dtype"
   ]
  },
  {
   "cell_type": "code",
   "execution_count": 78,
   "id": "b9d3e88e-3c54-40df-8f99-4cb9bfefd660",
   "metadata": {},
   "outputs": [],
   "source": [
    "from tqdm.notebook import tqdm"
   ]
  },
  {
   "cell_type": "code",
   "execution_count": 79,
   "id": "0c5f106c-5f79-457d-913c-46c43644880b",
   "metadata": {},
   "outputs": [
    {
     "data": {
      "application/vnd.jupyter.widget-view+json": {
       "model_id": "54212913cee94afe938923a060fbefa4",
       "version_major": 2,
       "version_minor": 0
      },
      "text/plain": [
       "  0%|          | 0/71190 [00:00<?, ?it/s]"
      ]
     },
     "metadata": {},
     "output_type": "display_data"
    }
   ],
   "source": [
    "def get_party_and_year(idx):\n",
    "    party = congressional_df.iloc[idx]['party']\n",
    "    year = congressional_df.iloc[idx]['year']\n",
    "    return party, year\n",
    "    \n",
    "party_list = []\n",
    "year_list = []\n",
    "for idx, row in tqdm(df.iterrows(), total=len(df.index)):\n",
    "    sermon_idx = int(row['sermon_idx'].replace('tensor(', '').replace(')', ''))\n",
    "    party, year = get_party_and_year(idx)\n",
    "    party_list.append(party)\n",
    "    year_list.append(year)"
   ]
  },
  {
   "cell_type": "code",
   "execution_count": 80,
   "id": "8eb6aa15-d212-4d85-9936-daa549789f26",
   "metadata": {},
   "outputs": [],
   "source": [
    "df['party'] = party_list\n",
    "df['year'] = year_list"
   ]
  },
  {
   "cell_type": "code",
   "execution_count": 81,
   "id": "560a671d-9f37-4f24-8b4a-327591a0a407",
   "metadata": {},
   "outputs": [],
   "source": [
    "df['is_rep'] = (df['party'] == 'Republican').apply(int)"
   ]
  },
  {
   "cell_type": "code",
   "execution_count": 82,
   "id": "04d66d8f-2e83-46a4-927e-742553b2e941",
   "metadata": {},
   "outputs": [],
   "source": [
    "# import pearson r\n",
    "from scipy.stats import pearsonr"
   ]
  },
  {
   "cell_type": "code",
   "execution_count": 83,
   "id": "aa21724d-5a2c-4464-ad75-025f8bd191c4",
   "metadata": {},
   "outputs": [
    {
     "data": {
      "text/plain": [
       "PearsonRResult(statistic=-0.008804838629159586, pvalue=0.01881060119544558)"
      ]
     },
     "execution_count": 83,
     "metadata": {},
     "output_type": "execute_result"
    }
   ],
   "source": [
    "pearsonr(df['is_rep'], df['cosine_similarity'])"
   ]
  },
  {
   "cell_type": "code",
   "execution_count": 84,
   "id": "cdaf1964-8f74-45c4-aa5b-55f3d9a74a3d",
   "metadata": {},
   "outputs": [
    {
     "data": {
      "text/plain": [
       "PearsonRResult(statistic=0.0399337231612145, pvalue=1.5835416639615917e-26)"
      ]
     },
     "execution_count": 84,
     "metadata": {},
     "output_type": "execute_result"
    }
   ],
   "source": [
    "pearsonr(df['year'], df['cosine_similarity'])"
   ]
  },
  {
   "cell_type": "code",
   "execution_count": 85,
   "id": "168236b0-6f9a-48b3-ba68-26934a5605a3",
   "metadata": {},
   "outputs": [],
   "source": [
    "import matplotlib.pyplot as plt\n",
    "import seaborn as sns"
   ]
  },
  {
   "cell_type": "code",
   "execution_count": 86,
   "id": "680dade1-bc1f-4af2-a32c-9cae1c224f95",
   "metadata": {},
   "outputs": [
    {
     "data": {
      "image/png": "[encoded data removed]",
      "text/plain": [
       "<Figure size 640x480 with 1 Axes>"
      ]
     },
     "metadata": {},
     "output_type": "display_data"
    }
   ],
   "source": [
    "sns.lineplot(data=df[df['party'] == 'Democrat'], x='year', y='cosine_similarity', color='blue') # how to set color?\n",
    "sns.lineplot(data=df[df['party'] == 'Republican'], x='year', y='cosine_similarity', color='red') # how to set color?\n",
    "plt.legend([],[], frameon=False)\n",
    "plt.show()"
   ]
  },
  {
   "cell_type": "code",
   "execution_count": 9,
   "id": "b134ad3b-978a-4d3f-b585-178d7e8bfc1d",
   "metadata": {},
   "outputs": [
    {
     "name": "stdout",
     "output_type": "stream",
     "text": [
      "Loading data\n",
      "On file 0\n"
     ]
    },
    {
     "name": "stderr",
     "output_type": "stream",
     "text": [
      "100%|███████████████████████████████████████████████████████████████████████████████████████████| 106493/106493 [00:01<00:00, 81011.92it/s]\n"
     ]
    },
    {
     "name": "stdout",
     "output_type": "stream",
     "text": [
      "On file 1\n"
     ]
    },
    {
     "name": "stderr",
     "output_type": "stream",
     "text": [
      "100%|███████████████████████████████████████████████████████████████████████████████████████████| 190933/190933 [00:02<00:00, 79720.39it/s]\n"
     ]
    },
    {
     "name": "stdout",
     "output_type": "stream",
     "text": [
      "On file 2\n"
     ]
    },
    {
     "name": "stderr",
     "output_type": "stream",
     "text": [
      "100%|█████████████████████████████████████████████████████████████████████████████████████████████| 94162/94162 [00:01<00:00, 81569.68it/s]\n"
     ]
    },
    {
     "name": "stdout",
     "output_type": "stream",
     "text": [
      "On file 3\n"
     ]
    },
    {
     "name": "stderr",
     "output_type": "stream",
     "text": [
      "100%|███████████████████████████████████████████████████████████████████████████████████████████| 207487/207487 [00:02<00:00, 78086.67it/s]\n"
     ]
    },
    {
     "name": "stdout",
     "output_type": "stream",
     "text": [
      "On file 4\n"
     ]
    },
    {
     "name": "stderr",
     "output_type": "stream",
     "text": [
      "100%|███████████████████████████████████████████████████████████████████████████████████████████| 183503/183503 [00:02<00:00, 78093.80it/s]\n"
     ]
    },
    {
     "name": "stdout",
     "output_type": "stream",
     "text": [
      "On file 5\n"
     ]
    },
    {
     "name": "stderr",
     "output_type": "stream",
     "text": [
      "100%|███████████████████████████████████████████████████████████████████████████████████████████| 130265/130265 [00:01<00:00, 77127.20it/s]\n"
     ]
    },
    {
     "name": "stdout",
     "output_type": "stream",
     "text": [
      "On file 6\n"
     ]
    },
    {
     "name": "stderr",
     "output_type": "stream",
     "text": [
      "100%|███████████████████████████████████████████████████████████████████████████████████████████| 197548/197548 [00:02<00:00, 75813.17it/s]\n"
     ]
    },
    {
     "name": "stdout",
     "output_type": "stream",
     "text": [
      "On file 7\n",
      "On file 8\n"
     ]
    },
    {
     "name": "stderr",
     "output_type": "stream",
     "text": [
      "100%|███████████████████████████████████████████████████████████████████████████████████████████| 139281/139281 [00:01<00:00, 80522.50it/s]\n"
     ]
    },
    {
     "name": "stdout",
     "output_type": "stream",
     "text": [
      "On file 9\n"
     ]
    },
    {
     "name": "stderr",
     "output_type": "stream",
     "text": [
      "100%|███████████████████████████████████████████████████████████████████████████████████████████| 127268/127268 [00:01<00:00, 78986.26it/s]\n"
     ]
    },
    {
     "name": "stdout",
     "output_type": "stream",
     "text": [
      "On file 10\n"
     ]
    },
    {
     "name": "stderr",
     "output_type": "stream",
     "text": [
      "100%|███████████████████████████████████████████████████████████████████████████████████████████| 179989/179989 [00:02<00:00, 76438.16it/s]\n"
     ]
    },
    {
     "name": "stdout",
     "output_type": "stream",
     "text": [
      "On file 11\n"
     ]
    },
    {
     "name": "stderr",
     "output_type": "stream",
     "text": [
      "100%|███████████████████████████████████████████████████████████████████████████████████████████| 271528/271528 [00:03<00:00, 77607.97it/s]\n"
     ]
    },
    {
     "name": "stdout",
     "output_type": "stream",
     "text": [
      "On file 12\n"
     ]
    },
    {
     "name": "stderr",
     "output_type": "stream",
     "text": [
      "100%|█████████████████████████████████████████████████████████████████████████████████████████████| 48007/48007 [00:00<00:00, 81373.89it/s]\n"
     ]
    },
    {
     "name": "stdout",
     "output_type": "stream",
     "text": [
      "On file 13\n"
     ]
    },
    {
     "name": "stderr",
     "output_type": "stream",
     "text": [
      "100%|███████████████████████████████████████████████████████████████████████████████████████████| 210379/210379 [00:02<00:00, 73935.28it/s]\n"
     ]
    },
    {
     "name": "stdout",
     "output_type": "stream",
     "text": [
      "On file 14\n"
     ]
    },
    {
     "name": "stderr",
     "output_type": "stream",
     "text": [
      "100%|███████████████████████████████████████████████████████████████████████████████████████████| 196111/196111 [00:02<00:00, 75725.76it/s]\n"
     ]
    },
    {
     "name": "stdout",
     "output_type": "stream",
     "text": [
      "On file 15\n"
     ]
    },
    {
     "name": "stderr",
     "output_type": "stream",
     "text": [
      "100%|███████████████████████████████████████████████████████████████████████████████████████████| 122717/122717 [00:01<00:00, 76198.83it/s]\n"
     ]
    }
   ],
   "source": [
    "import pandas as pd\n",
    "from data.congress_utils import load_full_df_from_raw, induce_party_and_state, induce_topic\n",
    "from data.data_utils import get_simple_overlap, get_relig_boolean\n",
    "from tqdm import tqdm\n",
    "import json\n",
    "\n",
    "tqdm.pandas()\n",
    "\n",
    "## constants\n",
    "output_path = '/data/laviniad/sermons-ir/unified_congress_df_with_scores.json'\n",
    "classifier_path = '/data/laviniad/congress_errata/idx_to_classifier_output.json'\n",
    "bible_to_base_path = '/data/laviniad/congress_errata/idx_to_ppl_bible_and_base.json'\n",
    "embedding_results = '/data/laviniad/sermons-ir/modeling/mpnet_results/results.csv'\n",
    "\n",
    "DEBUG=True\n",
    "\n",
    "## load data\n",
    "print(\"Loading data\")\n",
    "congress_df = load_full_df_from_raw('/data/corpora/congressional-record', remove_procedural_speeches=True)\n",
    "congress_df = induce_party_and_state(congress_df)\n",
    "congress_df = induce_topic(congress_df)"
   ]
  },
  {
   "cell_type": "code",
   "execution_count": 10,
   "id": "ba9893a4-2c4e-4147-988c-770c3fb0a702",
   "metadata": {},
   "outputs": [
    {
     "name": "stdout",
     "output_type": "stream",
     "text": [
      "Getting max similar embeddings for verse reference\n"
     ]
    },
    {
     "data": {
      "text/plain": [
       "0          False\n",
       "1          False\n",
       "2          False\n",
       "3          False\n",
       "4          False\n",
       "           ...  \n",
       "2188226    False\n",
       "2188227    False\n",
       "2188228    False\n",
       "2188229    False\n",
       "2188230    False\n",
       "Name: congress_idx, Length: 2188231, dtype: bool"
      ]
     },
     "execution_count": 10,
     "metadata": {},
     "output_type": "execute_result"
    }
   ],
   "source": [
    "print(\"Getting max similar embeddings for verse reference\")\n",
    "embedding_results = '/data/laviniad/sermons-ir/modeling/mpnet_results/results.csv'\n",
    "congress_df['official_index'] = congress_df.index.to_series()\n",
    "mpnet_scores = pd.read_csv(embedding_results) # columns are congress_idx,text,most_similar_verse,cosine_similarity,verse_citation\n",
    "mpnet_scores['congress_idx'] == mpnet_scores['congress_idx'].apply(lambda x: x.replace('tensor(', '').replace(')', '')).apply(int)"
   ]
  },
  {
   "cell_type": "code",
   "execution_count": 17,
   "id": "b452e4ea-a747-4a3f-aa58-deaf0aff2aae",
   "metadata": {},
   "outputs": [
    {
     "data": {
      "text/html": [
       "<div>\n",
       "<style scoped>\n",
       "    .dataframe tbody tr th:only-of-type {\n",
       "        vertical-align: middle;\n",
       "    }\n",
       "\n",
       "    .dataframe tbody tr th {\n",
       "        vertical-align: top;\n",
       "    }\n",
       "\n",
       "    .dataframe thead th {\n",
       "        text-align: right;\n",
       "    }\n",
       "</style>\n",
       "<table border=\"1\" class=\"dataframe\">\n",
       "  <thead>\n",
       "    <tr style=\"text-align: right;\">\n",
       "      <th></th>\n",
       "      <th>bio_id</th>\n",
       "      <th>congress_num</th>\n",
       "      <th>year</th>\n",
       "      <th>date</th>\n",
       "      <th>chamber</th>\n",
       "      <th>speaker</th>\n",
       "      <th>text</th>\n",
       "      <th>party</th>\n",
       "      <th>state</th>\n",
       "      <th>main_topic</th>\n",
       "      <th>official_index</th>\n",
       "    </tr>\n",
       "  </thead>\n",
       "  <tbody>\n",
       "    <tr>\n",
       "      <th>0</th>\n",
       "      <td>L000397</td>\n",
       "      <td>116</td>\n",
       "      <td>2019</td>\n",
       "      <td>20190104</td>\n",
       "      <td>House</td>\n",
       "      <td>Ms. LOFGREN</td>\n",
       "      <td>Ms. LOFGREN. Madam Speaker, I rise today to ho...</td>\n",
       "      <td>Democrat</td>\n",
       "      <td>CA</td>\n",
       "      <td>BipartisanProcedure</td>\n",
       "      <td>0</td>\n",
       "    </tr>\n",
       "    <tr>\n",
       "      <th>1</th>\n",
       "      <td>W000804</td>\n",
       "      <td>116</td>\n",
       "      <td>2019</td>\n",
       "      <td>20190104</td>\n",
       "      <td>House</td>\n",
       "      <td>Mr. WITTMAN</td>\n",
       "      <td>Mr. WITTMAN. Madam Speaker, I was not present ...</td>\n",
       "      <td>Republican</td>\n",
       "      <td>VA</td>\n",
       "      <td>Transportation</td>\n",
       "      <td>1</td>\n",
       "    </tr>\n",
       "    <tr>\n",
       "      <th>2</th>\n",
       "      <td>S001201</td>\n",
       "      <td>116</td>\n",
       "      <td>2019</td>\n",
       "      <td>20190104</td>\n",
       "      <td>House</td>\n",
       "      <td>Mr. SUOZZI</td>\n",
       "      <td>Mr. SUOZZI. Madam Speaker, today is former Con...</td>\n",
       "      <td>Democrat</td>\n",
       "      <td>NY</td>\n",
       "      <td>CompaniesStocks</td>\n",
       "      <td>2</td>\n",
       "    </tr>\n",
       "    <tr>\n",
       "      <th>3</th>\n",
       "      <td>S001199</td>\n",
       "      <td>116</td>\n",
       "      <td>2019</td>\n",
       "      <td>20190104</td>\n",
       "      <td>House</td>\n",
       "      <td>Mr. SMUCKER</td>\n",
       "      <td>Mr. SMUCKER. Madam Speaker, I regret I was una...</td>\n",
       "      <td>Republican</td>\n",
       "      <td>PA</td>\n",
       "      <td>Unknown1</td>\n",
       "      <td>3</td>\n",
       "    </tr>\n",
       "    <tr>\n",
       "      <th>4</th>\n",
       "      <td>U000031</td>\n",
       "      <td>116</td>\n",
       "      <td>2019</td>\n",
       "      <td>20190104</td>\n",
       "      <td>House</td>\n",
       "      <td>Mr. UPTON</td>\n",
       "      <td>Mr. UPTON. Madam Speaker, I was unavoidably de...</td>\n",
       "      <td>Republican</td>\n",
       "      <td>MI</td>\n",
       "      <td>Abortion</td>\n",
       "      <td>4</td>\n",
       "    </tr>\n",
       "    <tr>\n",
       "      <th>...</th>\n",
       "      <td>...</td>\n",
       "      <td>...</td>\n",
       "      <td>...</td>\n",
       "      <td>...</td>\n",
       "      <td>...</td>\n",
       "      <td>...</td>\n",
       "      <td>...</td>\n",
       "      <td>...</td>\n",
       "      <td>...</td>\n",
       "      <td>...</td>\n",
       "      <td>...</td>\n",
       "    </tr>\n",
       "    <tr>\n",
       "      <th>2405661</th>\n",
       "      <td>M000355</td>\n",
       "      <td>115</td>\n",
       "      <td>2019</td>\n",
       "      <td>20190102</td>\n",
       "      <td>Senate</td>\n",
       "      <td>Mr. McCONNELL</td>\n",
       "      <td>Mr. McCONNELL. I ask unanimous consent that th...</td>\n",
       "      <td>Republican</td>\n",
       "      <td>KY</td>\n",
       "      <td>nonlabeled</td>\n",
       "      <td>2405661</td>\n",
       "    </tr>\n",
       "    <tr>\n",
       "      <th>2405663</th>\n",
       "      <td>M000639</td>\n",
       "      <td>115</td>\n",
       "      <td>2019</td>\n",
       "      <td>20190102</td>\n",
       "      <td>Senate</td>\n",
       "      <td>Mr. MENENDEZ</td>\n",
       "      <td>Mr. MENENDEZ. Mr. President, today I wish to c...</td>\n",
       "      <td>Democrat</td>\n",
       "      <td>NJ</td>\n",
       "      <td>nonlabeled</td>\n",
       "      <td>2405663</td>\n",
       "    </tr>\n",
       "    <tr>\n",
       "      <th>2405664</th>\n",
       "      <td>V000128</td>\n",
       "      <td>115</td>\n",
       "      <td>2019</td>\n",
       "      <td>20190102</td>\n",
       "      <td>Senate</td>\n",
       "      <td>Mr. VAN HOLLEN</td>\n",
       "      <td>Mr. VAN HOLLEN. Mr. President, before the 115t...</td>\n",
       "      <td>Democrat</td>\n",
       "      <td>MD</td>\n",
       "      <td>nonlabeled</td>\n",
       "      <td>2405664</td>\n",
       "    </tr>\n",
       "    <tr>\n",
       "      <th>2405667</th>\n",
       "      <td>I000024</td>\n",
       "      <td>115</td>\n",
       "      <td>2019</td>\n",
       "      <td>20190102</td>\n",
       "      <td>Senate</td>\n",
       "      <td>Mr. INHOFE</td>\n",
       "      <td>Mr. INHOFE. Mr. President, it is my honor to p...</td>\n",
       "      <td>Republican</td>\n",
       "      <td>OK</td>\n",
       "      <td>nonlabeled</td>\n",
       "      <td>2405667</td>\n",
       "    </tr>\n",
       "    <tr>\n",
       "      <th>2405669</th>\n",
       "      <td>M000355</td>\n",
       "      <td>115</td>\n",
       "      <td>2019</td>\n",
       "      <td>20190102</td>\n",
       "      <td>Senate</td>\n",
       "      <td>Mr. McCONNELL</td>\n",
       "      <td>Mr. McCONNELL. Mr. President, I ask unanimous ...</td>\n",
       "      <td>Republican</td>\n",
       "      <td>KY</td>\n",
       "      <td>nonlabeled</td>\n",
       "      <td>2405669</td>\n",
       "    </tr>\n",
       "  </tbody>\n",
       "</table>\n",
       "<p>1328805 rows × 11 columns</p>\n",
       "</div>"
      ],
      "text/plain": [
       "          bio_id  congress_num  year      date chamber         speaker  \\\n",
       "0        L000397           116  2019  20190104   House     Ms. LOFGREN   \n",
       "1        W000804           116  2019  20190104   House     Mr. WITTMAN   \n",
       "2        S001201           116  2019  20190104   House      Mr. SUOZZI   \n",
       "3        S001199           116  2019  20190104   House     Mr. SMUCKER   \n",
       "4        U000031           116  2019  20190104   House       Mr. UPTON   \n",
       "...          ...           ...   ...       ...     ...             ...   \n",
       "2405661  M000355           115  2019  20190102  Senate   Mr. McCONNELL   \n",
       "2405663  M000639           115  2019  20190102  Senate    Mr. MENENDEZ   \n",
       "2405664  V000128           115  2019  20190102  Senate  Mr. VAN HOLLEN   \n",
       "2405667  I000024           115  2019  20190102  Senate      Mr. INHOFE   \n",
       "2405669  M000355           115  2019  20190102  Senate   Mr. McCONNELL   \n",
       "\n",
       "                                                      text       party state  \\\n",
       "0        Ms. LOFGREN. Madam Speaker, I rise today to ho...    Democrat    CA   \n",
       "1        Mr. WITTMAN. Madam Speaker, I was not present ...  Republican    VA   \n",
       "2        Mr. SUOZZI. Madam Speaker, today is former Con...    Democrat    NY   \n",
       "3        Mr. SMUCKER. Madam Speaker, I regret I was una...  Republican    PA   \n",
       "4        Mr. UPTON. Madam Speaker, I was unavoidably de...  Republican    MI   \n",
       "...                                                    ...         ...   ...   \n",
       "2405661  Mr. McCONNELL. I ask unanimous consent that th...  Republican    KY   \n",
       "2405663  Mr. MENENDEZ. Mr. President, today I wish to c...    Democrat    NJ   \n",
       "2405664  Mr. VAN HOLLEN. Mr. President, before the 115t...    Democrat    MD   \n",
       "2405667  Mr. INHOFE. Mr. President, it is my honor to p...  Republican    OK   \n",
       "2405669  Mr. McCONNELL. Mr. President, I ask unanimous ...  Republican    KY   \n",
       "\n",
       "                  main_topic  official_index  \n",
       "0        BipartisanProcedure               0  \n",
       "1             Transportation               1  \n",
       "2            CompaniesStocks               2  \n",
       "3                   Unknown1               3  \n",
       "4                   Abortion               4  \n",
       "...                      ...             ...  \n",
       "2405661           nonlabeled         2405661  \n",
       "2405663           nonlabeled         2405663  \n",
       "2405664           nonlabeled         2405664  \n",
       "2405667           nonlabeled         2405667  \n",
       "2405669           nonlabeled         2405669  \n",
       "\n",
       "[1328805 rows x 11 columns]"
      ]
     },
     "execution_count": 17,
     "metadata": {},
     "output_type": "execute_result"
    }
   ],
   "source": [
    "congress_df"
   ]
  },
  {
   "cell_type": "code",
   "execution_count": 15,
   "id": "701f4bdd-dc3c-4b70-a594-32a7715b9db8",
   "metadata": {},
   "outputs": [
    {
     "data": {
      "text/plain": [
       "verse_citation\n",
       "John 15:13        68\n",
       "Matthew 5:9       31\n",
       "Isaiah 41:10      29\n",
       "Matthew 25:40     28\n",
       "Isaiah 40:31      20\n",
       "                  ..\n",
       "Romans 15:13       1\n",
       "Galatians 6:9      1\n",
       "2 Timothy 2:15     1\n",
       "James 1:26         1\n",
       "Romans 8:18        1\n",
       "Name: count, Length: 209, dtype: int64"
      ]
     },
     "execution_count": 15,
     "metadata": {},
     "output_type": "execute_result"
    }
   ],
   "source": [
    "mpnet_scores[mpnet_scores['cosine_similarity'] > 0.8]['verse_citation'].value_counts()"
   ]
  },
  {
   "cell_type": "code",
   "execution_count": 21,
   "id": "8d9b61da-a36c-4435-a3b5-17e419917a7c",
   "metadata": {},
   "outputs": [],
   "source": [
    "from tqdm import tqdm\n",
    "tqdm.pandas()"
   ]
  },
  {
   "cell_type": "code",
   "execution_count": 22,
   "id": "87efac46-446e-4818-8d74-af77106100b6",
   "metadata": {},
   "outputs": [
    {
     "name": "stderr",
     "output_type": "stream",
     "text": [
      "100%|██████████████████████████████████████████████████████████████████████████████████████████| 2188231/2188231 [04:16<00:00, 8524.92it/s]\n"
     ]
    }
   ],
   "source": [
    "def get_yr(congress_idx):\n",
    "    idx_key = int(congress_idx.replace('tensor(', '').replace(')', ''))\n",
    "    if idx_key in congress_df.index:\n",
    "        year = congress_df.loc[idx_key]['year']\n",
    "        return year\n",
    "    else:\n",
    "        return 0\n",
    "\n",
    "mpnet_scores['year'] = mpnet_scores['congress_idx'].progress_apply(get_yr)"
   ]
  },
  {
   "cell_type": "code",
   "execution_count": 52,
   "id": "dfee7a3f-b81b-4569-afe9-487b6561204f",
   "metadata": {},
   "outputs": [
    {
     "name": "stderr",
     "output_type": "stream",
     "text": [
      "100%|██████████████████████████████████████████████████████████████████████████████████████████| 2188231/2188231 [03:57<00:00, 9222.56it/s]\n"
     ]
    }
   ],
   "source": [
    "def get_party(congress_idx):\n",
    "    idx_key = int(congress_idx.replace('tensor(', '').replace(')', ''))\n",
    "    if idx_key in congress_df.index:\n",
    "        year = congress_df.loc[idx_key]['party']\n",
    "        return year\n",
    "    else:\n",
    "        return 0\n",
    "\n",
    "mpnet_scores['party'] = mpnet_scores['congress_idx'].progress_apply(get_yr)"
   ]
  },
  {
   "cell_type": "code",
   "execution_count": 53,
   "id": "c2f12ac3-c343-4d65-b2cf-a56c0075f59a",
   "metadata": {},
   "outputs": [],
   "source": [
    "mpnet_scores['is_cite'] = (mpnet_scores['cosine_similarity'] > 0.8)"
   ]
  },
  {
   "cell_type": "code",
   "execution_count": 36,
   "id": "937d6c71-e1de-4103-b92f-1bcf00495f9e",
   "metadata": {},
   "outputs": [],
   "source": [
    "filtered_scores = mpnet_scores[mpnet_scores['cosine_similarity'] > 0.8]"
   ]
  },
  {
   "cell_type": "code",
   "execution_count": 47,
   "id": "5c6f7c37-1fe9-440f-8487-f729c28b0ece",
   "metadata": {},
   "outputs": [],
   "source": [
    "occurrence_counts = filtered_scores['verse_citation'].value_counts()\n",
    "\n",
    "NUM = 15\n",
    "types_to_include = occurrence_counts[occurrence_counts > NUM].index\n",
    "filtered_scores = filtered_scores[filtered_scores['verse_citation'].isin(types_to_include)]"
   ]
  },
  {
   "cell_type": "code",
   "execution_count": 48,
   "id": "c843e5f3-7aa8-4d4f-bbb5-775b689894b0",
   "metadata": {},
   "outputs": [],
   "source": [
    "counts_per_occurrence_type = filtered_scores.groupby(['year', 'verse_citation']).size().unstack(fill_value=0)"
   ]
  },
  {
   "cell_type": "code",
   "execution_count": 49,
   "id": "b25e6ec7-4a80-4c7d-bded-7615da13fc51",
   "metadata": {},
   "outputs": [
    {
     "data": {
      "text/html": [
       "<div>\n",
       "<style scoped>\n",
       "    .dataframe tbody tr th:only-of-type {\n",
       "        vertical-align: middle;\n",
       "    }\n",
       "\n",
       "    .dataframe tbody tr th {\n",
       "        vertical-align: top;\n",
       "    }\n",
       "\n",
       "    .dataframe thead th {\n",
       "        text-align: right;\n",
       "    }\n",
       "</style>\n",
       "<table border=\"1\" class=\"dataframe\">\n",
       "  <thead>\n",
       "    <tr style=\"text-align: right;\">\n",
       "      <th>verse_citation</th>\n",
       "      <th>Genesis 2:24</th>\n",
       "      <th>Isaiah 40:31</th>\n",
       "      <th>Isaiah 41:10</th>\n",
       "      <th>John 15:13</th>\n",
       "      <th>John 3:16</th>\n",
       "      <th>Matthew 25:40</th>\n",
       "      <th>Matthew 5:9</th>\n",
       "    </tr>\n",
       "    <tr>\n",
       "      <th>year</th>\n",
       "      <th></th>\n",
       "      <th></th>\n",
       "      <th></th>\n",
       "      <th></th>\n",
       "      <th></th>\n",
       "      <th></th>\n",
       "      <th></th>\n",
       "    </tr>\n",
       "  </thead>\n",
       "  <tbody>\n",
       "    <tr>\n",
       "      <th>1995</th>\n",
       "      <td>0</td>\n",
       "      <td>1</td>\n",
       "      <td>1</td>\n",
       "      <td>1</td>\n",
       "      <td>0</td>\n",
       "      <td>5</td>\n",
       "      <td>6</td>\n",
       "    </tr>\n",
       "    <tr>\n",
       "      <th>1996</th>\n",
       "      <td>1</td>\n",
       "      <td>0</td>\n",
       "      <td>0</td>\n",
       "      <td>0</td>\n",
       "      <td>0</td>\n",
       "      <td>1</td>\n",
       "      <td>0</td>\n",
       "    </tr>\n",
       "    <tr>\n",
       "      <th>1997</th>\n",
       "      <td>0</td>\n",
       "      <td>1</td>\n",
       "      <td>0</td>\n",
       "      <td>0</td>\n",
       "      <td>2</td>\n",
       "      <td>0</td>\n",
       "      <td>0</td>\n",
       "    </tr>\n",
       "    <tr>\n",
       "      <th>1998</th>\n",
       "      <td>0</td>\n",
       "      <td>3</td>\n",
       "      <td>1</td>\n",
       "      <td>7</td>\n",
       "      <td>0</td>\n",
       "      <td>0</td>\n",
       "      <td>2</td>\n",
       "    </tr>\n",
       "    <tr>\n",
       "      <th>1999</th>\n",
       "      <td>0</td>\n",
       "      <td>1</td>\n",
       "      <td>0</td>\n",
       "      <td>1</td>\n",
       "      <td>1</td>\n",
       "      <td>0</td>\n",
       "      <td>4</td>\n",
       "    </tr>\n",
       "  </tbody>\n",
       "</table>\n",
       "</div>"
      ],
      "text/plain": [
       "verse_citation  Genesis 2:24  Isaiah 40:31  Isaiah 41:10  John 15:13  \\\n",
       "year                                                                   \n",
       "1995                       0             1             1           1   \n",
       "1996                       1             0             0           0   \n",
       "1997                       0             1             0           0   \n",
       "1998                       0             3             1           7   \n",
       "1999                       0             1             0           1   \n",
       "\n",
       "verse_citation  John 3:16  Matthew 25:40  Matthew 5:9  \n",
       "year                                                   \n",
       "1995                    0              5            6  \n",
       "1996                    0              1            0  \n",
       "1997                    2              0            0  \n",
       "1998                    0              0            2  \n",
       "1999                    1              0            4  "
      ]
     },
     "execution_count": 49,
     "metadata": {},
     "output_type": "execute_result"
    }
   ],
   "source": [
    "counts_per_occurrence_type.head()"
   ]
  },
  {
   "cell_type": "code",
   "execution_count": 51,
   "id": "9c1af1b2-190c-4493-8558-69e830c23120",
   "metadata": {},
   "outputs": [
    {
     "data": {
      "image/png": "[encoded data removed]",
      "text/plain": [
       "<Figure size 1000x600 with 1 Axes>"
      ]
     },
     "metadata": {},
     "output_type": "display_data"
    }
   ],
   "source": [
    "plt.figure(figsize=(10, 6))\n",
    "for occurrence_type in counts_per_occurrence_type.columns:\n",
    "    plt.plot(counts_per_occurrence_type.index, counts_per_occurrence_type[occurrence_type], marker='o', linestyle='-', label=occurrence_type)\n",
    "\n",
    "plt.title('Counts of Verse Citations Over Time')\n",
    "plt.xlabel('Year')\n",
    "plt.ylabel('Count')\n",
    "plt.xticks(rotation=45)\n",
    "plt.legend()\n",
    "plt.tight_layout()\n",
    "plt.show()"
   ]
  },
  {
   "cell_type": "code",
   "execution_count": null,
   "id": "e9754a8b-c5f5-415e-9645-4497c5e613f7",
   "metadata": {},
   "outputs": [],
   "source": [
    "counts_per_occurrence_type = filtered_scores.groupby(['year', 'party']).size().unstack(fill_value=0)"
   ]
  },
  {
   "cell_type": "code",
   "execution_count": 55,
   "id": "161eb2aa-95e0-4014-af90-38df70132835",
   "metadata": {},
   "outputs": [
    {
     "data": {
      "text/plain": [
       "0"
      ]
     },
     "execution_count": 55,
     "metadata": {},
     "output_type": "execute_result"
    }
   ],
   "source": [
    "min(mpnet_scores['year'])"
   ]
  },
  {
   "cell_type": "code",
   "execution_count": null,
   "id": "bd9f89b4-d6b2-4ea5-8ab0-498f71dd8b3b",
   "metadata": {},
   "outputs": [],
   "source": [
    "mpnet_scores = mpnet_scores[mpnet_scores['year'] > 1990]\n",
    "sns.scatterplot(data=mpnet_scores, y='is_cite', x='year', hue='party')\n",
    "\n",
    "plt.title('Counts of Verse Citations Over Time (Party)')\n",
    "plt.xlabel('Year')\n",
    "plt.ylabel('Count')\n",
    "plt.xticks(rotation=45)\n",
    "plt.legend()\n",
    "plt.tight_layout()\n",
    "plt.show()"
   ]
  },
  {
   "cell_type": "code",
   "execution_count": null,
   "id": "f96a86d4-6738-4afd-805e-53ef94ec68a9",
   "metadata": {},
   "outputs": [],
   "source": [
    "def get_max_cs(index_num, df):\n",
    "    relevant_rows = df[df['congress_idx'] == index_num]\n",
    "    if len(relevant_rows) > 0:\n",
    "        max_cs = relevant_rows['cosine_similarity'].max()\n",
    "        return max_cs\n",
    "    else:\n",
    "        return -1"
   ]
  }
 ],
 "metadata": {
  "kernelspec": {
   "display_name": "myenv",
   "language": "python",
   "name": "myenv"
  },
  "language_info": {
   "codemirror_mode": {
    "name": "ipython",
    "version": 3
   },
   "file_extension": ".py",
   "mimetype": "text/x-python",
   "name": "python",
   "nbconvert_exporter": "python",
   "pygments_lexer": "ipython3",
   "version": "3.11.4"
  }
 },
 "nbformat": 4,
 "nbformat_minor": 5
}
