{
 "cells": [
  {
   "cell_type": "code",
   "execution_count": 1,
   "id": "8da553eb-a851-4668-acda-42510b0fd53e",
   "metadata": {},
   "outputs": [],
   "source": [
    "import pandas as pd"
   ]
  },
  {
   "cell_type": "code",
   "execution_count": 2,
   "id": "7d4d9cf9-3826-48b5-82bc-58728396dafa",
   "metadata": {},
   "outputs": [],
   "source": [
    "import json\n",
    "\n",
    "NER_file = '/data/laviniad/sermons-ir/ner/sermons.json'\n",
    "\n",
    "with open(NER_file, 'r') as f:\n",
    "    data = json.load(f)"
   ]
  },
  {
   "cell_type": "code",
   "execution_count": 6,
   "id": "df89143d-8d8c-4ef0-a70c-710373e4e5f5",
   "metadata": {},
   "outputs": [],
   "source": [
    "new_df = []\n",
    "\n",
    "for idx,d in enumerate(data):\n",
    "    for i in d.keys():\n",
    "        new_df.append({'word': i, 'type': d[i]})\n",
    "    \n",
    "new_df = pd.DataFrame(new_df)"
   ]
  },
  {
   "cell_type": "code",
   "execution_count": 7,
   "id": "29bc87fb-4fee-4829-9b90-67783348baa9",
   "metadata": {},
   "outputs": [
    {
     "data": {
      "text/plain": [
       "word\n",
       "Jesus                               114982\n",
       "2                                   109459\n",
       "3                                   100755\n",
       "one                                  98273\n",
       "1                                    95009\n",
       "                                     ...  \n",
       "the age of fifty seven                   1\n",
       "Buddhists Christians                     1\n",
       "¦s Witnesses Mormons Muslims\\n\\n         1\n",
       "¦s Witnesses¡¦                           1\n",
       "THE RESPONSIBILITY OF ACTIONS            1\n",
       "Name: count, Length: 938386, dtype: int64"
      ]
     },
     "execution_count": 7,
     "metadata": {},
     "output_type": "execute_result"
    }
   ],
   "source": [
    "vcs = new_df['word'].value_counts()"
   ]
  },
  {
   "cell_type": "code",
   "execution_count": null,
   "id": "3bd002d3-2ade-4b60-9dbd-f7424bbf1476",
   "metadata": {},
   "outputs": [],
   "source": []
  }
 ],
 "metadata": {
  "kernelspec": {
   "display_name": "sermons",
   "language": "python",
   "name": "sermons"
  },
  "language_info": {
   "codemirror_mode": {
    "name": "ipython",
    "version": 3
   },
   "file_extension": ".py",
   "mimetype": "text/x-python",
   "name": "python",
   "nbconvert_exporter": "python",
   "pygments_lexer": "ipython3",
   "version": "3.11.5"
  }
 },
 "nbformat": 4,
 "nbformat_minor": 5
}
