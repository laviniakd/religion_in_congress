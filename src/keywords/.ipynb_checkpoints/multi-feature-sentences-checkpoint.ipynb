{
 "cells": [
  {
   "cell_type": "code",
   "execution_count": 124,
   "id": "4ddae4d0-2532-4305-b7d4-a75c32003e9b",
   "metadata": {},
   "outputs": [],
   "source": [
    "import pandas as pd\n",
    "from data import presidential_utils\n",
    "from data.data_utils import load_spacy_sentencizer"
   ]
  },
  {
   "cell_type": "code",
   "execution_count": 125,
   "id": "ed29551d-d9e2-4116-91ef-ce80f0b5cf15",
   "metadata": {},
   "outputs": [],
   "source": [
    "import numpy as np\n",
    "import string"
   ]
  },
  {
   "cell_type": "code",
   "execution_count": 126,
   "id": "2d2cacc9-c77e-4589-a61d-b2b2be7caf7b",
   "metadata": {},
   "outputs": [
    {
     "data": {
      "text/plain": [
       "<spacy.pipeline.sentencizer.Sentencizer at 0x7f8d4ba627d0>"
      ]
     },
     "execution_count": 126,
     "metadata": {},
     "output_type": "execute_result"
    }
   ],
   "source": [
    "import spacy\n",
    "from spacy.pipeline import Sentencizer\n",
    "nlp = spacy.load(\"en_core_web_sm\")\n",
    "config = {\"punct_chars\": ['!', '.', '?', '...', ';', ':', '(', ')']}\n",
    "nlp.add_pipe(\"sentencizer\", config=config)"
   ]
  },
  {
   "cell_type": "code",
   "execution_count": 127,
   "id": "cecbcea3-b087-4b16-a397-c50151ed952d",
   "metadata": {},
   "outputs": [],
   "source": [
    "from spacy.lang.en import stop_words\n",
    "stop_words = stop_words.STOP_WORDS"
   ]
  },
  {
   "cell_type": "code",
   "execution_count": 128,
   "id": "bfc4532c-cf8c-4c5b-9692-c9f4ec4bae69",
   "metadata": {},
   "outputs": [
    {
     "name": "stdout",
     "output_type": "stream",
     "text": [
      "Now loading data...\n"
     ]
    },
    {
     "name": "stderr",
     "output_type": "stream",
     "text": [
      " 19%|███████████████████▊                                                                                  | 19/98 [08:15<34:19, 26.07s/it]\n"
     ]
    },
    {
     "name": "stdout",
     "output_type": "stream",
     "text": [
      "Note: this method used to return a DF where the sermon text was word-tokenized. It does not do this anymore; each sermon is one string.\n",
      "Loaded presidential dataframe with 340 rows...\n",
      "Length of sentence list: 231\n"
     ]
    }
   ],
   "source": [
    "pres_path = \"/data/laviniad/presidential\"\n",
    "output_dir = \"/data/laviniad/sermons-ir/modeling/presidential_pretrained/\"\n",
    "\n",
    "DEBUG = False\n",
    "\n",
    "nlp.max_length = 10025560\n",
    "\n",
    "print(\"Now loading data...\")\n",
    "#print(truncated_texts)\n",
    "text_list = []\n",
    "if not DEBUG:\n",
    "    pres_dict = presidential_utils.load_presidential_from_raw(pres_path)\n",
    "    pres_df = presidential_utils.output_comprehensive_df(pres_dict)\n",
    "    print(f\"Loaded presidential dataframe with {len(pres_df.index)} rows...\")\n",
    "    truncated_texts = [t[:max(nlp.max_length, len(t))] for t in pres_df['text'] if t]\n",
    "    \n",
    "    for p in nlp.pipe(truncated_texts, disable=[\"tok2vec\", \"tagger\", \"parser\", \"attribute_ruler\", \"lemmatizer\", \"ner\"]):\n",
    "        text_list.append([s.text.strip() for s in p.sents if s.text.strip()])\n",
    "    \n",
    "    print(f\"Length of sentence list: {len(text_list)}\")\n",
    "else:\n",
    "    text_list = [[\"I would like training to work.\", \"God is definitely real and I met him.\", \"People should go to church more.\", \"I love to write robust code.\"]]"
   ]
  },
  {
   "cell_type": "code",
   "execution_count": 129,
   "id": "620133e4-b43f-4a35-b50e-3bd73ae46ca3",
   "metadata": {},
   "outputs": [],
   "source": [
    "## load models etc\n",
    "import json\n",
    "import pickle as pkl\n",
    "keywords = '/data/laviniad/sermons-ir/log_odds/final/coca_sermon_odds.json'\n",
    "POS_ngram_file = '/data/laviniad/sermons-ir/POS_ngrams/raw_ngrams/sermons_3.pkl'\n",
    "NER_file = '/data/laviniad/sermons-ir/ner/sermons.json'"
   ]
  },
  {
   "cell_type": "code",
   "execution_count": 131,
   "id": "c5e15c51-8dd9-4cd3-9b63-87f02b77b5ca",
   "metadata": {},
   "outputs": [],
   "source": [
    "import pprint\n",
    "\n",
    "def get_keywords(keyword_path):\n",
    "    with open(keyword_path) as f:\n",
    "        keyword_set = list(json.load(f).keys())\n",
    "        print(keyword_set[:100])\n",
    "        #print(keyword_set[:4])\n",
    "    keyword_set = [k for k in keyword_set if not (k in stop_words) and not ('\\\\u' in k) and not (k in string.punctuation)]\n",
    "    keyword_set = keyword_set[:100]\n",
    "    return keyword_set"
   ]
  },
  {
   "cell_type": "code",
   "execution_count": 99,
   "id": "cd915cee-1dda-4cf4-a7e8-a46eae2fe3c9",
   "metadata": {},
   "outputs": [],
   "source": [
    "def get_pos_model(pos_ngram_path):\n",
    "    with open(pos_ngram_path, 'rb') as f:\n",
    "        pos_tags = pkl.load(f)\n",
    "\n",
    "    ngram_counts = defaultdict(int)\n",
    "    n_1gram_counts = defaultdict(int)\n",
    "    ngram_probabilities = {}\n",
    "\n",
    "    for ngram in pos_tags:\n",
    "        ngram_counts[ngram] += 1\n",
    "        n_1gram = ngram[:-1]\n",
    "        n_1gram_counts[n_1gram] += 1\n",
    "\n",
    "    for ngram, count in ngram_counts.items():\n",
    "        n_1gram = ngram[:-1]\n",
    "        probability = count / n_1gram_counts[n_1gram]\n",
    "        ngram_probabilities[ngram] = probability\n",
    "\n",
    "    return ngram_probabilities"
   ]
  },
  {
   "cell_type": "code",
   "execution_count": 100,
   "id": "156a44a8-c433-4420-a0b5-a64463d8759e",
   "metadata": {},
   "outputs": [],
   "source": [
    "def get_NEs(ne_path):\n",
    "    with open(ne_path) as f:\n",
    "        nes = json.load(f)\n",
    "\n",
    "    return nes"
   ]
  },
  {
   "cell_type": "code",
   "execution_count": 101,
   "id": "964aa10f-af3c-4659-a1ff-01c28b6581bb",
   "metadata": {},
   "outputs": [],
   "source": [
    "## DEBUG\n",
    "with open(POS_ngram_file, 'rb') as f:\n",
    "    pos_tags = pkl.load(f)"
   ]
  },
  {
   "cell_type": "code",
   "execution_count": 130,
   "id": "f04e5261-dcb5-46c4-9bdb-af58590d76d3",
   "metadata": {},
   "outputs": [],
   "source": [
    "from collections import Counter"
   ]
  },
  {
   "cell_type": "code",
   "execution_count": 103,
   "id": "cab72e13-7059-44a4-b4e6-509e7d1729d9",
   "metadata": {},
   "outputs": [],
   "source": [
    "## idea: for each model, have 'score' method where input is text\n",
    "class KeywordSimilarity:\n",
    "    def init(ranked_keywords):\n",
    "        self.keywords = ranked_keywords\n",
    "\n",
    "\n",
    "    def preprocess_text(text):\n",
    "        tokens = word_tokenize(text.lower())\n",
    "        tokens = [token for token in tokens if token.isalpha()]\n",
    "        tokens = [token for token in tokens if token not in stopwords.words('english')]\n",
    "        return ' '.join(tokens)\n",
    "    \n",
    "    \n",
    "    def score(text):\n",
    "        prepped_text = preprocess_text(text)\n",
    "        count = 0\n",
    "        # no ranking\n",
    "        for k in text:\n",
    "            if k in self.keywords:\n",
    "                count += 1\n",
    "        return count / prepped_text\n",
    "\n",
    "\n",
    "class POSSimilarity:\n",
    "    def init(ngrams, model, N):\n",
    "        self.ngrams = ngrams\n",
    "        self.model = model\n",
    "        self.N = N\n",
    "                      \n",
    "\n",
    "    # tags\n",
    "    def preprocess_text(text, nlp):\n",
    "        pos_tags = [token.pos_ for token in nlp(text)]\n",
    "        return pos_tags\n",
    "        \n",
    "\n",
    "    def score(text):\n",
    "        scores = []\n",
    "        prepped_text = preprocess_text(text)\n",
    "        for idx, tag in enumerate(prepped_text):\n",
    "            if idx + N < len(prepped_text):\n",
    "                scores.append(np.log(model[prepped_text[ngram]]))\n",
    "        \n",
    "        return np.mean()\n",
    "        \n",
    "\n",
    "class NERSimilarity:\n",
    "    def init(NEs, use_labels=False): # NEs is list of [text, type] tuples\n",
    "        if not use_labels:\n",
    "            NEs = [n[0] for n in NEs]\n",
    "            self.named_entities = NEs\n",
    "            self.counts = dict(Counter(NEs))\n",
    "            self.ent_set = set(counts.keys())\n",
    "        else:\n",
    "            NEs = [n[1] for n in NEs]\n",
    "            self.named_entities = NEs\n",
    "            self.counts = dict(Counter(NEs))\n",
    "            self.tag_set = set(counts.keys())\n",
    "\n",
    "\n",
    "    def preprocess_text(text):\n",
    "        entities = nlp(text).ents\n",
    "        tags = [ent.tag_ for ent in entities]\n",
    "        texts = [ent.text for ent in entities]\n",
    "        return tags, texts\n",
    "    \n",
    "    \n",
    "    def score(text):\n",
    "        prepped_tags, prepped_texts = preprocess_text(text)\n",
    "        \n",
    "        if use_labels:\n",
    "            p_tag_set = set(prepped_tags)\n",
    "            sim = len(p_tag_set & self.tag_set) / len(p_tag_set | self.tag_set)\n",
    "            return sim\n",
    "        else:\n",
    "            p_text_set = set(prepped_texts)\n",
    "            sim = len(p_text_set & self.ent_set) / len(p_text_set | self.ent_set)\n",
    "            return sim\n",
    "            "
   ]
  },
  {
   "cell_type": "code",
   "execution_count": 2,
   "id": "7f113c73-9f00-441c-affa-0b4b64080c23",
   "metadata": {},
   "outputs": [
    {
     "ename": "NameError",
     "evalue": "name 'KeywordSimilarity' is not defined",
     "output_type": "error",
     "traceback": [
      "\u001b[0;31m---------------------------------------------------------------------------\u001b[0m",
      "\u001b[0;31mNameError\u001b[0m                                 Traceback (most recent call last)",
      "\u001b[0;32m/tmp/ipykernel_2352868/321671745.py\u001b[0m in \u001b[0;36m<module>\u001b[0;34m\u001b[0m\n\u001b[0;32m----> 1\u001b[0;31m \u001b[0mks\u001b[0m \u001b[0;34m=\u001b[0m \u001b[0mKeywordSimilarity\u001b[0m\u001b[0;34m(\u001b[0m\u001b[0mget_keywords\u001b[0m\u001b[0;34m(\u001b[0m\u001b[0mkeywords\u001b[0m\u001b[0;34m)\u001b[0m\u001b[0;34m)\u001b[0m\u001b[0;34m\u001b[0m\u001b[0;34m\u001b[0m\u001b[0m\n\u001b[0m\u001b[1;32m      2\u001b[0m \u001b[0mner\u001b[0m \u001b[0;34m=\u001b[0m \u001b[0mNERSimilarity\u001b[0m\u001b[0;34m(\u001b[0m\u001b[0mget_NEs\u001b[0m\u001b[0;34m(\u001b[0m\u001b[0mNER_file\u001b[0m\u001b[0;34m)\u001b[0m\u001b[0;34m)\u001b[0m\u001b[0;34m\u001b[0m\u001b[0;34m\u001b[0m\u001b[0m\n",
      "\u001b[0;31mNameError\u001b[0m: name 'KeywordSimilarity' is not defined"
     ]
    }
   ],
   "source": [
    "ks = KeywordSimilarity(get_keywords(keywords))\n",
    "ner = NERSimilarity(get_NEs(NER_file))"
   ]
  },
  {
   "cell_type": "code",
   "execution_count": 132,
   "id": "d16227af-6a18-4ceb-bdf8-039d46bfe1b1",
   "metadata": {},
   "outputs": [
    {
     "name": "stdout",
     "output_type": "stream",
     "text": [
      "['lord', 'christ', 'read', 'spirit', 'life', 'faith', 'holy', 'church', 'people', 'disciples', 'love', 'word', 'heaven', 'bible', 'sins', 'verse', 'righteousness', 'things', 'worship', 'would', 'glory', 'world', 'psalm', 'prayer', 'pray', 'corinthians', 'father', 'salvation', 'like', 'good', 'time', 'kingdom', 'heart', 'gospel', 'grace', 'need', 'ephesians', 'eternal', 'spiritual', 'must', 'hebrews', 'lives', 'scripture', 'live', 'christians', 'many', 'even', 'pharisees', 'romans', 'truth', 'every', 'great', 'want', 'peter', 'power', 'death', 'christian', 'believers', 'evil', 'savior', 'earth', 'name', 'others', 'righteous', 'words', 'today', 'also', 'person', 'first', 'praise', 'israelites', 'jerusalem', 'never', 'place', 'verses', 'hearts', 'servant', 'king', 'peace', 'resurrection', 'philippians', 'therefore', 'look', 'living', 'flesh', 'cross', 'work', 'thou', 'apostle', 'could', 'right', 'mercy', 'godly', 'something', 'away', 'another', 'sinners', 'messiah', 'means', 'forgiveness']\n"
     ]
    }
   ],
   "source": [
    "keyword_list = get_keywords(keywords)"
   ]
  },
  {
   "cell_type": "code",
   "execution_count": 133,
   "id": "6c241beb-8091-4a00-aa35-e8a263a43ce6",
   "metadata": {},
   "outputs": [
    {
     "data": {
      "text/plain": [
       "['lord',\n",
       " 'christ',\n",
       " 'read',\n",
       " 'spirit',\n",
       " 'life',\n",
       " 'faith',\n",
       " 'holy',\n",
       " 'church',\n",
       " 'people',\n",
       " 'disciples',\n",
       " 'love',\n",
       " 'word',\n",
       " 'heaven',\n",
       " 'bible',\n",
       " 'sins',\n",
       " 'verse',\n",
       " 'righteousness',\n",
       " 'things',\n",
       " 'worship',\n",
       " 'glory',\n",
       " 'world',\n",
       " 'psalm',\n",
       " 'prayer',\n",
       " 'pray',\n",
       " 'corinthians',\n",
       " 'father',\n",
       " 'salvation',\n",
       " 'like',\n",
       " 'good',\n",
       " 'time',\n",
       " 'kingdom',\n",
       " 'heart',\n",
       " 'gospel',\n",
       " 'grace',\n",
       " 'need',\n",
       " 'ephesians',\n",
       " 'eternal',\n",
       " 'spiritual',\n",
       " 'hebrews',\n",
       " 'lives',\n",
       " 'scripture',\n",
       " 'live',\n",
       " 'christians',\n",
       " 'pharisees',\n",
       " 'romans',\n",
       " 'truth',\n",
       " 'great',\n",
       " 'want',\n",
       " 'peter',\n",
       " 'power',\n",
       " 'death',\n",
       " 'christian',\n",
       " 'believers',\n",
       " 'evil',\n",
       " 'savior',\n",
       " 'earth',\n",
       " 'righteous',\n",
       " 'words',\n",
       " 'today',\n",
       " 'person',\n",
       " 'praise',\n",
       " 'israelites',\n",
       " 'jerusalem',\n",
       " 'place',\n",
       " 'verses',\n",
       " 'hearts',\n",
       " 'servant',\n",
       " 'king',\n",
       " 'peace',\n",
       " 'resurrection',\n",
       " 'philippians',\n",
       " 'look',\n",
       " 'living',\n",
       " 'flesh',\n",
       " 'cross',\n",
       " 'work',\n",
       " 'thou',\n",
       " 'apostle',\n",
       " 'right',\n",
       " 'mercy',\n",
       " 'godly',\n",
       " 'away',\n",
       " 'sinners',\n",
       " 'messiah',\n",
       " 'means',\n",
       " 'forgiveness',\n",
       " 'sermon',\n",
       " 'faithful',\n",
       " 'repent',\n",
       " 'children',\n",
       " 'covenant',\n",
       " 'hope',\n",
       " 'apostles',\n",
       " 'prophets',\n",
       " 'true',\n",
       " 'think',\n",
       " 'colossians',\n",
       " 'tell',\n",
       " 'galatians',\n",
       " 'message']"
      ]
     },
     "execution_count": 133,
     "metadata": {},
     "output_type": "execute_result"
    }
   ],
   "source": [
    "keyword_list"
   ]
  },
  {
   "cell_type": "code",
   "execution_count": 134,
   "id": "62f1e01d-f3f6-493a-8c8a-912c55787cd9",
   "metadata": {},
   "outputs": [],
   "source": [
    "def get_lexical_overlap(speech):\n",
    "    split_speech = speech.split()\n",
    "\n",
    "    if len(split_speech) != 0:\n",
    "        count = 0\n",
    "        for t in split_speech:\n",
    "            if t in keyword_list:\n",
    "                count += 1\n",
    "    \n",
    "        return count / len(split_speech)\n",
    "    return 0"
   ]
  },
  {
   "cell_type": "code",
   "execution_count": 135,
   "id": "1db4f59f-d1e9-40f7-8aab-9302523d6793",
   "metadata": {},
   "outputs": [],
   "source": [
    "pres_df['lexical'] = pres_df['text'].apply(get_lexical_overlap)"
   ]
  },
  {
   "cell_type": "code",
   "execution_count": 136,
   "id": "9cfc47a3-fc16-43e7-96b6-fe3b651a5c5b",
   "metadata": {},
   "outputs": [
    {
     "data": {
      "text/html": [
       "<div>\n",
       "<style scoped>\n",
       "    .dataframe tbody tr th:only-of-type {\n",
       "        vertical-align: middle;\n",
       "    }\n",
       "\n",
       "    .dataframe tbody tr th {\n",
       "        vertical-align: top;\n",
       "    }\n",
       "\n",
       "    .dataframe thead th {\n",
       "        text-align: right;\n",
       "    }\n",
       "</style>\n",
       "<table border=\"1\" class=\"dataframe\">\n",
       "  <thead>\n",
       "    <tr style=\"text-align: right;\">\n",
       "      <th></th>\n",
       "      <th>year</th>\n",
       "      <th>genre</th>\n",
       "      <th>text</th>\n",
       "      <th>lexical</th>\n",
       "    </tr>\n",
       "  </thead>\n",
       "  <tbody>\n",
       "    <tr>\n",
       "      <th>0</th>\n",
       "      <td>1990</td>\n",
       "      <td>inaugurals</td>\n",
       "      <td></td>\n",
       "      <td>0.000000</td>\n",
       "    </tr>\n",
       "    <tr>\n",
       "      <th>1</th>\n",
       "      <td>1990</td>\n",
       "      <td>sotu_addresses</td>\n",
       "      <td>Mr. President , Mr. Speaker , Members of the U...</td>\n",
       "      <td>0.033478</td>\n",
       "    </tr>\n",
       "    <tr>\n",
       "      <th>2</th>\n",
       "      <td>1990</td>\n",
       "      <td>spoken_addresses</td>\n",
       "      <td>Mr. President , thank you for those very kind ...</td>\n",
       "      <td>0.027371</td>\n",
       "    </tr>\n",
       "    <tr>\n",
       "      <th>3</th>\n",
       "      <td>1990</td>\n",
       "      <td>written_messages</td>\n",
       "      <td>Merry Christmas and happy holidays to you who ...</td>\n",
       "      <td>0.011622</td>\n",
       "    </tr>\n",
       "    <tr>\n",
       "      <th>4</th>\n",
       "      <td>1990</td>\n",
       "      <td>farewell</td>\n",
       "      <td></td>\n",
       "      <td>0.000000</td>\n",
       "    </tr>\n",
       "  </tbody>\n",
       "</table>\n",
       "</div>"
      ],
      "text/plain": [
       "   year             genre                                               text  \\\n",
       "0  1990        inaugurals                                                      \n",
       "1  1990    sotu_addresses  Mr. President , Mr. Speaker , Members of the U...   \n",
       "2  1990  spoken_addresses  Mr. President , thank you for those very kind ...   \n",
       "3  1990  written_messages  Merry Christmas and happy holidays to you who ...   \n",
       "4  1990          farewell                                                      \n",
       "\n",
       "    lexical  \n",
       "0  0.000000  \n",
       "1  0.033478  \n",
       "2  0.027371  \n",
       "3  0.011622  \n",
       "4  0.000000  "
      ]
     },
     "execution_count": 136,
     "metadata": {},
     "output_type": "execute_result"
    }
   ],
   "source": [
    "pres_df.head()"
   ]
  },
  {
   "cell_type": "code",
   "execution_count": 137,
   "id": "15981dc9-d06c-49d3-b67b-294d1c94cdc7",
   "metadata": {},
   "outputs": [],
   "source": [
    "import matplotlib.pyplot as plt\n",
    "import seaborn as sns"
   ]
  },
  {
   "cell_type": "code",
   "execution_count": 138,
   "id": "06bbf15d-e348-49f5-9434-d612bb3232c4",
   "metadata": {},
   "outputs": [],
   "source": [
    "pres_df['year'] = pres_df['year'].apply(lambda x: int(x))"
   ]
  },
  {
   "cell_type": "code",
   "execution_count": 139,
   "id": "b9434b77-5702-4007-b6fb-1e90a04b5c36",
   "metadata": {},
   "outputs": [],
   "source": [
    "pres_df = pres_df[pres_df['year'] < 2022]"
   ]
  },
  {
   "cell_type": "code",
   "execution_count": 140,
   "id": "7c11ac88-f356-4aa3-a116-1b7cd22c89f0",
   "metadata": {},
   "outputs": [],
   "source": [
    "pres_df['inaugural_year'] = pres_df['year'].apply(lambda x: (x - 1) % 4 == 0)"
   ]
  },
  {
   "cell_type": "code",
   "execution_count": 141,
   "id": "9fa762a6-b337-40ae-9b9c-ab0b4e0c2a21",
   "metadata": {},
   "outputs": [
    {
     "data": {
      "text/html": [
       "<div>\n",
       "<style scoped>\n",
       "    .dataframe tbody tr th:only-of-type {\n",
       "        vertical-align: middle;\n",
       "    }\n",
       "\n",
       "    .dataframe tbody tr th {\n",
       "        vertical-align: top;\n",
       "    }\n",
       "\n",
       "    .dataframe thead th {\n",
       "        text-align: right;\n",
       "    }\n",
       "</style>\n",
       "<table border=\"1\" class=\"dataframe\">\n",
       "  <thead>\n",
       "    <tr style=\"text-align: right;\">\n",
       "      <th></th>\n",
       "      <th>year</th>\n",
       "      <th>genre</th>\n",
       "      <th>text</th>\n",
       "      <th>lexical</th>\n",
       "      <th>inaugural_year</th>\n",
       "    </tr>\n",
       "  </thead>\n",
       "  <tbody>\n",
       "    <tr>\n",
       "      <th>0</th>\n",
       "      <td>1990</td>\n",
       "      <td>inaugurals</td>\n",
       "      <td></td>\n",
       "      <td>0.000000</td>\n",
       "      <td>False</td>\n",
       "    </tr>\n",
       "    <tr>\n",
       "      <th>1</th>\n",
       "      <td>1990</td>\n",
       "      <td>sotu_addresses</td>\n",
       "      <td>Mr. President , Mr. Speaker , Members of the U...</td>\n",
       "      <td>0.033478</td>\n",
       "      <td>False</td>\n",
       "    </tr>\n",
       "    <tr>\n",
       "      <th>2</th>\n",
       "      <td>1990</td>\n",
       "      <td>spoken_addresses</td>\n",
       "      <td>Mr. President , thank you for those very kind ...</td>\n",
       "      <td>0.027371</td>\n",
       "      <td>False</td>\n",
       "    </tr>\n",
       "    <tr>\n",
       "      <th>3</th>\n",
       "      <td>1990</td>\n",
       "      <td>written_messages</td>\n",
       "      <td>Merry Christmas and happy holidays to you who ...</td>\n",
       "      <td>0.011622</td>\n",
       "      <td>False</td>\n",
       "    </tr>\n",
       "    <tr>\n",
       "      <th>4</th>\n",
       "      <td>1990</td>\n",
       "      <td>farewell</td>\n",
       "      <td></td>\n",
       "      <td>0.000000</td>\n",
       "      <td>False</td>\n",
       "    </tr>\n",
       "  </tbody>\n",
       "</table>\n",
       "</div>"
      ],
      "text/plain": [
       "   year             genre                                               text  \\\n",
       "0  1990        inaugurals                                                      \n",
       "1  1990    sotu_addresses  Mr. President , Mr. Speaker , Members of the U...   \n",
       "2  1990  spoken_addresses  Mr. President , thank you for those very kind ...   \n",
       "3  1990  written_messages  Merry Christmas and happy holidays to you who ...   \n",
       "4  1990          farewell                                                      \n",
       "\n",
       "    lexical  inaugural_year  \n",
       "0  0.000000           False  \n",
       "1  0.033478           False  \n",
       "2  0.027371           False  \n",
       "3  0.011622           False  \n",
       "4  0.000000           False  "
      ]
     },
     "execution_count": 141,
     "metadata": {},
     "output_type": "execute_result"
    }
   ],
   "source": [
    "pres_df.head()"
   ]
  },
  {
   "cell_type": "code",
   "execution_count": 33,
   "id": "5c485272-1a64-48ba-9a08-ef7a487f88fc",
   "metadata": {},
   "outputs": [
    {
     "data": {
      "text/plain": [
       "array([1990, 'inaugurals', '', 0.0, False], dtype=object)"
      ]
     },
     "execution_count": 33,
     "metadata": {},
     "output_type": "execute_result"
    }
   ],
   "source": [
    "pres_num[0]"
   ]
  },
  {
   "cell_type": "code",
   "execution_count": null,
   "id": "8447d9c9-cf74-4856-895c-a4318b51cda9",
   "metadata": {},
   "outputs": [],
   "source": [
    "pres_num = pres_df.to_numpy()\n",
    "print(pres_num)"
   ]
  },
  {
   "cell_type": "code",
   "execution_count": 41,
   "id": "bceb8f1b-44bb-448c-9568-db0504328040",
   "metadata": {},
   "outputs": [
    {
     "ename": "ValueError",
     "evalue": "Multi-dimensional indexing (e.g. `obj[:, None]`) is no longer supported. Convert to a numpy array before indexing instead.",
     "output_type": "error",
     "traceback": [
      "\u001b[0;31m---------------------------------------------------------------------------\u001b[0m",
      "\u001b[0;31mValueError\u001b[0m                                Traceback (most recent call last)",
      "\u001b[0;32m/tmp/ipykernel_2352868/2845266829.py\u001b[0m in \u001b[0;36m<module>\u001b[0;34m\u001b[0m\n\u001b[0;32m----> 1\u001b[0;31m \u001b[0msns\u001b[0m\u001b[0;34m.\u001b[0m\u001b[0mpointplot\u001b[0m\u001b[0;34m(\u001b[0m\u001b[0mdata\u001b[0m\u001b[0;34m=\u001b[0m\u001b[0mpres_df\u001b[0m\u001b[0;34m,\u001b[0m \u001b[0my\u001b[0m\u001b[0;34m=\u001b[0m\u001b[0;34m'lexical'\u001b[0m\u001b[0;34m,\u001b[0m \u001b[0mx\u001b[0m\u001b[0;34m=\u001b[0m\u001b[0;34m'year'\u001b[0m\u001b[0;34m,\u001b[0m \u001b[0mhue\u001b[0m\u001b[0;34m=\u001b[0m\u001b[0;34m'inaugural_year'\u001b[0m\u001b[0;34m)\u001b[0m\u001b[0;34m\u001b[0m\u001b[0;34m\u001b[0m\u001b[0m\n\u001b[0m\u001b[1;32m      2\u001b[0m \u001b[0;31m#sns.pointplot(y=pres_num[:,3], x=pres_num[:,0], hue=pres_num[:,4])#, linestyle='none', errorbar=None)\u001b[0m\u001b[0;34m\u001b[0m\u001b[0;34m\u001b[0m\u001b[0m\n\u001b[1;32m      3\u001b[0m \u001b[0mplt\u001b[0m\u001b[0;34m.\u001b[0m\u001b[0mxticks\u001b[0m\u001b[0;34m(\u001b[0m\u001b[0mrotation\u001b[0m\u001b[0;34m=\u001b[0m\u001b[0;36m75\u001b[0m\u001b[0;34m)\u001b[0m\u001b[0;34m\u001b[0m\u001b[0;34m\u001b[0m\u001b[0m\n\u001b[1;32m      4\u001b[0m \u001b[0mplt\u001b[0m\u001b[0;34m.\u001b[0m\u001b[0mylabel\u001b[0m\u001b[0;34m(\u001b[0m\u001b[0;34m'Proportion of religious keywords'\u001b[0m\u001b[0;34m)\u001b[0m\u001b[0;34m\u001b[0m\u001b[0;34m\u001b[0m\u001b[0m\n\u001b[1;32m      5\u001b[0m \u001b[0mplt\u001b[0m\u001b[0;34m.\u001b[0m\u001b[0mxlabel\u001b[0m\u001b[0;34m(\u001b[0m\u001b[0;34m'Year'\u001b[0m\u001b[0;34m)\u001b[0m\u001b[0;34m\u001b[0m\u001b[0;34m\u001b[0m\u001b[0m\n",
      "\u001b[0;32m~/.local/lib/python3.10/site-packages/seaborn/categorical.py\u001b[0m in \u001b[0;36mpointplot\u001b[0;34m(data, x, y, hue, order, hue_order, estimator, errorbar, n_boot, units, seed, color, palette, hue_norm, markers, linestyles, dodge, log_scale, native_scale, orient, capsize, formatter, legend, err_kws, ci, errwidth, join, scale, ax, **kwargs)\u001b[0m\n\u001b[1;32m   2498\u001b[0m     \u001b[0merr_kws\u001b[0m\u001b[0;34m,\u001b[0m \u001b[0mcapsize\u001b[0m \u001b[0;34m=\u001b[0m \u001b[0mp\u001b[0m\u001b[0;34m.\u001b[0m\u001b[0m_err_kws_backcompat\u001b[0m\u001b[0;34m(\u001b[0m\u001b[0merr_kws\u001b[0m\u001b[0;34m,\u001b[0m \u001b[0;32mNone\u001b[0m\u001b[0;34m,\u001b[0m \u001b[0merrwidth\u001b[0m\u001b[0;34m,\u001b[0m \u001b[0mcapsize\u001b[0m\u001b[0;34m)\u001b[0m\u001b[0;34m\u001b[0m\u001b[0;34m\u001b[0m\u001b[0m\n\u001b[1;32m   2499\u001b[0m \u001b[0;34m\u001b[0m\u001b[0m\n\u001b[0;32m-> 2500\u001b[0;31m     p.plot_points(\n\u001b[0m\u001b[1;32m   2501\u001b[0m         \u001b[0maggregator\u001b[0m\u001b[0;34m=\u001b[0m\u001b[0maggregator\u001b[0m\u001b[0;34m,\u001b[0m\u001b[0;34m\u001b[0m\u001b[0;34m\u001b[0m\u001b[0m\n\u001b[1;32m   2502\u001b[0m         \u001b[0mmarkers\u001b[0m\u001b[0;34m=\u001b[0m\u001b[0mmarkers\u001b[0m\u001b[0;34m,\u001b[0m\u001b[0;34m\u001b[0m\u001b[0;34m\u001b[0m\u001b[0m\n",
      "\u001b[0;32m~/.local/lib/python3.10/site-packages/seaborn/categorical.py\u001b[0m in \u001b[0;36mplot_points\u001b[0;34m(self, aggregator, markers, linestyles, dodge, color, capsize, err_kws, plot_kws)\u001b[0m\n\u001b[1;32m   1220\u001b[0m             )\n\u001b[1;32m   1221\u001b[0m \u001b[0;34m\u001b[0m\u001b[0m\n\u001b[0;32m-> 1222\u001b[0;31m             \u001b[0mline\u001b[0m\u001b[0;34m,\u001b[0m \u001b[0;34m=\u001b[0m \u001b[0max\u001b[0m\u001b[0;34m.\u001b[0m\u001b[0mplot\u001b[0m\u001b[0;34m(\u001b[0m\u001b[0magg_data\u001b[0m\u001b[0;34m[\u001b[0m\u001b[0;34m\"x\"\u001b[0m\u001b[0;34m]\u001b[0m\u001b[0;34m,\u001b[0m \u001b[0magg_data\u001b[0m\u001b[0;34m[\u001b[0m\u001b[0;34m\"y\"\u001b[0m\u001b[0;34m]\u001b[0m\u001b[0;34m,\u001b[0m \u001b[0;34m**\u001b[0m\u001b[0msub_kws\u001b[0m\u001b[0;34m)\u001b[0m\u001b[0;34m\u001b[0m\u001b[0;34m\u001b[0m\u001b[0m\n\u001b[0m\u001b[1;32m   1223\u001b[0m \u001b[0;34m\u001b[0m\u001b[0m\n\u001b[1;32m   1224\u001b[0m             \u001b[0msub_err_kws\u001b[0m \u001b[0;34m=\u001b[0m \u001b[0merr_kws\u001b[0m\u001b[0;34m.\u001b[0m\u001b[0mcopy\u001b[0m\u001b[0;34m(\u001b[0m\u001b[0;34m)\u001b[0m\u001b[0;34m\u001b[0m\u001b[0;34m\u001b[0m\u001b[0m\n",
      "\u001b[0;32m/usr/lib/python3/dist-packages/matplotlib/axes/_axes.py\u001b[0m in \u001b[0;36mplot\u001b[0;34m(self, scalex, scaley, data, *args, **kwargs)\u001b[0m\n\u001b[1;32m   1630\u001b[0m         \"\"\"\n\u001b[1;32m   1631\u001b[0m         \u001b[0mkwargs\u001b[0m \u001b[0;34m=\u001b[0m \u001b[0mcbook\u001b[0m\u001b[0;34m.\u001b[0m\u001b[0mnormalize_kwargs\u001b[0m\u001b[0;34m(\u001b[0m\u001b[0mkwargs\u001b[0m\u001b[0;34m,\u001b[0m \u001b[0mmlines\u001b[0m\u001b[0;34m.\u001b[0m\u001b[0mLine2D\u001b[0m\u001b[0;34m)\u001b[0m\u001b[0;34m\u001b[0m\u001b[0;34m\u001b[0m\u001b[0m\n\u001b[0;32m-> 1632\u001b[0;31m         \u001b[0mlines\u001b[0m \u001b[0;34m=\u001b[0m \u001b[0;34m[\u001b[0m\u001b[0;34m*\u001b[0m\u001b[0mself\u001b[0m\u001b[0;34m.\u001b[0m\u001b[0m_get_lines\u001b[0m\u001b[0;34m(\u001b[0m\u001b[0;34m*\u001b[0m\u001b[0margs\u001b[0m\u001b[0;34m,\u001b[0m \u001b[0mdata\u001b[0m\u001b[0;34m=\u001b[0m\u001b[0mdata\u001b[0m\u001b[0;34m,\u001b[0m \u001b[0;34m**\u001b[0m\u001b[0mkwargs\u001b[0m\u001b[0;34m)\u001b[0m\u001b[0;34m]\u001b[0m\u001b[0;34m\u001b[0m\u001b[0;34m\u001b[0m\u001b[0m\n\u001b[0m\u001b[1;32m   1633\u001b[0m         \u001b[0;32mfor\u001b[0m \u001b[0mline\u001b[0m \u001b[0;32min\u001b[0m \u001b[0mlines\u001b[0m\u001b[0;34m:\u001b[0m\u001b[0;34m\u001b[0m\u001b[0;34m\u001b[0m\u001b[0m\n\u001b[1;32m   1634\u001b[0m             \u001b[0mself\u001b[0m\u001b[0;34m.\u001b[0m\u001b[0madd_line\u001b[0m\u001b[0;34m(\u001b[0m\u001b[0mline\u001b[0m\u001b[0;34m)\u001b[0m\u001b[0;34m\u001b[0m\u001b[0;34m\u001b[0m\u001b[0m\n",
      "\u001b[0;32m/usr/lib/python3/dist-packages/matplotlib/axes/_base.py\u001b[0m in \u001b[0;36m__call__\u001b[0;34m(self, data, *args, **kwargs)\u001b[0m\n\u001b[1;32m    310\u001b[0m                 \u001b[0mthis\u001b[0m \u001b[0;34m+=\u001b[0m \u001b[0margs\u001b[0m\u001b[0;34m[\u001b[0m\u001b[0;36m0\u001b[0m\u001b[0;34m]\u001b[0m\u001b[0;34m,\u001b[0m\u001b[0;34m\u001b[0m\u001b[0;34m\u001b[0m\u001b[0m\n\u001b[1;32m    311\u001b[0m                 \u001b[0margs\u001b[0m \u001b[0;34m=\u001b[0m \u001b[0margs\u001b[0m\u001b[0;34m[\u001b[0m\u001b[0;36m1\u001b[0m\u001b[0;34m:\u001b[0m\u001b[0;34m]\u001b[0m\u001b[0;34m\u001b[0m\u001b[0;34m\u001b[0m\u001b[0m\n\u001b[0;32m--> 312\u001b[0;31m             \u001b[0;32myield\u001b[0m \u001b[0;32mfrom\u001b[0m \u001b[0mself\u001b[0m\u001b[0;34m.\u001b[0m\u001b[0m_plot_args\u001b[0m\u001b[0;34m(\u001b[0m\u001b[0mthis\u001b[0m\u001b[0;34m,\u001b[0m \u001b[0mkwargs\u001b[0m\u001b[0;34m)\u001b[0m\u001b[0;34m\u001b[0m\u001b[0;34m\u001b[0m\u001b[0m\n\u001b[0m\u001b[1;32m    313\u001b[0m \u001b[0;34m\u001b[0m\u001b[0m\n\u001b[1;32m    314\u001b[0m     \u001b[0;32mdef\u001b[0m \u001b[0mget_next_color\u001b[0m\u001b[0;34m(\u001b[0m\u001b[0mself\u001b[0m\u001b[0;34m)\u001b[0m\u001b[0;34m:\u001b[0m\u001b[0;34m\u001b[0m\u001b[0;34m\u001b[0m\u001b[0m\n",
      "\u001b[0;32m/usr/lib/python3/dist-packages/matplotlib/axes/_base.py\u001b[0m in \u001b[0;36m_plot_args\u001b[0;34m(self, tup, kwargs, return_kwargs)\u001b[0m\n\u001b[1;32m    485\u001b[0m \u001b[0;34m\u001b[0m\u001b[0m\n\u001b[1;32m    486\u001b[0m         \u001b[0;32mif\u001b[0m \u001b[0mlen\u001b[0m\u001b[0;34m(\u001b[0m\u001b[0mxy\u001b[0m\u001b[0;34m)\u001b[0m \u001b[0;34m==\u001b[0m \u001b[0;36m2\u001b[0m\u001b[0;34m:\u001b[0m\u001b[0;34m\u001b[0m\u001b[0;34m\u001b[0m\u001b[0m\n\u001b[0;32m--> 487\u001b[0;31m             \u001b[0mx\u001b[0m \u001b[0;34m=\u001b[0m \u001b[0m_check_1d\u001b[0m\u001b[0;34m(\u001b[0m\u001b[0mxy\u001b[0m\u001b[0;34m[\u001b[0m\u001b[0;36m0\u001b[0m\u001b[0;34m]\u001b[0m\u001b[0;34m)\u001b[0m\u001b[0;34m\u001b[0m\u001b[0;34m\u001b[0m\u001b[0m\n\u001b[0m\u001b[1;32m    488\u001b[0m             \u001b[0my\u001b[0m \u001b[0;34m=\u001b[0m \u001b[0m_check_1d\u001b[0m\u001b[0;34m(\u001b[0m\u001b[0mxy\u001b[0m\u001b[0;34m[\u001b[0m\u001b[0;36m1\u001b[0m\u001b[0;34m]\u001b[0m\u001b[0;34m)\u001b[0m\u001b[0;34m\u001b[0m\u001b[0;34m\u001b[0m\u001b[0m\n\u001b[1;32m    489\u001b[0m         \u001b[0;32melse\u001b[0m\u001b[0;34m:\u001b[0m\u001b[0;34m\u001b[0m\u001b[0;34m\u001b[0m\u001b[0m\n",
      "\u001b[0;32m/usr/lib/python3/dist-packages/matplotlib/cbook/__init__.py\u001b[0m in \u001b[0;36m_check_1d\u001b[0;34m(x)\u001b[0m\n\u001b[1;32m   1325\u001b[0m                     message='Support for multi-dimensional indexing')\n\u001b[1;32m   1326\u001b[0m \u001b[0;34m\u001b[0m\u001b[0m\n\u001b[0;32m-> 1327\u001b[0;31m                 \u001b[0mndim\u001b[0m \u001b[0;34m=\u001b[0m \u001b[0mx\u001b[0m\u001b[0;34m[\u001b[0m\u001b[0;34m:\u001b[0m\u001b[0;34m,\u001b[0m \u001b[0;32mNone\u001b[0m\u001b[0;34m]\u001b[0m\u001b[0;34m.\u001b[0m\u001b[0mndim\u001b[0m\u001b[0;34m\u001b[0m\u001b[0;34m\u001b[0m\u001b[0m\n\u001b[0m\u001b[1;32m   1328\u001b[0m                 \u001b[0;31m# we have definitely hit a pandas index or series object\u001b[0m\u001b[0;34m\u001b[0m\u001b[0;34m\u001b[0m\u001b[0m\n\u001b[1;32m   1329\u001b[0m                 \u001b[0;31m# cast to a numpy array.\u001b[0m\u001b[0;34m\u001b[0m\u001b[0;34m\u001b[0m\u001b[0m\n",
      "\u001b[0;32m~/.local/lib/python3.10/site-packages/pandas/core/series.py\u001b[0m in \u001b[0;36m__getitem__\u001b[0;34m(self, key)\u001b[0m\n\u001b[1;32m   1070\u001b[0m             \u001b[0;32mreturn\u001b[0m \u001b[0mself\u001b[0m\u001b[0;34m.\u001b[0m\u001b[0m_get_rows_with_mask\u001b[0m\u001b[0;34m(\u001b[0m\u001b[0mkey\u001b[0m\u001b[0;34m)\u001b[0m\u001b[0;34m\u001b[0m\u001b[0;34m\u001b[0m\u001b[0m\n\u001b[1;32m   1071\u001b[0m \u001b[0;34m\u001b[0m\u001b[0m\n\u001b[0;32m-> 1072\u001b[0;31m         \u001b[0;32mreturn\u001b[0m \u001b[0mself\u001b[0m\u001b[0;34m.\u001b[0m\u001b[0m_get_with\u001b[0m\u001b[0;34m(\u001b[0m\u001b[0mkey\u001b[0m\u001b[0;34m)\u001b[0m\u001b[0;34m\u001b[0m\u001b[0;34m\u001b[0m\u001b[0m\n\u001b[0m\u001b[1;32m   1073\u001b[0m \u001b[0;34m\u001b[0m\u001b[0m\n\u001b[1;32m   1074\u001b[0m     \u001b[0;32mdef\u001b[0m \u001b[0m_get_with\u001b[0m\u001b[0;34m(\u001b[0m\u001b[0mself\u001b[0m\u001b[0;34m,\u001b[0m \u001b[0mkey\u001b[0m\u001b[0;34m)\u001b[0m\u001b[0;34m:\u001b[0m\u001b[0;34m\u001b[0m\u001b[0;34m\u001b[0m\u001b[0m\n",
      "\u001b[0;32m~/.local/lib/python3.10/site-packages/pandas/core/series.py\u001b[0m in \u001b[0;36m_get_with\u001b[0;34m(self, key)\u001b[0m\n\u001b[1;32m   1080\u001b[0m             )\n\u001b[1;32m   1081\u001b[0m         \u001b[0;32melif\u001b[0m \u001b[0misinstance\u001b[0m\u001b[0;34m(\u001b[0m\u001b[0mkey\u001b[0m\u001b[0;34m,\u001b[0m \u001b[0mtuple\u001b[0m\u001b[0;34m)\u001b[0m\u001b[0;34m:\u001b[0m\u001b[0;34m\u001b[0m\u001b[0;34m\u001b[0m\u001b[0m\n\u001b[0;32m-> 1082\u001b[0;31m             \u001b[0;32mreturn\u001b[0m \u001b[0mself\u001b[0m\u001b[0;34m.\u001b[0m\u001b[0m_get_values_tuple\u001b[0m\u001b[0;34m(\u001b[0m\u001b[0mkey\u001b[0m\u001b[0;34m)\u001b[0m\u001b[0;34m\u001b[0m\u001b[0;34m\u001b[0m\u001b[0m\n\u001b[0m\u001b[1;32m   1083\u001b[0m \u001b[0;34m\u001b[0m\u001b[0m\n\u001b[1;32m   1084\u001b[0m         \u001b[0;32melif\u001b[0m \u001b[0;32mnot\u001b[0m \u001b[0mis_list_like\u001b[0m\u001b[0;34m(\u001b[0m\u001b[0mkey\u001b[0m\u001b[0;34m)\u001b[0m\u001b[0;34m:\u001b[0m\u001b[0;34m\u001b[0m\u001b[0;34m\u001b[0m\u001b[0m\n",
      "\u001b[0;32m~/.local/lib/python3.10/site-packages/pandas/core/series.py\u001b[0m in \u001b[0;36m_get_values_tuple\u001b[0;34m(self, key)\u001b[0m\n\u001b[1;32m   1120\u001b[0m             \u001b[0;31m# the asarray is needed to avoid returning a 2D DatetimeArray\u001b[0m\u001b[0;34m\u001b[0m\u001b[0;34m\u001b[0m\u001b[0m\n\u001b[1;32m   1121\u001b[0m             \u001b[0mresult\u001b[0m \u001b[0;34m=\u001b[0m \u001b[0mnp\u001b[0m\u001b[0;34m.\u001b[0m\u001b[0masarray\u001b[0m\u001b[0;34m(\u001b[0m\u001b[0mself\u001b[0m\u001b[0;34m.\u001b[0m\u001b[0m_values\u001b[0m\u001b[0;34m[\u001b[0m\u001b[0mkey\u001b[0m\u001b[0;34m]\u001b[0m\u001b[0;34m)\u001b[0m\u001b[0;34m\u001b[0m\u001b[0;34m\u001b[0m\u001b[0m\n\u001b[0;32m-> 1122\u001b[0;31m             \u001b[0mdisallow_ndim_indexing\u001b[0m\u001b[0;34m(\u001b[0m\u001b[0mresult\u001b[0m\u001b[0;34m)\u001b[0m\u001b[0;34m\u001b[0m\u001b[0;34m\u001b[0m\u001b[0m\n\u001b[0m\u001b[1;32m   1123\u001b[0m             \u001b[0;32mreturn\u001b[0m \u001b[0mresult\u001b[0m\u001b[0;34m\u001b[0m\u001b[0;34m\u001b[0m\u001b[0m\n\u001b[1;32m   1124\u001b[0m \u001b[0;34m\u001b[0m\u001b[0m\n",
      "\u001b[0;32m~/.local/lib/python3.10/site-packages/pandas/core/indexers/utils.py\u001b[0m in \u001b[0;36mdisallow_ndim_indexing\u001b[0;34m(result)\u001b[0m\n\u001b[1;32m    339\u001b[0m     \"\"\"\n\u001b[1;32m    340\u001b[0m     \u001b[0;32mif\u001b[0m \u001b[0mnp\u001b[0m\u001b[0;34m.\u001b[0m\u001b[0mndim\u001b[0m\u001b[0;34m(\u001b[0m\u001b[0mresult\u001b[0m\u001b[0;34m)\u001b[0m \u001b[0;34m>\u001b[0m \u001b[0;36m1\u001b[0m\u001b[0;34m:\u001b[0m\u001b[0;34m\u001b[0m\u001b[0;34m\u001b[0m\u001b[0m\n\u001b[0;32m--> 341\u001b[0;31m         raise ValueError(\n\u001b[0m\u001b[1;32m    342\u001b[0m             \u001b[0;34m\"Multi-dimensional indexing (e.g. `obj[:, None]`) is no longer \"\u001b[0m\u001b[0;34m\u001b[0m\u001b[0;34m\u001b[0m\u001b[0m\n\u001b[1;32m    343\u001b[0m             \u001b[0;34m\"supported. Convert to a numpy array before indexing instead.\"\u001b[0m\u001b[0;34m\u001b[0m\u001b[0;34m\u001b[0m\u001b[0m\n",
      "\u001b[0;31mValueError\u001b[0m: Multi-dimensional indexing (e.g. `obj[:, None]`) is no longer supported. Convert to a numpy array before indexing instead."
     ]
    },
    {
     "data": {
      "image/png": "[encoded data removed]",
      "text/plain": [
       "<Figure size 432x288 with 1 Axes>"
      ]
     },
     "metadata": {
      "needs_background": "light"
     },
     "output_type": "display_data"
    }
   ],
   "source": [
    "sns.pointplot(data=pres_df, y='lexical', x='year', hue='inaugural_year')\n",
    "#sns.pointplot(y=pres_num[:,3], x=pres_num[:,0], hue=pres_num[:,4])#, linestyle='none', errorbar=None)\n",
    "plt.xticks(rotation=75)\n",
    "plt.ylabel('Proportion of religious keywords')\n",
    "plt.xlabel('Year')\n",
    "plt.legend(title='Inaugural year?', bbox_to_anchor=(1.05, 0.8), loc='upper left', borderaxespad=0)\n",
    "plt.show()"
   ]
  },
  {
   "cell_type": "code",
   "execution_count": null,
   "id": "b3f5d78b-4c22-42d6-ab1e-f6834783d7ca",
   "metadata": {},
   "outputs": [],
   "source": []
  },
  {
   "cell_type": "code",
   "execution_count": null,
   "id": "e16f63ba-68db-49b0-8216-06bcdbf50a5b",
   "metadata": {},
   "outputs": [],
   "source": []
  }
 ],
 "metadata": {
  "kernelspec": {
   "display_name": "Python 3 (ipykernel)",
   "language": "python",
   "name": "python3"
  },
  "language_info": {
   "codemirror_mode": {
    "name": "ipython",
    "version": 3
   },
   "file_extension": ".py",
   "mimetype": "text/x-python",
   "name": "python",
   "nbconvert_exporter": "python",
   "pygments_lexer": "ipython3",
   "version": "3.10.12"
  }
 },
 "nbformat": 4,
 "nbformat_minor": 5
}
