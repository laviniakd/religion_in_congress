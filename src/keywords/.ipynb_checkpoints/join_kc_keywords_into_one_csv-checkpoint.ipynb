{
 "cells": [
  {
   "cell_type": "code",
   "execution_count": 4,
   "id": "2346c364-5782-466b-8012-4fcd8a351c0e",
   "metadata": {},
   "outputs": [],
   "source": [
    "import csv\n",
    "import os"
   ]
  },
  {
   "cell_type": "code",
   "execution_count": 11,
   "id": "6fca9444-e2ae-42d2-91e8-0023dc327d2a",
   "metadata": {},
   "outputs": [],
   "source": [
    "directory = '/home/laviniad/projects/religion_in_congress/src/multi-feature-use/kevincoekeywords/'\n",
    "dfs = {}\n",
    "for filename in os.listdir(directory):\n",
    "    if filename.endswith('.csv'):\n",
    "        genre = filename.split('-')[0]\n",
    "        \n",
    "        with open(directory + filename) as f:\n",
    "            csv_data = csv.reader(f)\n",
    "            dfs[genre] = [c[0].replace('$', '').strip() for c in csv_data]"
   ]
  },
  {
   "cell_type": "code",
   "execution_count": 13,
   "id": "487f6a06-95f5-4517-b48d-c0b6f2ecc355",
   "metadata": {},
   "outputs": [],
   "source": [
    "import json\n",
    "with open(directory + 'full.json', 'w') as f:\n",
    "    json.dump(dfs, f)"
   ]
  }
 ],
 "metadata": {
  "kernelspec": {
   "display_name": "Python 3 (ipykernel)",
   "language": "python",
   "name": "python3"
  },
  "language_info": {
   "codemirror_mode": {
    "name": "ipython",
    "version": 3
   },
   "file_extension": ".py",
   "mimetype": "text/x-python",
   "name": "python",
   "nbconvert_exporter": "python",
   "pygments_lexer": "ipython3",
   "version": "3.10.12"
  }
 },
 "nbformat": 4,
 "nbformat_minor": 5
}
