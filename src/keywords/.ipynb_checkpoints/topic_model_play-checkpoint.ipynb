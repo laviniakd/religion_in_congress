{
 "cells": [
  {
   "cell_type": "code",
   "execution_count": 1,
   "id": "ed706da2-10d3-471f-9bcb-e11c0d0e5101",
   "metadata": {},
   "outputs": [
    {
     "name": "stderr",
     "output_type": "stream",
     "text": [
      "[nltk_data] Downloading package punkt to /home/laviniad/nltk_data...\n",
      "[nltk_data]   Package punkt is already up-to-date!\n"
     ]
    }
   ],
   "source": [
    "import little_mallet_wrapper as lmw\n",
    "from data import congress_utils\n",
    "import pandas as pd"
   ]
  },
  {
   "cell_type": "code",
   "execution_count": 2,
   "id": "81048fb3-08bd-4010-b2e5-9698f5ea45f0",
   "metadata": {},
   "outputs": [],
   "source": [
    "path = '/data/laviniad/sermons-ir/topic_models/congress/'"
   ]
  },
  {
   "cell_type": "code",
   "execution_count": 4,
   "id": "ba43429a-de8e-4249-9d7d-b5ff9705eddd",
   "metadata": {},
   "outputs": [],
   "source": [
    "topic_keys = lmw.load_topic_keys(path + 'mallet.topic_keys.100')\n",
    "topic_distributions = lmw.load_topic_distributions(path + 'mallet.topic_distributions.100')"
   ]
  },
  {
   "cell_type": "code",
   "execution_count": 5,
   "id": "e165149f-0fa1-4238-8635-2193faa418ce",
   "metadata": {},
   "outputs": [],
   "source": [
    "import json"
   ]
  },
  {
   "cell_type": "code",
   "execution_count": 6,
   "id": "61557a2f-36bd-4d7e-a962-b835e5a561ad",
   "metadata": {},
   "outputs": [],
   "source": [
    "non_proc_path = '/data/laviniad/congress_errata/nonprocedural_indices.json'"
   ]
  },
  {
   "cell_type": "code",
   "execution_count": null,
   "id": "269b958e-e25a-4bbd-a67c-8a539210e26b",
   "metadata": {},
   "outputs": [],
   "source": [
    "df = congress_utils.load_full_df_from_raw(root, truncate_length=-1, tokenizer=None, debug=False, \n",
    "                                          remove_procedural_speeches=True, nonprocedural_indices_path=non_proc_path)"
   ]
  }
 ],
 "metadata": {
  "kernelspec": {
   "display_name": "sermons",
   "language": "python",
   "name": "sermons"
  },
  "language_info": {
   "codemirror_mode": {
    "name": "ipython",
    "version": 3
   },
   "file_extension": ".py",
   "mimetype": "text/x-python",
   "name": "python",
   "nbconvert_exporter": "python",
   "pygments_lexer": "ipython3",
   "version": "3.11.5"
  }
 },
 "nbformat": 4,
 "nbformat_minor": 5
}
