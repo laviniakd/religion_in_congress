{
 "cells": [
  {
   "cell_type": "code",
   "execution_count": 1,
   "metadata": {},
   "outputs": [],
   "source": [
    "import pandas as pd\n",
    "\n",
    "speech_df = \"/data/laviniad/congress_errata/congress_df.json\"\n",
    "speech_df = pd.read_json(speech_df)\n",
    "\n",
    "reference_df = \"/data/laviniad/sermons-ir/merged_references.csv\"\n",
    "reference_df = pd.read_csv(reference_df)"
   ]
  },
  {
   "cell_type": "code",
   "execution_count": 2,
   "metadata": {},
   "outputs": [
    {
     "data": {
      "text/plain": [
       "Index(['bio_id', 'congress_num', 'year', 'date', 'chamber', 'speaker', 'text',\n",
       "       'month_code', 'month', 'gender', 'party', 'state', 'is_in_senate',\n",
       "       'enclosing_county', 'perc_adherents', 'religion', 'is_republican',\n",
       "       'church_in_bio', 'dw_nom_1', 'dw_nom_2', 'lexical', 'num_general',\n",
       "       'num_christian', 'length', 'binary_lex', 'full_state',\n",
       "       'state_perc_white', 'state_perc_black'],\n",
       "      dtype='object')"
      ]
     },
     "execution_count": 2,
     "metadata": {},
     "output_type": "execute_result"
    }
   ],
   "source": [
    "speech_df.columns"
   ]
  },
  {
   "cell_type": "code",
   "execution_count": 3,
   "metadata": {},
   "outputs": [
    {
     "data": {
      "text/plain": [
       "1514"
      ]
     },
     "execution_count": 3,
     "metadata": {},
     "output_type": "execute_result"
    }
   ],
   "source": [
    "len(reference_df)"
   ]
  },
  {
   "cell_type": "code",
   "execution_count": 4,
   "metadata": {},
   "outputs": [
    {
     "name": "stdout",
     "output_type": "stream",
     "text": [
      "Loaded 100 keywords from /home/laviniad/projects/sermons-ir/src/multi-feature-use/keywords_from_coca.txt\n",
      "Loaded 150 keywords from /home/laviniad/projects/sermons-ir/src/multi-feature-use/keywords_from_congress_FINAL.txt\n"
     ]
    }
   ],
   "source": [
    "# use nltk regexptokenizer\n",
    "\n",
    "from data.data_utils import tokenizer\n",
    "\n",
    "\n",
    "def count_god_mentions_in_text(text):\n",
    "    # tokenize text\n",
    "    tokens = tokenizer.tokenize(text)\n",
    "    # count mentions\n",
    "    low_tokens = [t.lower() for t in tokens]\n",
    "    god_mentions = low_tokens.count(\"god\")\n",
    "    return god_mentions"
   ]
  },
  {
   "cell_type": "code",
   "execution_count": 5,
   "metadata": {},
   "outputs": [
    {
     "data": {
      "application/vnd.jupyter.widget-view+json": {
       "model_id": "65cbbddde82b478aa917ce3009590832",
       "version_major": 2,
       "version_minor": 0
      },
      "text/plain": [
       "  0%|          | 0/1615 [00:00<?, ?it/s]"
      ]
     },
     "metadata": {},
     "output_type": "display_data"
    }
   ],
   "source": [
    "# want: speaker, chamber, state, gender, total words spoken, total religious keywords used, total mentions of God, total biblical references \n",
    "from tqdm.notebook import tqdm\n",
    "\n",
    "\n",
    "columns = [\"bio_id\", \"speaker_name\", \"chamber\", \"state\", \"gender\", \"party\", \"total_words\", \"total_keywords\", \"total_god_mentions\", \"total_biblical_references\"]\n",
    "results = []\n",
    "for b in tqdm(speech_df[\"bio_id\"].unique()):\n",
    "    speaker_df = speech_df[speech_df[\"bio_id\"] == b]\n",
    "    if speaker_df.empty:\n",
    "        continue\n",
    "\n",
    "    speaker_name = speaker_df[\"speaker\"].iloc[0]\n",
    "    chamber = speaker_df[\"chamber\"].iloc[0]\n",
    "    state = speaker_df[\"state\"].iloc[0]\n",
    "\n",
    "    gender = speaker_df[\"gender\"].iloc[0]\n",
    "    party = speaker_df[\"party\"].iloc[0]\n",
    "\n",
    "    total_words = speaker_df[\"length\"].sum()\n",
    "    total_keywords = speaker_df[\"num_christian\"].sum() + speaker_df[\"num_general\"].sum()\n",
    "    total_god_mentions = speaker_df[\"text\"].apply(lambda x: count_god_mentions_in_text(x)).sum()\n",
    "    total_biblical_references = len(reference_df[reference_df[\"bio_id\"] == b])\n",
    "\n",
    "    results.append([b, speaker_name, chamber, state, gender, party, total_words, total_keywords, total_god_mentions, total_biblical_references])\n",
    "\n",
    "\n",
    "results = pd.DataFrame(results, columns=columns)"
   ]
  },
  {
   "cell_type": "code",
   "execution_count": 6,
   "metadata": {},
   "outputs": [
    {
     "data": {
      "text/plain": [
       "54402"
      ]
     },
     "execution_count": 6,
     "metadata": {},
     "output_type": "execute_result"
    }
   ],
   "source": [
    "results['total_god_mentions'].sum()"
   ]
  },
  {
   "cell_type": "code",
   "execution_count": 7,
   "metadata": {},
   "outputs": [
    {
     "data": {
      "text/plain": [
       "1424"
      ]
     },
     "execution_count": 7,
     "metadata": {},
     "output_type": "execute_result"
    }
   ],
   "source": [
    "len(results[results['total_god_mentions'] > 0])"
   ]
  },
  {
   "cell_type": "code",
   "execution_count": 8,
   "metadata": {},
   "outputs": [
    {
     "name": "stdout",
     "output_type": "stream",
     "text": [
      "Number of unique speakers:  1614\n",
      "Proportion who never say God:  0.11771995043370508\n"
     ]
    }
   ],
   "source": [
    "# number of unique speakers\n",
    "print(\"Number of unique speakers: \", len(results))\n",
    "print(\"Proportion who never say God: \", len(results[results['total_god_mentions'] == 0]) / len(results))"
   ]
  },
  {
   "cell_type": "code",
   "execution_count": 9,
   "metadata": {},
   "outputs": [],
   "source": [
    "results.to_csv(\"/data/laviniad/congress_errata/congress_speakers.csv\", index=False)"
   ]
  }
 ],
 "metadata": {
  "kernelspec": {
   "display_name": "sermons",
   "language": "python",
   "name": "sermons"
  },
  "language_info": {
   "codemirror_mode": {
    "name": "ipython",
    "version": 3
   },
   "file_extension": ".py",
   "mimetype": "text/x-python",
   "name": "python",
   "nbconvert_exporter": "python",
   "pygments_lexer": "ipython3",
   "version": "3.11.9"
  }
 },
 "nbformat": 4,
 "nbformat_minor": 2
}
