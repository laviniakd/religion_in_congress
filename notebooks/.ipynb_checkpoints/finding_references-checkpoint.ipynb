{
 "cells": [
  {
   "cell_type": "code",
   "execution_count": 1,
   "id": "c70cb9a2-b0d1-48cb-a706-548e947cbcbd",
   "metadata": {},
   "outputs": [
    {
     "name": "stderr",
     "output_type": "stream",
     "text": [
      "[nltk_data] Downloading package punkt to /home/laviniad/nltk_data...\n",
      "[nltk_data]   Package punkt is already up-to-date!\n"
     ]
    }
   ],
   "source": [
    "import pandas as pd\n",
    "import json\n",
    "import numpy as np\n",
    "import csv\n",
    "import matplotlib.pyplot as plt\n",
    "import seaborn as sns\n",
    "from pprint import pprint\n",
    "from collections import Counter\n",
    "from data import presidential_utils\n",
    "from data import congress_utils\n",
    "from data.congress_utils import induce_topic, induce_party_and_state"
   ]
  },
  {
   "cell_type": "code",
   "execution_count": 8,
   "id": "1fc00bab-2667-49fa-9c26-19ed8a72c327",
   "metadata": {},
   "outputs": [],
   "source": [
    "from transformers import GPT2Tokenizer, AutoModelForCausalLM\n",
    "\n",
    "model_path = '/data/laviniad/bible-gpt2-new/checkpoint-3500/'\n",
    "tokenizer = GPT2Tokenizer.from_pretrained('gpt2')\n",
    "model = AutoModelForCausalLM.from_pretrained(model_path).to('cpu')"
   ]
  },
  {
   "cell_type": "code",
   "execution_count": 35,
   "id": "fc7e58fe-1981-4e9a-bd82-35a521feaece",
   "metadata": {},
   "outputs": [
    {
     "name": "stderr",
     "output_type": "stream",
     "text": [
      "Setting `pad_token_id` to `eos_token_id`:50256 for open-end generation.\n",
      "/home/laviniad/miniconda3/envs/sermons/lib/python3.11/site-packages/transformers/generation/utils.py:1288: UserWarning: Using `max_length`'s default (20) to control the generation length. This behaviour is deprecated and will be removed from the config in v5 of Transformers -- we recommend using `max_new_tokens` to control the maximum length of the generation.\n",
      "  warnings.warn(\n",
      "Setting `pad_token_id` to `eos_token_id`:50256 for open-end generation.\n"
     ]
    },
    {
     "name": "stdout",
     "output_type": "stream",
     "text": [
      "Walking in the rain is iced, and the wind is in the midst of the earth.\n"
     ]
    },
    {
     "name": "stderr",
     "output_type": "stream",
     "text": [
      "Setting `pad_token_id` to `eos_token_id`:50256 for open-end generation.\n"
     ]
    },
    {
     "name": "stdout",
     "output_type": "stream",
     "text": [
      "Let's make a deal with ichor, and let's make a deal with the devil,\n"
     ]
    },
    {
     "name": "stderr",
     "output_type": "stream",
     "text": [
      "Setting `pad_token_id` to `eos_token_id`:50256 for open-end generation.\n"
     ]
    },
    {
     "name": "stdout",
     "output_type": "stream",
     "text": [
      "Four years of political gridlock have iced up the people, and have made them to be a\n"
     ]
    },
    {
     "name": "stderr",
     "output_type": "stream",
     "text": [
      "Setting `pad_token_id` to `eos_token_id`:50256 for open-end generation.\n",
      "Setting `pad_token_id` to `eos_token_id`:50256 for open-end generation.\n"
     ]
    },
    {
     "name": "stdout",
     "output_type": "stream",
     "text": [
      "I love that ichor is in the midst of me, and that I have not seen him\n",
      "You said it: ive not heard it. And he said unto them, What is this that\n",
      "This text was generated through ichor, and was written in the book of the chronicles of\n"
     ]
    }
   ],
   "source": [
    "text = ['Walking in the rain is ', 'Let\\'s make a deal with ', 'Four years of political gridlock have ',\n",
    "       'I love that ', 'You said it: ', 'This text was generated through ']\n",
    "\n",
    "tokenizer.pad_token = tokenizer.eos_token\n",
    "tokenizer.pad_token_id = tokenizer.eos_token_id\n",
    "for o in text:\n",
    "    encodings = tokenizer(o, truncation=True, return_tensors=\"pt\")\n",
    "    outputs = model.generate(**encodings)\n",
    "    print(tokenizer.decode(outputs[0]))"
   ]
  },
  {
   "cell_type": "code",
   "execution_count": 2,
   "id": "f60ce406-4085-4410-bf62-75fb561bc6d5",
   "metadata": {},
   "outputs": [],
   "source": [
    "import re\n",
    "import nltk\n",
    "from nltk.corpus import wordnet"
   ]
  },
  {
   "cell_type": "code",
   "execution_count": 3,
   "id": "90ab219f-d8de-49fd-8156-1374152853cb",
   "metadata": {},
   "outputs": [],
   "source": [
    "def get_synonyms(word):\n",
    "    synonyms = []\n",
    "    for syn in wordnet.synsets(word):\n",
    "        for lemma in syn.lemmas():\n",
    "            synonyms.append(lemma.name().replace('_', ' '))\n",
    "    return synonyms"
   ]
  },
  {
   "cell_type": "code",
   "execution_count": 4,
   "id": "55265940-71cb-47e9-b606-f15424242707",
   "metadata": {},
   "outputs": [],
   "source": [
    "bible_synonyms = set(get_synonyms(\"Bible\"))\n",
    "bible_pattern = \"|\".join(bible_synonyms)\n",
    "\n",
    "says_synonyms = set(get_synonyms(\"says\"))\n",
    "says_pattern = \"|\".join(says_synonyms)"
   ]
  },
  {
   "cell_type": "code",
   "execution_count": 6,
   "id": "1c4c19aa-68a1-419b-bd39-be8b46202817",
   "metadata": {},
   "outputs": [
    {
     "name": "stderr",
     "output_type": "stream",
     "text": [
      " 19%|████████████▊                                                     | 19/98 [00:02<00:11,  6.70it/s]\n"
     ]
    }
   ],
   "source": [
    "# load presidential speeches\n",
    "presidential_df = presidential_utils.load_full_df_from_raw('/data/laviniad/presidential/')\n",
    "presidential_df = presidential_df[presidential_df['is_president']]"
   ]
  },
  {
   "cell_type": "code",
   "execution_count": 7,
   "id": "a41b6e0a-ee18-433a-b8ef-259378d95ae7",
   "metadata": {},
   "outputs": [
    {
     "data": {
      "text/html": [
       "<div>\n",
       "<style scoped>\n",
       "    .dataframe tbody tr th:only-of-type {\n",
       "        vertical-align: middle;\n",
       "    }\n",
       "\n",
       "    .dataframe tbody tr th {\n",
       "        vertical-align: top;\n",
       "    }\n",
       "\n",
       "    .dataframe thead th {\n",
       "        text-align: right;\n",
       "    }\n",
       "</style>\n",
       "<table border=\"1\" class=\"dataframe\">\n",
       "  <thead>\n",
       "    <tr style=\"text-align: right;\">\n",
       "      <th></th>\n",
       "      <th>year</th>\n",
       "      <th>speaker</th>\n",
       "      <th>text</th>\n",
       "      <th>genre</th>\n",
       "      <th>party</th>\n",
       "      <th>title</th>\n",
       "      <th>is_president</th>\n",
       "    </tr>\n",
       "  </thead>\n",
       "  <tbody>\n",
       "    <tr>\n",
       "      <th>0</th>\n",
       "      <td>2021</td>\n",
       "      <td>Donald J. Trump</td>\n",
       "      <td>To the Congress of the United States: \\n\\nPurs...</td>\n",
       "      <td>written_messages</td>\n",
       "      <td>Republican</td>\n",
       "      <td>Message to the Congress on Addressing the Thre...</td>\n",
       "      <td>True</td>\n",
       "    </tr>\n",
       "    <tr>\n",
       "      <th>1</th>\n",
       "      <td>2021</td>\n",
       "      <td>Donald J. Trump</td>\n",
       "      <td>During National Mentorship Month, we recognize...</td>\n",
       "      <td>written_messages</td>\n",
       "      <td>Republican</td>\n",
       "      <td>Message on National Mentoring Month</td>\n",
       "      <td>True</td>\n",
       "    </tr>\n",
       "    <tr>\n",
       "      <th>2</th>\n",
       "      <td>2021</td>\n",
       "      <td>Donald J. Trump</td>\n",
       "      <td>Millions of Americans each year are victims of...</td>\n",
       "      <td>written_messages</td>\n",
       "      <td>Republican</td>\n",
       "      <td>Message on National Stalking Awareness Month</td>\n",
       "      <td>True</td>\n",
       "    </tr>\n",
       "    <tr>\n",
       "      <th>3</th>\n",
       "      <td>2021</td>\n",
       "      <td>Donald J. Trump</td>\n",
       "      <td>To the Senate of the United States: \\n\\nI am r...</td>\n",
       "      <td>written_messages</td>\n",
       "      <td>Republican</td>\n",
       "      <td>Message to the Senate Returning Without Approv...</td>\n",
       "      <td>True</td>\n",
       "    </tr>\n",
       "    <tr>\n",
       "      <th>4</th>\n",
       "      <td>2020</td>\n",
       "      <td>Donald J. Trump</td>\n",
       "      <td>The First Lady and I send our best wishes to a...</td>\n",
       "      <td>written_messages</td>\n",
       "      <td>Republican</td>\n",
       "      <td>Message on the Observance of Kwanzaa</td>\n",
       "      <td>True</td>\n",
       "    </tr>\n",
       "  </tbody>\n",
       "</table>\n",
       "</div>"
      ],
      "text/plain": [
       "   year          speaker                                               text  \\\n",
       "0  2021  Donald J. Trump  To the Congress of the United States: \\n\\nPurs...   \n",
       "1  2021  Donald J. Trump  During National Mentorship Month, we recognize...   \n",
       "2  2021  Donald J. Trump  Millions of Americans each year are victims of...   \n",
       "3  2021  Donald J. Trump  To the Senate of the United States: \\n\\nI am r...   \n",
       "4  2020  Donald J. Trump  The First Lady and I send our best wishes to a...   \n",
       "\n",
       "              genre       party  \\\n",
       "0  written_messages  Republican   \n",
       "1  written_messages  Republican   \n",
       "2  written_messages  Republican   \n",
       "3  written_messages  Republican   \n",
       "4  written_messages  Republican   \n",
       "\n",
       "                                               title  is_president  \n",
       "0  Message to the Congress on Addressing the Thre...          True  \n",
       "1                Message on National Mentoring Month          True  \n",
       "2       Message on National Stalking Awareness Month          True  \n",
       "3  Message to the Senate Returning Without Approv...          True  \n",
       "4               Message on the Observance of Kwanzaa          True  "
      ]
     },
     "execution_count": 7,
     "metadata": {},
     "output_type": "execute_result"
    }
   ],
   "source": [
    "presidential_df.head()"
   ]
  },
  {
   "cell_type": "code",
   "execution_count": 5,
   "id": "f69fe1ca-0b7e-487d-a019-f519528ad108",
   "metadata": {},
   "outputs": [],
   "source": [
    "from tqdm.notebook import tqdm\n",
    "from nltk.tokenize import sent_tokenize"
   ]
  },
  {
   "cell_type": "code",
   "execution_count": 6,
   "id": "bf24fcc3-8680-43e2-8c0c-6591a23b1130",
   "metadata": {},
   "outputs": [
    {
     "data": {
      "text/plain": [
       "'read|order|pronounce|sound out|suppose|enjoin|enounce|allege|articulate|tell|state|enunciate|aver|say'"
      ]
     },
     "execution_count": 6,
     "metadata": {},
     "output_type": "execute_result"
    }
   ],
   "source": [
    "says_pattern"
   ]
  },
  {
   "cell_type": "code",
   "execution_count": 7,
   "id": "9b6f4b09-95f7-4f26-8f4a-1fd736b3c7eb",
   "metadata": {},
   "outputs": [
    {
     "ename": "NameError",
     "evalue": "name 'presidential_df' is not defined",
     "output_type": "error",
     "traceback": [
      "\u001b[0;31m---------------------------------------------------------------------------\u001b[0m",
      "\u001b[0;31mNameError\u001b[0m                                 Traceback (most recent call last)",
      "Cell \u001b[0;32mIn[7], line 5\u001b[0m\n\u001b[1;32m      3\u001b[0m examples \u001b[38;5;241m=\u001b[39m []\n\u001b[1;32m      4\u001b[0m final_pattern \u001b[38;5;241m=\u001b[39m \u001b[38;5;124mrf\u001b[39m\u001b[38;5;124m'\u001b[39m\u001b[38;5;124m(?:\u001b[39m\u001b[38;5;132;01m{\u001b[39;00mbible_pattern\u001b[38;5;132;01m}\u001b[39;00m\u001b[38;5;124m)\u001b[39m\u001b[38;5;124m\\\u001b[39m\u001b[38;5;124ms+(?:\u001b[39m\u001b[38;5;132;01m{\u001b[39;00msays_pattern\u001b[38;5;132;01m}\u001b[39;00m\u001b[38;5;124m)\u001b[39m\u001b[38;5;124m'\u001b[39m\n\u001b[0;32m----> 5\u001b[0m \u001b[38;5;28;01mfor\u001b[39;00m idx,row \u001b[38;5;129;01min\u001b[39;00m tqdm(presidential_df\u001b[38;5;241m.\u001b[39miterrows(), total\u001b[38;5;241m=\u001b[39m\u001b[38;5;28mlen\u001b[39m(presidential_df)):\n\u001b[1;32m      6\u001b[0m     text \u001b[38;5;241m=\u001b[39m row[\u001b[38;5;124m'\u001b[39m\u001b[38;5;124mtext\u001b[39m\u001b[38;5;124m'\u001b[39m]\n\u001b[1;32m      7\u001b[0m     \u001b[38;5;28;01mfor\u001b[39;00m t \u001b[38;5;129;01min\u001b[39;00m sent_tokenize(text):\n",
      "\u001b[0;31mNameError\u001b[0m: name 'presidential_df' is not defined"
     ]
    }
   ],
   "source": [
    "context_length = 100\n",
    "\n",
    "examples = []\n",
    "final_pattern = rf'(?:{bible_pattern})\\s+(?:{says_pattern})'\n",
    "for idx,row in tqdm(presidential_df.iterrows(), total=len(presidential_df)):\n",
    "    text = row['text']\n",
    "    for t in sent_tokenize(text):\n",
    "        if 'Bible' in t and 'tell' in t:\n",
    "            print(t)\n",
    "        matches = re.findall(final_pattern, t)\n",
    "        temp = []\n",
    "        for match in matches:\n",
    "            temp.append({'text': t, 'speaker': row['speaker'],'year': row['year'],'party': row['party']})\n",
    "                    \n",
    "        examples += temp"
   ]
  },
  {
   "cell_type": "code",
   "execution_count": null,
   "id": "a86c3908-224a-4da6-9421-cc766e7906f9",
   "metadata": {},
   "outputs": [],
   "source": [
    "len(examples)"
   ]
  },
  {
   "cell_type": "code",
   "execution_count": 9,
   "id": "e65992c6-55da-418e-9d87-8d49062b3851",
   "metadata": {},
   "outputs": [
    {
     "name": "stdout",
     "output_type": "stream",
     "text": [
      "On file 0\n"
     ]
    },
    {
     "name": "stderr",
     "output_type": "stream",
     "text": [
      "100%|███████████████████████████████████████████████████████| 106493/106493 [00:01<00:00, 96988.47it/s]\n"
     ]
    },
    {
     "name": "stdout",
     "output_type": "stream",
     "text": [
      "On file 1\n"
     ]
    },
    {
     "name": "stderr",
     "output_type": "stream",
     "text": [
      "100%|██████████████████████████████████████████████████████| 190933/190933 [00:01<00:00, 102562.39it/s]\n"
     ]
    },
    {
     "name": "stdout",
     "output_type": "stream",
     "text": [
      "On file 2\n"
     ]
    },
    {
     "name": "stderr",
     "output_type": "stream",
     "text": [
      "100%|████████████████████████████████████████████████████████| 94162/94162 [00:00<00:00, 105516.81it/s]\n"
     ]
    },
    {
     "name": "stdout",
     "output_type": "stream",
     "text": [
      "On file 3\n"
     ]
    },
    {
     "name": "stderr",
     "output_type": "stream",
     "text": [
      "100%|██████████████████████████████████████████████████████| 207487/207487 [00:02<00:00, 100229.45it/s]\n"
     ]
    },
    {
     "name": "stdout",
     "output_type": "stream",
     "text": [
      "On file 4\n"
     ]
    },
    {
     "name": "stderr",
     "output_type": "stream",
     "text": [
      "100%|██████████████████████████████████████████████████████| 183503/183503 [00:01<00:00, 100067.42it/s]\n"
     ]
    },
    {
     "name": "stdout",
     "output_type": "stream",
     "text": [
      "On file 5\n"
     ]
    },
    {
     "name": "stderr",
     "output_type": "stream",
     "text": [
      "100%|██████████████████████████████████████████████████████| 130265/130265 [00:01<00:00, 104675.61it/s]\n"
     ]
    },
    {
     "name": "stdout",
     "output_type": "stream",
     "text": [
      "On file 6\n"
     ]
    },
    {
     "name": "stderr",
     "output_type": "stream",
     "text": [
      "100%|███████████████████████████████████████████████████████| 197548/197548 [00:01<00:00, 99254.83it/s]\n"
     ]
    },
    {
     "name": "stdout",
     "output_type": "stream",
     "text": [
      "On file 7\n",
      "On file 8\n"
     ]
    },
    {
     "name": "stderr",
     "output_type": "stream",
     "text": [
      "100%|██████████████████████████████████████████████████████| 139281/139281 [00:01<00:00, 103681.24it/s]\n"
     ]
    },
    {
     "name": "stdout",
     "output_type": "stream",
     "text": [
      "On file 9\n"
     ]
    },
    {
     "name": "stderr",
     "output_type": "stream",
     "text": [
      "100%|██████████████████████████████████████████████████████| 127268/127268 [00:01<00:00, 103482.65it/s]\n"
     ]
    },
    {
     "name": "stdout",
     "output_type": "stream",
     "text": [
      "On file 10\n"
     ]
    },
    {
     "name": "stderr",
     "output_type": "stream",
     "text": [
      "100%|██████████████████████████████████████████████████████| 179989/179989 [00:01<00:00, 100132.77it/s]\n"
     ]
    },
    {
     "name": "stdout",
     "output_type": "stream",
     "text": [
      "On file 11\n"
     ]
    },
    {
     "name": "stderr",
     "output_type": "stream",
     "text": [
      "100%|██████████████████████████████████████████████████████| 271528/271528 [00:02<00:00, 105180.23it/s]\n"
     ]
    },
    {
     "name": "stdout",
     "output_type": "stream",
     "text": [
      "On file 12\n"
     ]
    },
    {
     "name": "stderr",
     "output_type": "stream",
     "text": [
      "100%|████████████████████████████████████████████████████████| 48007/48007 [00:00<00:00, 111395.69it/s]\n"
     ]
    },
    {
     "name": "stdout",
     "output_type": "stream",
     "text": [
      "On file 13\n"
     ]
    },
    {
     "name": "stderr",
     "output_type": "stream",
     "text": [
      "100%|██████████████████████████████████████████████████████| 210379/210379 [00:02<00:00, 100736.52it/s]\n"
     ]
    },
    {
     "name": "stdout",
     "output_type": "stream",
     "text": [
      "On file 14\n"
     ]
    },
    {
     "name": "stderr",
     "output_type": "stream",
     "text": [
      "100%|██████████████████████████████████████████████████████| 196111/196111 [00:01<00:00, 102881.86it/s]\n"
     ]
    },
    {
     "name": "stdout",
     "output_type": "stream",
     "text": [
      "On file 15\n"
     ]
    },
    {
     "name": "stderr",
     "output_type": "stream",
     "text": [
      "100%|██████████████████████████████████████████████████████████████| 80/80 [00:00<00:00, 124229.66it/s]\n"
     ]
    }
   ],
   "source": [
    "congress_df = congress_utils.load_full_df_from_raw('/data/corpora/congressional-record/')"
   ]
  },
  {
   "cell_type": "code",
   "execution_count": 10,
   "id": "b20abab0-82b3-4c03-b9b4-b6a907cfa9a7",
   "metadata": {},
   "outputs": [],
   "source": [
    "## load bible verse text\n",
    "# take most popular verses from sermon dataset and take those verse texts as possible candidates\n",
    "from data.bible_utils import comp_bible_helper\n",
    "\n",
    "bible_df = comp_bible_helper()\n",
    "pop_verses = pd.read_csv('/home/laviniad/projects/religion_in_congress/data/most_popular_verses.csv')\n",
    "n = 250\n",
    "pop_citations = list(pop_verses['verse'].iloc[1:n+1]) # remove 'UNKNOWN'"
   ]
  },
  {
   "cell_type": "code",
   "execution_count": 11,
   "id": "940e9873-1c42-4739-bbcc-658c912a1ac7",
   "metadata": {},
   "outputs": [],
   "source": [
    "bible_df['Verse'] = bible_df['Verse'].apply(lambda x: x.lower())\n",
    "bible_df = bible_df[bible_df['Verse'].apply(lambda x: x in pop_citations)]"
   ]
  },
  {
   "cell_type": "code",
   "execution_count": 12,
   "id": "c8494984-d0fb-4426-81f3-8ab0c045d390",
   "metadata": {},
   "outputs": [],
   "source": [
    "TAG_RE = re.compile(r'<[^>]+>')\n",
    "\n",
    "def remove_tags(text):\n",
    "    return TAG_RE.sub('', text)"
   ]
  },
  {
   "cell_type": "code",
   "execution_count": 13,
   "id": "e952a4d4-6a29-4942-a5d9-e433e350737d",
   "metadata": {},
   "outputs": [],
   "source": [
    "bible_df['text'] = bible_df['King James Bible'].apply(remove_tags)"
   ]
  },
  {
   "cell_type": "code",
   "execution_count": 14,
   "id": "3786a437-8969-4c45-9070-65f45c5a37f3",
   "metadata": {},
   "outputs": [],
   "source": [
    "verses = bible_df['text']"
   ]
  },
  {
   "cell_type": "code",
   "execution_count": 63,
   "id": "2a901675-e5bf-48ef-a70e-392a2fc7eb49",
   "metadata": {},
   "outputs": [
    {
     "data": {
      "text/html": [
       "<div>\n",
       "<style scoped>\n",
       "    .dataframe tbody tr th:only-of-type {\n",
       "        vertical-align: middle;\n",
       "    }\n",
       "\n",
       "    .dataframe tbody tr th {\n",
       "        vertical-align: top;\n",
       "    }\n",
       "\n",
       "    .dataframe thead th {\n",
       "        text-align: right;\n",
       "    }\n",
       "</style>\n",
       "<table border=\"1\" class=\"dataframe\">\n",
       "  <thead>\n",
       "    <tr style=\"text-align: right;\">\n",
       "      <th></th>\n",
       "      <th>Verse</th>\n",
       "      <th>King James Bible</th>\n",
       "      <th>American Standard Version</th>\n",
       "      <th>Douay-Rheims Bible</th>\n",
       "      <th>Darby Bible Translation</th>\n",
       "      <th>English Revised Version</th>\n",
       "      <th>Webster Bible Translation</th>\n",
       "      <th>World English Bible</th>\n",
       "      <th>Young's Literal Translation</th>\n",
       "      <th>American King James Version</th>\n",
       "      <th>Weymouth New Testament</th>\n",
       "      <th>book</th>\n",
       "      <th>chapter</th>\n",
       "      <th>verse</th>\n",
       "      <th>citation</th>\n",
       "      <th>text</th>\n",
       "    </tr>\n",
       "  </thead>\n",
       "  <tbody>\n",
       "    <tr>\n",
       "      <th>0</th>\n",
       "      <td>genesis 1:1</td>\n",
       "      <td>In the beginning God created the heaven and th...</td>\n",
       "      <td>In the beginning God created the heavens and t...</td>\n",
       "      <td>In the beginning God created heaven, and earth.</td>\n",
       "      <td>In the beginning God created the heavens and t...</td>\n",
       "      <td>In the beginning God created the heaven and th...</td>\n",
       "      <td>In the beginning God created the heaven and th...</td>\n",
       "      <td>In the beginning God created the heavens and t...</td>\n",
       "      <td>In the beginning of God's preparing the heaven...</td>\n",
       "      <td>In the beginning God created the heaven and th...</td>\n",
       "      <td>NaN</td>\n",
       "      <td>Genesis</td>\n",
       "      <td>1</td>\n",
       "      <td>1</td>\n",
       "      <td>Genesis 1:1</td>\n",
       "      <td>In the beginning God created the heaven and th...</td>\n",
       "    </tr>\n",
       "    <tr>\n",
       "      <th>25</th>\n",
       "      <td>genesis 1:26</td>\n",
       "      <td>And God said, Let us make man in our image, af...</td>\n",
       "      <td>And God said, Let us make man in our image, af...</td>\n",
       "      <td>And he said: Let us make man to our image and ...</td>\n",
       "      <td>And God said, Let us make man in our image, af...</td>\n",
       "      <td>And God said, Let us make man in our image, af...</td>\n",
       "      <td>And God said, Let us make man in our image, af...</td>\n",
       "      <td>God said, |Let us make man in our image, after...</td>\n",
       "      <td>And God saith, 'Let Us make man in Our image, ...</td>\n",
       "      <td>And God said, Let us make man in our image, af...</td>\n",
       "      <td>NaN</td>\n",
       "      <td>Genesis</td>\n",
       "      <td>1</td>\n",
       "      <td>26</td>\n",
       "      <td>Genesis 1:26</td>\n",
       "      <td>And God said, Let us make man in our image, af...</td>\n",
       "    </tr>\n",
       "    <tr>\n",
       "      <th>26</th>\n",
       "      <td>genesis 1:27</td>\n",
       "      <td>So God created man in his &lt;i&gt;own&lt;/i&gt; image, in...</td>\n",
       "      <td>And God created man in his own image, in the i...</td>\n",
       "      <td>And God created man to his own image: to the i...</td>\n",
       "      <td>And God created Man in his image, in the image...</td>\n",
       "      <td>And God created man in his own image, in the i...</td>\n",
       "      <td>So God created man in his own image, in the im...</td>\n",
       "      <td>God created man in his own image. In God's ima...</td>\n",
       "      <td>And God prepareth the man in His image; in the...</td>\n",
       "      <td>So God created man in his own image, in the im...</td>\n",
       "      <td>NaN</td>\n",
       "      <td>Genesis</td>\n",
       "      <td>1</td>\n",
       "      <td>27</td>\n",
       "      <td>Genesis 1:27</td>\n",
       "      <td>So God created man in his own image, in the im...</td>\n",
       "    </tr>\n",
       "    <tr>\n",
       "      <th>37</th>\n",
       "      <td>genesis 2:7</td>\n",
       "      <td>And the LORD God formed man &lt;i&gt;of&lt;/i&gt; the dust...</td>\n",
       "      <td>And Jehovah God formed man of the dust of the ...</td>\n",
       "      <td>And the Lord God formed man of the slime of th...</td>\n",
       "      <td>And Jehovah Elohim formed Man, dust of the gro...</td>\n",
       "      <td>And the LORD God formed man of the dust of the...</td>\n",
       "      <td>And the LORD God formed man of the dust of the...</td>\n",
       "      <td>Yahweh God formed man from the dust of the gro...</td>\n",
       "      <td>And Jehovah God formeth the man &amp;#8212; dust f...</td>\n",
       "      <td>And the LORD God formed man of the dust of the...</td>\n",
       "      <td>NaN</td>\n",
       "      <td>Genesis</td>\n",
       "      <td>2</td>\n",
       "      <td>7</td>\n",
       "      <td>Genesis 2:7</td>\n",
       "      <td>And the LORD God formed man of the dust of the...</td>\n",
       "    </tr>\n",
       "    <tr>\n",
       "      <th>48</th>\n",
       "      <td>genesis 2:18</td>\n",
       "      <td>And the LORD God said, &lt;i&gt;It is&lt;/i&gt; not good t...</td>\n",
       "      <td>And Jehovah God said, It is not good that the ...</td>\n",
       "      <td>And the Lord God said: It is not good for man ...</td>\n",
       "      <td>And Jehovah Elohim said, It is not good that M...</td>\n",
       "      <td>And the LORD God said, It is not good that the...</td>\n",
       "      <td>And the LORD God said, It is not good that the...</td>\n",
       "      <td>Yahweh God said, |It is not good that the man ...</td>\n",
       "      <td>And Jehovah God saith, 'Not good for the man t...</td>\n",
       "      <td>And the LORD God said, It is not good that the...</td>\n",
       "      <td>NaN</td>\n",
       "      <td>Genesis</td>\n",
       "      <td>2</td>\n",
       "      <td>18</td>\n",
       "      <td>Genesis 2:18</td>\n",
       "      <td>And the LORD God said, It is not good that the...</td>\n",
       "    </tr>\n",
       "  </tbody>\n",
       "</table>\n",
       "</div>"
      ],
      "text/plain": [
       "           Verse                                   King James Bible  \\\n",
       "0    genesis 1:1  In the beginning God created the heaven and th...   \n",
       "25  genesis 1:26  And God said, Let us make man in our image, af...   \n",
       "26  genesis 1:27  So God created man in his <i>own</i> image, in...   \n",
       "37   genesis 2:7  And the LORD God formed man <i>of</i> the dust...   \n",
       "48  genesis 2:18  And the LORD God said, <i>It is</i> not good t...   \n",
       "\n",
       "                            American Standard Version  \\\n",
       "0   In the beginning God created the heavens and t...   \n",
       "25  And God said, Let us make man in our image, af...   \n",
       "26  And God created man in his own image, in the i...   \n",
       "37  And Jehovah God formed man of the dust of the ...   \n",
       "48  And Jehovah God said, It is not good that the ...   \n",
       "\n",
       "                                   Douay-Rheims Bible  \\\n",
       "0    In the beginning God created heaven, and earth.    \n",
       "25  And he said: Let us make man to our image and ...   \n",
       "26  And God created man to his own image: to the i...   \n",
       "37  And the Lord God formed man of the slime of th...   \n",
       "48  And the Lord God said: It is not good for man ...   \n",
       "\n",
       "                              Darby Bible Translation  \\\n",
       "0   In the beginning God created the heavens and t...   \n",
       "25  And God said, Let us make man in our image, af...   \n",
       "26  And God created Man in his image, in the image...   \n",
       "37  And Jehovah Elohim formed Man, dust of the gro...   \n",
       "48  And Jehovah Elohim said, It is not good that M...   \n",
       "\n",
       "                              English Revised Version  \\\n",
       "0   In the beginning God created the heaven and th...   \n",
       "25  And God said, Let us make man in our image, af...   \n",
       "26  And God created man in his own image, in the i...   \n",
       "37  And the LORD God formed man of the dust of the...   \n",
       "48  And the LORD God said, It is not good that the...   \n",
       "\n",
       "                            Webster Bible Translation  \\\n",
       "0   In the beginning God created the heaven and th...   \n",
       "25  And God said, Let us make man in our image, af...   \n",
       "26  So God created man in his own image, in the im...   \n",
       "37  And the LORD God formed man of the dust of the...   \n",
       "48  And the LORD God said, It is not good that the...   \n",
       "\n",
       "                                  World English Bible  \\\n",
       "0   In the beginning God created the heavens and t...   \n",
       "25  God said, |Let us make man in our image, after...   \n",
       "26  God created man in his own image. In God's ima...   \n",
       "37  Yahweh God formed man from the dust of the gro...   \n",
       "48  Yahweh God said, |It is not good that the man ...   \n",
       "\n",
       "                          Young's Literal Translation  \\\n",
       "0   In the beginning of God's preparing the heaven...   \n",
       "25  And God saith, 'Let Us make man in Our image, ...   \n",
       "26  And God prepareth the man in His image; in the...   \n",
       "37  And Jehovah God formeth the man &#8212; dust f...   \n",
       "48  And Jehovah God saith, 'Not good for the man t...   \n",
       "\n",
       "                          American King James Version Weymouth New Testament  \\\n",
       "0   In the beginning God created the heaven and th...                    NaN   \n",
       "25  And God said, Let us make man in our image, af...                    NaN   \n",
       "26  So God created man in his own image, in the im...                    NaN   \n",
       "37  And the LORD God formed man of the dust of the...                    NaN   \n",
       "48  And the LORD God said, It is not good that the...                    NaN   \n",
       "\n",
       "       book chapter verse      citation  \\\n",
       "0   Genesis       1     1   Genesis 1:1   \n",
       "25  Genesis       1    26  Genesis 1:26   \n",
       "26  Genesis       1    27  Genesis 1:27   \n",
       "37  Genesis       2     7   Genesis 2:7   \n",
       "48  Genesis       2    18  Genesis 2:18   \n",
       "\n",
       "                                                 text  \n",
       "0   In the beginning God created the heaven and th...  \n",
       "25  And God said, Let us make man in our image, af...  \n",
       "26  So God created man in his own image, in the im...  \n",
       "37  And the LORD God formed man of the dust of the...  \n",
       "48  And the LORD God said, It is not good that the...  "
      ]
     },
     "execution_count": 63,
     "metadata": {},
     "output_type": "execute_result"
    }
   ],
   "source": [
    "bible_df.head()"
   ]
  },
  {
   "cell_type": "code",
   "execution_count": 15,
   "id": "b8739133-5695-4f0b-a897-04407e42dfa7",
   "metadata": {},
   "outputs": [],
   "source": [
    "verse_to_citation = dict(zip(verses, bible_df['Verse']))"
   ]
  },
  {
   "cell_type": "code",
   "execution_count": 16,
   "id": "08c49793-e924-4ff9-9d79-7d50440ca252",
   "metadata": {},
   "outputs": [],
   "source": [
    "VERSE_REGEX = r\"\\b(?:[1-3]?\\s?[A-Za-z]+(?:\\s?[1-3]?[0-9]))(?::\\s?[1-9][0-9]*(?:-[1-9][0-9]*)?)?\\b\""
   ]
  },
  {
   "cell_type": "code",
   "execution_count": 17,
   "id": "54d7fe99-64f1-47cd-a1d2-17eaf6306d90",
   "metadata": {},
   "outputs": [],
   "source": [
    "from rapidfuzz import process\n",
    "from rapidfuzz import fuzz\n",
    "\n",
    "# will pick most similar verse\n",
    "def fuzzy_match_with_verse(text):\n",
    "    result = process.extractOne(text, verses, scorer=fuzz.token_sort_ratio) # example return: ('Dallas Cowboys', 83.07692307692308, 3)\n",
    "    if result[1] > 75:\n",
    "        return verse_to_citation[result[0]]\n",
    "    else:\n",
    "        return None"
   ]
  },
  {
   "cell_type": "code",
   "execution_count": 19,
   "id": "0bc9427f-2a5a-4190-a259-cce981639932",
   "metadata": {},
   "outputs": [
    {
     "name": "stderr",
     "output_type": "stream",
     "text": [
      "[nltk_data] Downloading package punkt to /home/laviniad/nltk_data...\n",
      "[nltk_data]   Package punkt is already up-to-date!\n"
     ]
    },
    {
     "data": {
      "text/plain": [
       "<module 'data.congress_utils' from '/home/laviniad/projects/religion_in_congress/data/congress_utils.py'>"
      ]
     },
     "execution_count": 19,
     "metadata": {},
     "output_type": "execute_result"
    }
   ],
   "source": [
    "import importlib\n",
    "importlib.reload(congress_utils)"
   ]
  },
  {
   "cell_type": "code",
   "execution_count": 20,
   "id": "8ce7441b-b1f7-4742-b0ea-dc36c10c1905",
   "metadata": {},
   "outputs": [
    {
     "name": "stderr",
     "output_type": "stream",
     "text": [
      "100%|████████████████████████████████████████████████████| 2283034/2283034 [00:02<00:00, 792306.23it/s]\n",
      "100%|████████████████████████████████████████████████████| 2283034/2283034 [00:02<00:00, 773553.71it/s]\n"
     ]
    }
   ],
   "source": [
    "congress_df = induce_party_and_state(congress_df)"
   ]
  },
  {
   "cell_type": "code",
   "execution_count": 22,
   "id": "329fdc30-e90a-43e2-ad8e-4ab4a6795ab3",
   "metadata": {},
   "outputs": [
    {
     "data": {
      "text/html": [
       "<div>\n",
       "<style scoped>\n",
       "    .dataframe tbody tr th:only-of-type {\n",
       "        vertical-align: middle;\n",
       "    }\n",
       "\n",
       "    .dataframe tbody tr th {\n",
       "        vertical-align: top;\n",
       "    }\n",
       "\n",
       "    .dataframe thead th {\n",
       "        text-align: right;\n",
       "    }\n",
       "</style>\n",
       "<table border=\"1\" class=\"dataframe\">\n",
       "  <thead>\n",
       "    <tr style=\"text-align: right;\">\n",
       "      <th></th>\n",
       "      <th>bio_id</th>\n",
       "      <th>congress_num</th>\n",
       "      <th>year</th>\n",
       "      <th>date</th>\n",
       "      <th>chamber</th>\n",
       "      <th>speaker</th>\n",
       "      <th>text</th>\n",
       "      <th>party</th>\n",
       "      <th>state</th>\n",
       "    </tr>\n",
       "  </thead>\n",
       "  <tbody>\n",
       "    <tr>\n",
       "      <th>0</th>\n",
       "      <td>L000397</td>\n",
       "      <td>116</td>\n",
       "      <td>2019</td>\n",
       "      <td>20190104</td>\n",
       "      <td>House</td>\n",
       "      <td>Ms. LOFGREN</td>\n",
       "      <td>Ms. LOFGREN. Madam Speaker, I rise today to ho...</td>\n",
       "      <td>Democrat</td>\n",
       "      <td>CA</td>\n",
       "    </tr>\n",
       "    <tr>\n",
       "      <th>1</th>\n",
       "      <td>W000804</td>\n",
       "      <td>116</td>\n",
       "      <td>2019</td>\n",
       "      <td>20190104</td>\n",
       "      <td>House</td>\n",
       "      <td>Mr. WITTMAN</td>\n",
       "      <td>Mr. WITTMAN. Madam Speaker, I was not present ...</td>\n",
       "      <td>Republican</td>\n",
       "      <td>VA</td>\n",
       "    </tr>\n",
       "    <tr>\n",
       "      <th>2</th>\n",
       "      <td>S001201</td>\n",
       "      <td>116</td>\n",
       "      <td>2019</td>\n",
       "      <td>20190104</td>\n",
       "      <td>House</td>\n",
       "      <td>Mr. SUOZZI</td>\n",
       "      <td>Mr. SUOZZI. Madam Speaker, today is former Con...</td>\n",
       "      <td>Democrat</td>\n",
       "      <td>NY</td>\n",
       "    </tr>\n",
       "    <tr>\n",
       "      <th>3</th>\n",
       "      <td>S001199</td>\n",
       "      <td>116</td>\n",
       "      <td>2019</td>\n",
       "      <td>20190104</td>\n",
       "      <td>House</td>\n",
       "      <td>Mr. SMUCKER</td>\n",
       "      <td>Mr. SMUCKER. Madam Speaker, I regret I was una...</td>\n",
       "      <td>Republican</td>\n",
       "      <td>PA</td>\n",
       "    </tr>\n",
       "    <tr>\n",
       "      <th>4</th>\n",
       "      <td>U000031</td>\n",
       "      <td>116</td>\n",
       "      <td>2019</td>\n",
       "      <td>20190104</td>\n",
       "      <td>House</td>\n",
       "      <td>Mr. UPTON</td>\n",
       "      <td>Mr. UPTON. Madam Speaker, I was unavoidably de...</td>\n",
       "      <td>Republican</td>\n",
       "      <td>MI</td>\n",
       "    </tr>\n",
       "  </tbody>\n",
       "</table>\n",
       "</div>"
      ],
      "text/plain": [
       "    bio_id  congress_num  year      date chamber      speaker  \\\n",
       "0  L000397           116  2019  20190104   House  Ms. LOFGREN   \n",
       "1  W000804           116  2019  20190104   House  Mr. WITTMAN   \n",
       "2  S001201           116  2019  20190104   House   Mr. SUOZZI   \n",
       "3  S001199           116  2019  20190104   House  Mr. SMUCKER   \n",
       "4  U000031           116  2019  20190104   House    Mr. UPTON   \n",
       "\n",
       "                                                text       party state  \n",
       "0  Ms. LOFGREN. Madam Speaker, I rise today to ho...    Democrat    CA  \n",
       "1  Mr. WITTMAN. Madam Speaker, I was not present ...  Republican    VA  \n",
       "2  Mr. SUOZZI. Madam Speaker, today is former Con...    Democrat    NY  \n",
       "3  Mr. SMUCKER. Madam Speaker, I regret I was una...  Republican    PA  \n",
       "4  Mr. UPTON. Madam Speaker, I was unavoidably de...  Republican    MI  "
      ]
     },
     "execution_count": 22,
     "metadata": {},
     "output_type": "execute_result"
    }
   ],
   "source": [
    "congress_df.head()"
   ]
  },
  {
   "cell_type": "code",
   "execution_count": 23,
   "id": "81f975b3-a987-4b5a-b11c-51fbd924d4eb",
   "metadata": {},
   "outputs": [
    {
     "data": {
      "application/vnd.jupyter.widget-view+json": {
       "model_id": "b7e18106ceb3401a8c216e5d203fc071",
       "version_major": 2,
       "version_minor": 0
      },
      "text/plain": [
       "  0%|          | 0/2283034 [00:00<?, ?it/s]"
      ]
     },
     "metadata": {},
     "output_type": "display_data"
    }
   ],
   "source": [
    "context_length = 100\n",
    "\n",
    "cong_examples = []\n",
    "final_pattern = rf'(?:{bible_pattern}) (?:{says_pattern})'\n",
    "for idx,row in tqdm(congress_df.iterrows(), total=len(congress_df)):\n",
    "    text = row['text']\n",
    "    for t in sent_tokenize(text):\n",
    "        matches = re.findall(final_pattern, t)\n",
    "        temp = []\n",
    "        for match in matches:\n",
    "            verse_text_number = fuzzy_match_with_verse(t)\n",
    "            if not verse_text_number:\n",
    "                verse_text_number = 'no_quote'\n",
    "            \n",
    "            verse_citation = re.search(VERSE_REGEX, t)\n",
    "            if verse_citation:\n",
    "                verse_citation = verse_citation.group(0)\n",
    "            else:\n",
    "                verse_citation = 'no_citation'\n",
    "            temp.append({'text': t, 'speaker': row['speaker'], 'year': row['year'], 'matched_text': match,\n",
    "                        'regex_citation': verse_citation, 'verse_quoted': verse_text_number,\n",
    "                        'party': row['party']})\n",
    "                    \n",
    "        cong_examples += temp"
   ]
  },
  {
   "cell_type": "code",
   "execution_count": 24,
   "id": "440c9228-3f2b-4d37-ae94-f56a17ab8319",
   "metadata": {},
   "outputs": [
    {
     "data": {
      "text/plain": [
       "619"
      ]
     },
     "execution_count": 24,
     "metadata": {},
     "output_type": "execute_result"
    }
   ],
   "source": [
    "len(cong_examples)"
   ]
  },
  {
   "cell_type": "code",
   "execution_count": 25,
   "id": "c5efba2b-3a97-4b22-828b-4591a6a4b150",
   "metadata": {},
   "outputs": [],
   "source": [
    "cong_examples = pd.DataFrame(cong_examples)"
   ]
  },
  {
   "cell_type": "code",
   "execution_count": 26,
   "id": "c786e8f1-52b2-41ea-8cba-983a03ed040a",
   "metadata": {},
   "outputs": [
    {
     "data": {
      "text/html": [
       "<div>\n",
       "<style scoped>\n",
       "    .dataframe tbody tr th:only-of-type {\n",
       "        vertical-align: middle;\n",
       "    }\n",
       "\n",
       "    .dataframe tbody tr th {\n",
       "        vertical-align: top;\n",
       "    }\n",
       "\n",
       "    .dataframe thead th {\n",
       "        text-align: right;\n",
       "    }\n",
       "</style>\n",
       "<table border=\"1\" class=\"dataframe\">\n",
       "  <thead>\n",
       "    <tr style=\"text-align: right;\">\n",
       "      <th></th>\n",
       "      <th>text</th>\n",
       "      <th>speaker</th>\n",
       "      <th>year</th>\n",
       "      <th>matched_text</th>\n",
       "      <th>regex_citation</th>\n",
       "      <th>verse_quoted</th>\n",
       "      <th>party</th>\n",
       "    </tr>\n",
       "  </thead>\n",
       "  <tbody>\n",
       "    <tr>\n",
       "      <th>0</th>\n",
       "      <td>To my fellow Louisianans, I remind you of what...</td>\n",
       "      <td>Mr. CASSIDY</td>\n",
       "      <td>2019</td>\n",
       "      <td>Scripture say</td>\n",
       "      <td>Psalm 34</td>\n",
       "      <td>no_quote</td>\n",
       "      <td>Republican</td>\n",
       "    </tr>\n",
       "    <tr>\n",
       "      <th>1</th>\n",
       "      <td>In fact, my Bible tells me we will all give ac...</td>\n",
       "      <td>Mr. COLLINS of Georgia</td>\n",
       "      <td>2019</td>\n",
       "      <td>Bible tell</td>\n",
       "      <td>no_citation</td>\n",
       "      <td>no_quote</td>\n",
       "      <td>Republican</td>\n",
       "    </tr>\n",
       "    <tr>\n",
       "      <th>2</th>\n",
       "      <td>Thanks to her hospitable nature, I would not b...</td>\n",
       "      <td>Mr. WEBSTER of Florida</td>\n",
       "      <td>2019</td>\n",
       "      <td>Scripture say</td>\n",
       "      <td>no_citation</td>\n",
       "      <td>no_quote</td>\n",
       "      <td>Republican</td>\n",
       "    </tr>\n",
       "    <tr>\n",
       "      <th>3</th>\n",
       "      <td>Scripture tells us in John 15:13, ``Greater lo...</td>\n",
       "      <td>Mr. CARPER</td>\n",
       "      <td>2019</td>\n",
       "      <td>Scripture tell</td>\n",
       "      <td>John 15:13</td>\n",
       "      <td>no_quote</td>\n",
       "      <td>Democrat</td>\n",
       "    </tr>\n",
       "    <tr>\n",
       "      <th>4</th>\n",
       "      <td>In fact, the good Word tells us that ``Greater...</td>\n",
       "      <td>Mr. DAINES</td>\n",
       "      <td>2019</td>\n",
       "      <td>Word tell</td>\n",
       "      <td>no_citation</td>\n",
       "      <td>john 15:13</td>\n",
       "      <td>Republican</td>\n",
       "    </tr>\n",
       "  </tbody>\n",
       "</table>\n",
       "</div>"
      ],
      "text/plain": [
       "                                                text                 speaker  \\\n",
       "0  To my fellow Louisianans, I remind you of what...             Mr. CASSIDY   \n",
       "1  In fact, my Bible tells me we will all give ac...  Mr. COLLINS of Georgia   \n",
       "2  Thanks to her hospitable nature, I would not b...  Mr. WEBSTER of Florida   \n",
       "3  Scripture tells us in John 15:13, ``Greater lo...              Mr. CARPER   \n",
       "4  In fact, the good Word tells us that ``Greater...              Mr. DAINES   \n",
       "\n",
       "   year    matched_text regex_citation verse_quoted       party  \n",
       "0  2019   Scripture say       Psalm 34     no_quote  Republican  \n",
       "1  2019      Bible tell    no_citation     no_quote  Republican  \n",
       "2  2019   Scripture say    no_citation     no_quote  Republican  \n",
       "3  2019  Scripture tell     John 15:13     no_quote    Democrat  \n",
       "4  2019       Word tell    no_citation   john 15:13  Republican  "
      ]
     },
     "execution_count": 26,
     "metadata": {},
     "output_type": "execute_result"
    }
   ],
   "source": [
    "cong_examples.head()"
   ]
  },
  {
   "cell_type": "code",
   "execution_count": 44,
   "id": "50fe0c73-5c63-46ea-a59e-1afc1ccac289",
   "metadata": {},
   "outputs": [
    {
     "data": {
      "text/plain": [
       "party\n",
       "Democrat       308\n",
       "Republican     307\n",
       "unknown          3\n",
       "Independent      1\n",
       "Name: count, dtype: int64"
      ]
     },
     "execution_count": 44,
     "metadata": {},
     "output_type": "execute_result"
    }
   ],
   "source": [
    "cong_examples['party'].value_counts()"
   ]
  },
  {
   "cell_type": "code",
   "execution_count": 46,
   "id": "8b621953-bb72-452f-b301-907837d59ad8",
   "metadata": {},
   "outputs": [
    {
     "data": {
      "text/plain": [
       "party\n",
       "Republican    20\n",
       "Democrat       8\n",
       "Name: count, dtype: int64"
      ]
     },
     "execution_count": 46,
     "metadata": {},
     "output_type": "execute_result"
    }
   ],
   "source": [
    "cong_examples[cong_examples['verse_quoted'] != 'no_quote']['party'].value_counts()"
   ]
  },
  {
   "cell_type": "code",
   "execution_count": 47,
   "id": "468bfafe-13e7-4a20-8ead-a7c20ec04e5b",
   "metadata": {},
   "outputs": [
    {
     "data": {
      "text/plain": [
       "party\n",
       "Republican    36\n",
       "Democrat      29\n",
       "unknown        1\n",
       "Name: count, dtype: int64"
      ]
     },
     "execution_count": 47,
     "metadata": {},
     "output_type": "execute_result"
    }
   ],
   "source": [
    "cong_examples[cong_examples['regex_citation'] != 'no_citation']['party'].value_counts()"
   ]
  },
  {
   "cell_type": "code",
   "execution_count": 27,
   "id": "9a21c24d-bf79-40e8-8519-def05d8c3059",
   "metadata": {},
   "outputs": [
    {
     "data": {
      "text/plain": [
       "{'2 timothy 1:7',\n",
       " 'john 15:13',\n",
       " 'john 8:32',\n",
       " 'no_quote',\n",
       " 'philippians 4:8',\n",
       " 'romans 5:8',\n",
       " 'romans 6:23'}"
      ]
     },
     "execution_count": 27,
     "metadata": {},
     "output_type": "execute_result"
    }
   ],
   "source": [
    "set(cong_examples['verse_quoted'])"
   ]
  },
  {
   "cell_type": "code",
   "execution_count": 28,
   "id": "c3a5ba7a-63ae-4841-bd65-e8819f0a4191",
   "metadata": {},
   "outputs": [
    {
     "data": {
      "text/html": [
       "<div>\n",
       "<style scoped>\n",
       "    .dataframe tbody tr th:only-of-type {\n",
       "        vertical-align: middle;\n",
       "    }\n",
       "\n",
       "    .dataframe tbody tr th {\n",
       "        vertical-align: top;\n",
       "    }\n",
       "\n",
       "    .dataframe thead th {\n",
       "        text-align: right;\n",
       "    }\n",
       "</style>\n",
       "<table border=\"1\" class=\"dataframe\">\n",
       "  <thead>\n",
       "    <tr style=\"text-align: right;\">\n",
       "      <th></th>\n",
       "      <th>text</th>\n",
       "      <th>speaker</th>\n",
       "      <th>year</th>\n",
       "      <th>matched_text</th>\n",
       "      <th>regex_citation</th>\n",
       "      <th>verse_quoted</th>\n",
       "      <th>party</th>\n",
       "    </tr>\n",
       "  </thead>\n",
       "  <tbody>\n",
       "    <tr>\n",
       "      <th>4</th>\n",
       "      <td>In fact, the good Word tells us that ``Greater...</td>\n",
       "      <td>Mr. DAINES</td>\n",
       "      <td>2019</td>\n",
       "      <td>Word tell</td>\n",
       "      <td>no_citation</td>\n",
       "      <td>john 15:13</td>\n",
       "      <td>Republican</td>\n",
       "    </tr>\n",
       "    <tr>\n",
       "      <th>66</th>\n",
       "      <td>Madam Speaker, the Bible says in John 15:13, `...</td>\n",
       "      <td>Mr. BRADY of Texas</td>\n",
       "      <td>2010</td>\n",
       "      <td>Bible say</td>\n",
       "      <td>John 15:13</td>\n",
       "      <td>john 15:13</td>\n",
       "      <td>Republican</td>\n",
       "    </tr>\n",
       "    <tr>\n",
       "      <th>149</th>\n",
       "      <td>The Bible says, ``greater love hath no man tha...</td>\n",
       "      <td>Mr. CUNNINGHAM</td>\n",
       "      <td>1998</td>\n",
       "      <td>Bible say</td>\n",
       "      <td>no_citation</td>\n",
       "      <td>john 15:13</td>\n",
       "      <td>Republican</td>\n",
       "    </tr>\n",
       "    <tr>\n",
       "      <th>150</th>\n",
       "      <td>Mr. Speaker, the Bible tells us, greater love ...</td>\n",
       "      <td>Ms. DANNER</td>\n",
       "      <td>1998</td>\n",
       "      <td>Bible tell</td>\n",
       "      <td>no_citation</td>\n",
       "      <td>john 15:13</td>\n",
       "      <td>Democrat</td>\n",
       "    </tr>\n",
       "    <tr>\n",
       "      <th>248</th>\n",
       "      <td>Scripture says, ``Greater love hath no man tha...</td>\n",
       "      <td>Mr. CASSIDY</td>\n",
       "      <td>2016</td>\n",
       "      <td>Scripture say</td>\n",
       "      <td>no_citation</td>\n",
       "      <td>john 15:13</td>\n",
       "      <td>Republican</td>\n",
       "    </tr>\n",
       "    <tr>\n",
       "      <th>270</th>\n",
       "      <td>As the Bible says, ``Greater love hath no man ...</td>\n",
       "      <td>Mrs. FOWLER</td>\n",
       "      <td>1999</td>\n",
       "      <td>Bible say</td>\n",
       "      <td>John 15:13</td>\n",
       "      <td>john 15:13</td>\n",
       "      <td>Republican</td>\n",
       "    </tr>\n",
       "    <tr>\n",
       "      <th>403</th>\n",
       "      <td>Because, as the Good Book says, ``Greater love...</td>\n",
       "      <td>Mr. BISHOP</td>\n",
       "      <td>2001</td>\n",
       "      <td>Good Book say</td>\n",
       "      <td>no_citation</td>\n",
       "      <td>john 15:13</td>\n",
       "      <td>Democrat</td>\n",
       "    </tr>\n",
       "    <tr>\n",
       "      <th>406</th>\n",
       "      <td>Scripture says ``greater love hath no man than...</td>\n",
       "      <td>Mr. WOLF</td>\n",
       "      <td>2002</td>\n",
       "      <td>Scripture say</td>\n",
       "      <td>no_citation</td>\n",
       "      <td>john 15:13</td>\n",
       "      <td>Republican</td>\n",
       "    </tr>\n",
       "    <tr>\n",
       "      <th>430</th>\n",
       "      <td>The Bible says: Greater love hath no man than ...</td>\n",
       "      <td>Mr. NICKLES</td>\n",
       "      <td>2002</td>\n",
       "      <td>Bible say</td>\n",
       "      <td>no_citation</td>\n",
       "      <td>john 15:13</td>\n",
       "      <td>Republican</td>\n",
       "    </tr>\n",
       "    <tr>\n",
       "      <th>438</th>\n",
       "      <td>As the Bible says in John chapter 15:13, ``Gre...</td>\n",
       "      <td>Mr. VOINOVICH</td>\n",
       "      <td>2002</td>\n",
       "      <td>Bible say</td>\n",
       "      <td>chapter 15:13</td>\n",
       "      <td>john 15:13</td>\n",
       "      <td>Republican</td>\n",
       "    </tr>\n",
       "    <tr>\n",
       "      <th>439</th>\n",
       "      <td>As the Bible says in John chapter 15:13, ``Gre...</td>\n",
       "      <td>Mr. VOINOVICH</td>\n",
       "      <td>2002</td>\n",
       "      <td>Bible say</td>\n",
       "      <td>chapter 15:13</td>\n",
       "      <td>john 15:13</td>\n",
       "      <td>Republican</td>\n",
       "    </tr>\n",
       "    <tr>\n",
       "      <th>491</th>\n",
       "      <td>The Bible says: Greater love has no man that h...</td>\n",
       "      <td>Mr. TUBERVILLE</td>\n",
       "      <td>2023</td>\n",
       "      <td>Bible say</td>\n",
       "      <td>no_citation</td>\n",
       "      <td>john 15:13</td>\n",
       "      <td>Republican</td>\n",
       "    </tr>\n",
       "    <tr>\n",
       "      <th>503</th>\n",
       "      <td>Scripture tells us, ``Greater love has no one ...</td>\n",
       "      <td>Mr. SALI</td>\n",
       "      <td>2007</td>\n",
       "      <td>Scripture tell</td>\n",
       "      <td>no_citation</td>\n",
       "      <td>john 15:13</td>\n",
       "      <td>Republican</td>\n",
       "    </tr>\n",
       "    <tr>\n",
       "      <th>523</th>\n",
       "      <td>Scripture tells us that, ``Greater love has no...</td>\n",
       "      <td>Ms. HOOLEY</td>\n",
       "      <td>2007</td>\n",
       "      <td>Scripture tell</td>\n",
       "      <td>no_citation</td>\n",
       "      <td>john 15:13</td>\n",
       "      <td>Democrat</td>\n",
       "    </tr>\n",
       "    <tr>\n",
       "      <th>556</th>\n",
       "      <td>The Bible tells us that ``Greater love than th...</td>\n",
       "      <td>Mr. SMITH</td>\n",
       "      <td>2003</td>\n",
       "      <td>Bible tell</td>\n",
       "      <td>no_citation</td>\n",
       "      <td>john 15:13</td>\n",
       "      <td>Republican</td>\n",
       "    </tr>\n",
       "    <tr>\n",
       "      <th>557</th>\n",
       "      <td>As the Bible says in John, chapter 15:13, ``Gr...</td>\n",
       "      <td>Mr. VOINOVICH</td>\n",
       "      <td>2003</td>\n",
       "      <td>Bible say</td>\n",
       "      <td>chapter 15:13</td>\n",
       "      <td>john 15:13</td>\n",
       "      <td>Republican</td>\n",
       "    </tr>\n",
       "    <tr>\n",
       "      <th>558</th>\n",
       "      <td>As the Bible says in John, chapter 15:13, ``Gr...</td>\n",
       "      <td>Mr. VOINOVICH</td>\n",
       "      <td>2003</td>\n",
       "      <td>Bible say</td>\n",
       "      <td>chapter 15:13</td>\n",
       "      <td>john 15:13</td>\n",
       "      <td>Republican</td>\n",
       "    </tr>\n",
       "    <tr>\n",
       "      <th>577</th>\n",
       "      <td>As the Bible says in John chapter 15:13, ``Gre...</td>\n",
       "      <td>Mr. VOINOVICH</td>\n",
       "      <td>2003</td>\n",
       "      <td>Bible say</td>\n",
       "      <td>chapter 15:13</td>\n",
       "      <td>john 15:13</td>\n",
       "      <td>Republican</td>\n",
       "    </tr>\n",
       "    <tr>\n",
       "      <th>597</th>\n",
       "      <td>As the Bible says in John, chapter 15:13: Grea...</td>\n",
       "      <td>Mr. VOINOVICH</td>\n",
       "      <td>2004</td>\n",
       "      <td>Bible say</td>\n",
       "      <td>chapter 15:13</td>\n",
       "      <td>john 15:13</td>\n",
       "      <td>Republican</td>\n",
       "    </tr>\n",
       "    <tr>\n",
       "      <th>603</th>\n",
       "      <td>The Bible says ``No greater love has a man tha...</td>\n",
       "      <td>Mr. PENCE</td>\n",
       "      <td>2004</td>\n",
       "      <td>Bible say</td>\n",
       "      <td>no_citation</td>\n",
       "      <td>john 15:13</td>\n",
       "      <td>Republican</td>\n",
       "    </tr>\n",
       "  </tbody>\n",
       "</table>\n",
       "</div>"
      ],
      "text/plain": [
       "                                                  text             speaker  \\\n",
       "4    In fact, the good Word tells us that ``Greater...          Mr. DAINES   \n",
       "66   Madam Speaker, the Bible says in John 15:13, `...  Mr. BRADY of Texas   \n",
       "149  The Bible says, ``greater love hath no man tha...      Mr. CUNNINGHAM   \n",
       "150  Mr. Speaker, the Bible tells us, greater love ...          Ms. DANNER   \n",
       "248  Scripture says, ``Greater love hath no man tha...         Mr. CASSIDY   \n",
       "270  As the Bible says, ``Greater love hath no man ...         Mrs. FOWLER   \n",
       "403  Because, as the Good Book says, ``Greater love...          Mr. BISHOP   \n",
       "406  Scripture says ``greater love hath no man than...            Mr. WOLF   \n",
       "430  The Bible says: Greater love hath no man than ...         Mr. NICKLES   \n",
       "438  As the Bible says in John chapter 15:13, ``Gre...       Mr. VOINOVICH   \n",
       "439  As the Bible says in John chapter 15:13, ``Gre...       Mr. VOINOVICH   \n",
       "491  The Bible says: Greater love has no man that h...      Mr. TUBERVILLE   \n",
       "503  Scripture tells us, ``Greater love has no one ...            Mr. SALI   \n",
       "523  Scripture tells us that, ``Greater love has no...          Ms. HOOLEY   \n",
       "556  The Bible tells us that ``Greater love than th...           Mr. SMITH   \n",
       "557  As the Bible says in John, chapter 15:13, ``Gr...       Mr. VOINOVICH   \n",
       "558  As the Bible says in John, chapter 15:13, ``Gr...       Mr. VOINOVICH   \n",
       "577  As the Bible says in John chapter 15:13, ``Gre...       Mr. VOINOVICH   \n",
       "597  As the Bible says in John, chapter 15:13: Grea...       Mr. VOINOVICH   \n",
       "603  The Bible says ``No greater love has a man tha...           Mr. PENCE   \n",
       "\n",
       "     year    matched_text  regex_citation verse_quoted       party  \n",
       "4    2019       Word tell     no_citation   john 15:13  Republican  \n",
       "66   2010       Bible say      John 15:13   john 15:13  Republican  \n",
       "149  1998       Bible say     no_citation   john 15:13  Republican  \n",
       "150  1998      Bible tell     no_citation   john 15:13    Democrat  \n",
       "248  2016   Scripture say     no_citation   john 15:13  Republican  \n",
       "270  1999       Bible say      John 15:13   john 15:13  Republican  \n",
       "403  2001   Good Book say     no_citation   john 15:13    Democrat  \n",
       "406  2002   Scripture say     no_citation   john 15:13  Republican  \n",
       "430  2002       Bible say     no_citation   john 15:13  Republican  \n",
       "438  2002       Bible say   chapter 15:13   john 15:13  Republican  \n",
       "439  2002       Bible say   chapter 15:13   john 15:13  Republican  \n",
       "491  2023       Bible say     no_citation   john 15:13  Republican  \n",
       "503  2007  Scripture tell     no_citation   john 15:13  Republican  \n",
       "523  2007  Scripture tell     no_citation   john 15:13    Democrat  \n",
       "556  2003      Bible tell     no_citation   john 15:13  Republican  \n",
       "557  2003       Bible say   chapter 15:13   john 15:13  Republican  \n",
       "558  2003       Bible say   chapter 15:13   john 15:13  Republican  \n",
       "577  2003       Bible say   chapter 15:13   john 15:13  Republican  \n",
       "597  2004       Bible say   chapter 15:13   john 15:13  Republican  \n",
       "603  2004       Bible say     no_citation   john 15:13  Republican  "
      ]
     },
     "execution_count": 28,
     "metadata": {},
     "output_type": "execute_result"
    }
   ],
   "source": [
    "cong_examples[cong_examples['verse_quoted'] == 'john 15:13']"
   ]
  },
  {
   "cell_type": "code",
   "execution_count": 58,
   "id": "ef9b0913-9325-4641-a374-e3fedf9fe3bb",
   "metadata": {},
   "outputs": [
    {
     "data": {
      "text/plain": [
       "<Axes: >"
      ]
     },
     "execution_count": 58,
     "metadata": {},
     "output_type": "execute_result"
    },
    {
     "data": {
      "image/png": "[encoded data removed]",
      "text/plain": [
       "<Figure size 640x480 with 1 Axes>"
      ]
     },
     "metadata": {},
     "output_type": "display_data"
    }
   ],
   "source": [
    "cong_examples['year'].hist()"
   ]
  },
  {
   "cell_type": "code",
   "execution_count": 29,
   "id": "d1acf852-1688-4d63-bd1d-9cbd757c1af8",
   "metadata": {},
   "outputs": [],
   "source": [
    "vc = cong_examples['matched_text'].value_counts()"
   ]
  },
  {
   "cell_type": "code",
   "execution_count": 30,
   "id": "594315fc-5bdd-405e-823d-7fad03a54659",
   "metadata": {},
   "outputs": [
    {
     "data": {
      "text/plain": [
       "[('bible tell', 1),\n",
       " ('Good Book read', 1),\n",
       " ('Scripture state', 2),\n",
       " ('bible read', 2),\n",
       " ('bible say', 3),\n",
       " ('Word tell', 3),\n",
       " ('Book say', 3),\n",
       " ('Holy Scripture say', 4),\n",
       " ('Word say', 5),\n",
       " ('Bible state', 5),\n",
       " ('Scripture read', 6),\n",
       " ('Book tell', 6),\n",
       " ('Good Book tell', 24),\n",
       " ('Scripture say', 38),\n",
       " ('Scripture tell', 43),\n",
       " ('Bible read', 51),\n",
       " ('Good Book say', 55),\n",
       " ('Bible tell', 110),\n",
       " ('Bible say', 257)]"
      ]
     },
     "execution_count": 30,
     "metadata": {},
     "output_type": "execute_result"
    }
   ],
   "source": [
    "sorted(vc.items(), key=lambda x: x[1])"
   ]
  },
  {
   "cell_type": "code",
   "execution_count": 31,
   "id": "50dd7e19-cd91-44a1-8fc8-fe906c57db9f",
   "metadata": {},
   "outputs": [],
   "source": [
    "match = re.search(VERSE_REGEX, 'John 3:16')"
   ]
  },
  {
   "cell_type": "code",
   "execution_count": 32,
   "id": "3c3cbf1d-7050-4d2f-9aaa-d7d547f3cb02",
   "metadata": {},
   "outputs": [
    {
     "data": {
      "text/plain": [
       "<re.Match object; span=(0, 9), match='John 3:16'>"
      ]
     },
     "execution_count": 32,
     "metadata": {},
     "output_type": "execute_result"
    }
   ],
   "source": [
    "match"
   ]
  },
  {
   "cell_type": "code",
   "execution_count": 33,
   "id": "caaedf13-5ca7-4af5-91da-078f46894471",
   "metadata": {},
   "outputs": [],
   "source": [
    "def has_verse(text):\n",
    "    match = re.search(VERSE_REGEX, text)\n",
    "    return bool(match)\n",
    "\n",
    "def verse(text):\n",
    "    match = re.search(VERSE_REGEX, text)\n",
    "    if match:\n",
    "        return match.group(0)\n",
    "    else:\n",
    "        return None"
   ]
  },
  {
   "cell_type": "code",
   "execution_count": 34,
   "id": "055cb83b-8261-4d20-9e39-15e44083abdd",
   "metadata": {},
   "outputs": [],
   "source": [
    "cong_examples['has_verse'] = cong_examples['text'].apply(has_verse)"
   ]
  },
  {
   "cell_type": "code",
   "execution_count": 35,
   "id": "be9c8b6f-9956-43f6-ab83-1d74ac4a57e3",
   "metadata": {},
   "outputs": [
    {
     "data": {
      "text/plain": [
       "66"
      ]
     },
     "execution_count": 35,
     "metadata": {},
     "output_type": "execute_result"
    }
   ],
   "source": [
    "cong_examples['has_verse'].sum()"
   ]
  },
  {
   "cell_type": "code",
   "execution_count": 36,
   "id": "396b19d8-2e0f-4c53-9ce3-0d2bd5c2089f",
   "metadata": {},
   "outputs": [],
   "source": [
    "cong_examples['verse'] = cong_examples['text'].apply(verse)"
   ]
  },
  {
   "cell_type": "code",
   "execution_count": 37,
   "id": "96e2497b-587f-413d-9ac3-f52d5e87b53f",
   "metadata": {},
   "outputs": [],
   "source": [
    "vc_verses = cong_examples['verse'].value_counts()"
   ]
  },
  {
   "cell_type": "code",
   "execution_count": 38,
   "id": "b78993a3-460b-4e18-bd4a-2f487fa92b4d",
   "metadata": {},
   "outputs": [
    {
     "data": {
      "text/plain": [
       "verse\n",
       " John 15:13          4\n",
       " Acts 20:35          3\n",
       "chapter 15:13        3\n",
       " chapter 15:13       3\n",
       " Deuteronomy 15:7    3\n",
       " Psalms 33:1-4       2\n",
       " in 1                2\n",
       "in 2                 2\n",
       " Proverbs 3:5        2\n",
       " Genesis 13:14-17    2\n",
       " June 17             2\n",
       "in 1                 1\n",
       " Exodus 12           1\n",
       " Psalm 34            1\n",
       " Psalms 30:5         1\n",
       " Matthew 23          1\n",
       " Psalm 34:18         1\n",
       " Mathew 20           1\n",
       "chapter 9            1\n",
       " Matthew 25          1\n",
       " Luke 12:48          1\n",
       "s 30                 1\n",
       " Mathew 11:28-30     1\n",
       "chapter 11           1\n",
       "Proverbs 25:17       1\n",
       "John 15:13           1\n",
       " about 8:30          1\n",
       " Numbers 11:5        1\n",
       " Genesis 13          1\n",
       "Chapter 15           1\n",
       " times 7             1\n",
       " April 15            1\n",
       "John 1:16            1\n",
       " Romans 6:23         1\n",
       " Proverbs 11:25      1\n",
       " Galatians 6:7       1\n",
       " Luke 18:16          1\n",
       " Kings 4:42-44       1\n",
       " chapter 9           1\n",
       " Proverbs 14         1\n",
       " January 12          1\n",
       " Romans 5:8          1\n",
       "Psalms 34            1\n",
       " Ephesians 5:6       1\n",
       " almost 2            1\n",
       " chapter 4           1\n",
       " Proverbs 29:2       1\n",
       "when 39              1\n",
       " Proverbs 29:18      1\n",
       "Name: count, dtype: int64"
      ]
     },
     "execution_count": 38,
     "metadata": {},
     "output_type": "execute_result"
    }
   ],
   "source": [
    "vc_verses"
   ]
  },
  {
   "cell_type": "code",
   "execution_count": 39,
   "id": "45a68106-9548-4c64-9a10-4a900075dd00",
   "metadata": {},
   "outputs": [],
   "source": [
    "vc = cong_examples['speaker'].value_counts()"
   ]
  },
  {
   "cell_type": "code",
   "execution_count": 40,
   "id": "0746c77d-f4a0-4ca0-bc16-6b93356c9b9f",
   "metadata": {},
   "outputs": [
    {
     "data": {
      "text/plain": [
       "speaker\n",
       "Mr. PENCE                73\n",
       "Mr. BYRD                 49\n",
       "Mr. NELSON of Florida    28\n",
       "Mr. KUCINICH             15\n",
       "Mr. McDERMOTT            11\n",
       "                         ..\n",
       "Mr. CANNON                1\n",
       "Ms. HOOLEY                1\n",
       "Mr. CASEY                 1\n",
       "Mr. HUNTER                1\n",
       "Ms. DANNER                1\n",
       "Name: count, Length: 235, dtype: int64"
      ]
     },
     "execution_count": 40,
     "metadata": {},
     "output_type": "execute_result"
    }
   ],
   "source": [
    "vc"
   ]
  },
  {
   "cell_type": "code",
   "execution_count": 41,
   "id": "60ebc279-be6d-45a5-92b5-01b716e88d6a",
   "metadata": {},
   "outputs": [
    {
     "data": {
      "text/plain": [
       "'Bible|Word of God|bible|Holy Scripture|Christian Bible|Scripture|Word|Good Book|Holy Writ|Book'"
      ]
     },
     "execution_count": 41,
     "metadata": {},
     "output_type": "execute_result"
    }
   ],
   "source": [
    "bible_pattern"
   ]
  },
  {
   "cell_type": "code",
   "execution_count": null,
   "id": "f2d6a218-5a01-4441-beba-f1ecb2ed8c69",
   "metadata": {},
   "outputs": [],
   "source": [
    "# this might get more examples"
   ]
  },
  {
   "cell_type": "code",
   "execution_count": 59,
   "id": "d098d460-7dec-4819-bff9-d230a5bd7028",
   "metadata": {},
   "outputs": [
    {
     "data": {
      "application/vnd.jupyter.widget-view+json": {
       "model_id": "7bfbfe44df8b4c719b6d13503d80c9d6",
       "version_major": 2,
       "version_minor": 0
      },
      "text/plain": [
       "  0%|          | 0/2283034 [00:00<?, ?it/s]"
      ]
     },
     "metadata": {},
     "output_type": "display_data"
    }
   ],
   "source": [
    "context_length = 100\n",
    "\n",
    "cong_examples_passive = []\n",
    "#final_pattern = rf'written\\sin\\s[tT]he\\s(?:{bible_pattern})'\n",
    "final_pattern = r'[Ii]t\\sis\\swritten'\n",
    "for idx,row in tqdm(congress_df.iterrows(), total=len(congress_df)):\n",
    "    text = row['text']\n",
    "    for t in sent_tokenize(text):\n",
    "        matches = re.findall(final_pattern, t)\n",
    "        temp = []\n",
    "        for match in matches:\n",
    "            verse_text_number = fuzzy_match_with_verse(t)\n",
    "            if not verse_text_number:\n",
    "                verse_text_number = 'no_quote'\n",
    "            \n",
    "            verse_citation = re.search(VERSE_REGEX, t)\n",
    "            if verse_citation:\n",
    "                verse_citation = verse_citation.group(0)\n",
    "            else:\n",
    "                verse_citation = 'no_citation'\n",
    "            temp.append({'text': t, 'speaker': row['speaker'], 'year': row['year'], 'matched_text': match,\n",
    "                        'regex_citation': verse_citation, 'verse_quoted': verse_text_number,\n",
    "                        'party': row['party']})\n",
    "                    \n",
    "        cong_examples_passive += temp"
   ]
  },
  {
   "cell_type": "code",
   "execution_count": 60,
   "id": "9e8146fc-d859-48f2-9cfa-a7567d79b7b9",
   "metadata": {},
   "outputs": [],
   "source": [
    "cong_examples_passive = pd.DataFrame(cong_examples_passive)"
   ]
  },
  {
   "cell_type": "code",
   "execution_count": 61,
   "id": "5bc6f5a7-057b-44e9-8351-c29f64cffde2",
   "metadata": {},
   "outputs": [
    {
     "data": {
      "text/plain": [
       "[\"Just so there is no misunderstanding, in this resolution, it is written, Section 3: ``Nothing in this joint resolution may be construed to influence or disrupt any military operations and cooperation with Israel.''\",\n",
       " 'I mean, it is written here for everybody to see.',\n",
       " 'Regardless of what the intent of the legislation is, the fact is, the way it is written, it intimidates doctors with the threat of criminal liability for performing safe and legal abortions.',\n",
       " 'But it is written so vaguely that you not only need to bring your hunting partner, you might need to bring your attorney to find out if loaning your shotgun to your friend makes you a felon under this bill.',\n",
       " 'This would prevent a situation under the bill as it is written that, although rare, would still be possible, where the maximum allowable number of business days, 20 business days, that a purchaser would have to wait for an approval could actually run longer, hypothetically, than the 30 days.',\n",
       " \"Worst of all, it hides all of this in a fanciful energy modernization scheme that can't be achieved in the manner it is written.\",\n",
       " 'Instead, it is written to help trial lawyers.',\n",
       " \"So American taxpayers are potentially footing the bill for junk health insurance--some of which isn't really worth the paper it is written on.\",\n",
       " \"I just want to tell her I will be with her every step of the way because I think, colleagues, without the bill from the distinguished Senator from Wisconsin, what we are looking at is a new golden age for scam artists peddling insurance that isn't worth much more than the paper it is written on.\",\n",
       " 'It is simply a partisan messaging document worth no more than the paper that it is written on.']"
      ]
     },
     "execution_count": 61,
     "metadata": {},
     "output_type": "execute_result"
    }
   ],
   "source": [
    "list(cong_examples_passive['text'])[:10]"
   ]
  },
  {
   "cell_type": "code",
   "execution_count": 62,
   "id": "dff0e40a-8091-4957-82e3-080a7e5f0f86",
   "metadata": {},
   "outputs": [
    {
     "data": {
      "text/plain": [
       "1097"
      ]
     },
     "execution_count": 62,
     "metadata": {},
     "output_type": "execute_result"
    }
   ],
   "source": [
    "len(cong_examples_passive.index)"
   ]
  },
  {
   "cell_type": "code",
   "execution_count": null,
   "id": "241aeee5-3111-4902-b85e-43e4e2939afa",
   "metadata": {},
   "outputs": [],
   "source": []
  }
 ],
 "metadata": {
  "kernelspec": {
   "display_name": "sermons",
   "language": "python",
   "name": "sermons"
  },
  "language_info": {
   "codemirror_mode": {
    "name": "ipython",
    "version": 3
   },
   "file_extension": ".py",
   "mimetype": "text/x-python",
   "name": "python",
   "nbconvert_exporter": "python",
   "pygments_lexer": "ipython3",
   "version": "3.11.7"
  }
 },
 "nbformat": 4,
 "nbformat_minor": 5
}
