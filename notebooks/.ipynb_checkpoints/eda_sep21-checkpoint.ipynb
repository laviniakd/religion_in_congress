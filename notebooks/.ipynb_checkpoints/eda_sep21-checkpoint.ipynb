{
 "cells": [
  {
   "cell_type": "code",
   "execution_count": 43,
   "id": "6e23e5cf",
   "metadata": {},
   "outputs": [],
   "source": [
    "import pandas as pd"
   ]
  },
  {
   "cell_type": "code",
   "execution_count": 44,
   "id": "23c27602",
   "metadata": {},
   "outputs": [],
   "source": [
    "OUTPUT_PATH = '/shared/3/projects/sermons-ir/sermoncentral/fsm_with_columns.csv'"
   ]
  },
  {
   "cell_type": "code",
   "execution_count": 45,
   "id": "d84be3a5",
   "metadata": {},
   "outputs": [],
   "source": [
    "data = pd.read_csv(OUTPUT_PATH)"
   ]
  },
  {
   "cell_type": "code",
   "execution_count": 46,
   "id": "7d9e750f",
   "metadata": {},
   "outputs": [
    {
     "data": {
      "text/html": [
       "<div>\n",
       "<style scoped>\n",
       "    .dataframe tbody tr th:only-of-type {\n",
       "        vertical-align: middle;\n",
       "    }\n",
       "\n",
       "    .dataframe tbody tr th {\n",
       "        vertical-align: top;\n",
       "    }\n",
       "\n",
       "    .dataframe thead th {\n",
       "        text-align: right;\n",
       "    }\n",
       "</style>\n",
       "<table border=\"1\" class=\"dataframe\">\n",
       "  <thead>\n",
       "    <tr style=\"text-align: right;\">\n",
       "      <th></th>\n",
       "      <th>Unnamed: 0.2</th>\n",
       "      <th>Unnamed: 0.1</th>\n",
       "      <th>Unnamed: 0</th>\n",
       "      <th>index</th>\n",
       "      <th>link</th>\n",
       "      <th>denomination</th>\n",
       "      <th>author</th>\n",
       "      <th>churchName</th>\n",
       "      <th>churchAddress</th>\n",
       "      <th>unknown1</th>\n",
       "      <th>...</th>\n",
       "      <th>topicsList</th>\n",
       "      <th>ratingsNumber</th>\n",
       "      <th>rating</th>\n",
       "      <th>text</th>\n",
       "      <th>recognized_verses</th>\n",
       "      <th>corrected_text</th>\n",
       "      <th>masked_text</th>\n",
       "      <th>masked_verses</th>\n",
       "      <th>fuzz_scores</th>\n",
       "      <th>original_text_list</th>\n",
       "    </tr>\n",
       "  </thead>\n",
       "  <tbody>\n",
       "    <tr>\n",
       "      <th>0</th>\n",
       "      <td>0</td>\n",
       "      <td>0</td>\n",
       "      <td>0</td>\n",
       "      <td>0</td>\n",
       "      <td>http://www.sermoncentral.com/sermons/onward-ch...</td>\n",
       "      <td>Holiness</td>\n",
       "      <td>Andy Grossman</td>\n",
       "      <td>Mount Shasta Abundant Life Church Of The Nazarene</td>\n",
       "      <td>954 N. Old Stage Road Mount Shasta, California...</td>\n",
       "      <td>4 + years</td>\n",
       "      <td>...</td>\n",
       "      <td>['soldier', 'battle', 'equip', 'military', 'se...</td>\n",
       "      <td>1</td>\n",
       "      <td>threestar</td>\n",
       "      <td>“Onward, Christian Soldier!”\\n\\nJune 12, 2011\\...</td>\n",
       "      <td>['Ephesians 6:11', 'Ephesians 6:12', 'Ephesian...</td>\n",
       "      <td>NaN</td>\n",
       "      <td>NaN</td>\n",
       "      <td>[]</td>\n",
       "      <td>[]</td>\n",
       "      <td>[]</td>\n",
       "    </tr>\n",
       "    <tr>\n",
       "      <th>1</th>\n",
       "      <td>1</td>\n",
       "      <td>1</td>\n",
       "      <td>1</td>\n",
       "      <td>1</td>\n",
       "      <td>http://www.sermoncentral.com/sermons/swimming-...</td>\n",
       "      <td>Pentecostal</td>\n",
       "      <td>James May</td>\n",
       "      <td>Victory Temple Pentecostal Church Of God</td>\n",
       "      <td>41200 Highway 933 Prairieville, Louisiana 70769</td>\n",
       "      <td>4 + years</td>\n",
       "      <td>...</td>\n",
       "      <td>['christian disciplines']</td>\n",
       "      <td>266</td>\n",
       "      <td>fourhalfstar</td>\n",
       "      <td>Disclaimer:\\n\\nDue to the large amount of serm...</td>\n",
       "      <td>['Ezekiel 47:3', 'Ezekiel 47:4', 'Ezekiel 47:5...</td>\n",
       "      <td>Disclaimer: Due to the large amount of sermon...</td>\n",
       "      <td>Disclaimer: Due to the large amount of sermon...</td>\n",
       "      <td>['And when the man that had the line in his ha...</td>\n",
       "      <td>[95.0, 100.0]</td>\n",
       "      <td>['And when the man that had the line in his ha...</td>\n",
       "    </tr>\n",
       "    <tr>\n",
       "      <th>2</th>\n",
       "      <td>2</td>\n",
       "      <td>2</td>\n",
       "      <td>2</td>\n",
       "      <td>2</td>\n",
       "      <td>http://www.sermoncentral.com/sermons/out-of-th...</td>\n",
       "      <td>Wesleyan</td>\n",
       "      <td>Bruce Howell</td>\n",
       "      <td>Lighthouse Community Church</td>\n",
       "      <td>4321 11th St Kalamazoo, Michigan 49009</td>\n",
       "      <td>4 + years</td>\n",
       "      <td>...</td>\n",
       "      <td>['assurance of salvation']</td>\n",
       "      <td>8</td>\n",
       "      <td>fourhalfstar</td>\n",
       "      <td>Out of the Mouth of Babes\\n\\nFrom the lips of ...</td>\n",
       "      <td>['Psalm 8:2', 'Mark 10:27', 'Philippians 4:7',...</td>\n",
       "      <td>Out of the Mouth of Babes\\n\\nFrom the lips of...</td>\n",
       "      <td>Out of the Mouth of Babes\\n\\nFrom the lips of...</td>\n",
       "      <td>[]</td>\n",
       "      <td>[]</td>\n",
       "      <td>[]</td>\n",
       "    </tr>\n",
       "    <tr>\n",
       "      <th>3</th>\n",
       "      <td>3</td>\n",
       "      <td>3</td>\n",
       "      <td>3</td>\n",
       "      <td>3</td>\n",
       "      <td>http://www.sermoncentral.com/sermons/and-they-...</td>\n",
       "      <td>*Other</td>\n",
       "      <td>Evangelist Stanley Baker</td>\n",
       "      <td>Evangelist Stanley  Baker</td>\n",
       "      <td>1274 Rice;s Park Cr Prattville, Alabama 36067</td>\n",
       "      <td>4 + years</td>\n",
       "      <td>...</td>\n",
       "      <td>['worldliness', 'sin bondage to', 'disobedienc...</td>\n",
       "      <td>2</td>\n",
       "      <td>threestar</td>\n",
       "      <td>And They Feared Not The Lord\\n\\nBy Rev Stanley...</td>\n",
       "      <td>['Joshua 24:15']</td>\n",
       "      <td>And They Feared Not The Lord\\n\\nBy Rev Stanle...</td>\n",
       "      <td>And They Feared Not The Lord\\n\\nBy Rev Stanle...</td>\n",
       "      <td>[]</td>\n",
       "      <td>[]</td>\n",
       "      <td>[]</td>\n",
       "    </tr>\n",
       "    <tr>\n",
       "      <th>4</th>\n",
       "      <td>4</td>\n",
       "      <td>4</td>\n",
       "      <td>4</td>\n",
       "      <td>4</td>\n",
       "      <td>http://www.sermoncentral.com/sermons/we-belong...</td>\n",
       "      <td>Independent/Bible</td>\n",
       "      <td>William R. Nabaza</td>\n",
       "      <td>Cathedral Of Praise Church</td>\n",
       "      <td>Ermita Manila, *Province/Other 1001</td>\n",
       "      <td>4 + years</td>\n",
       "      <td>...</td>\n",
       "      <td>['self-control', 'day', 'fellowship with god',...</td>\n",
       "      <td>0</td>\n",
       "      <td>threestar</td>\n",
       "      <td>I. EXORDIUM:\\n\\nDo you belong to the day?\\n\\nI...</td>\n",
       "      <td>['1 Thessalonians 5:8', '1 Thessalonians 4:3',...</td>\n",
       "      <td>I. EXORDIUM: Do you belong to the day? II. AU...</td>\n",
       "      <td>I. EXORDIUM: Do you belong to the day? II. AU...</td>\n",
       "      <td>['Why comfort one another with these words.']</td>\n",
       "      <td>[90.12820512820512]</td>\n",
       "      <td>['Therefore comfort and encourage one another ...</td>\n",
       "    </tr>\n",
       "  </tbody>\n",
       "</table>\n",
       "<p>5 rows × 25 columns</p>\n",
       "</div>"
      ],
      "text/plain": [
       "   Unnamed: 0.2  Unnamed: 0.1  Unnamed: 0  index  \\\n",
       "0             0             0           0      0   \n",
       "1             1             1           1      1   \n",
       "2             2             2           2      2   \n",
       "3             3             3           3      3   \n",
       "4             4             4           4      4   \n",
       "\n",
       "                                                link       denomination  \\\n",
       "0  http://www.sermoncentral.com/sermons/onward-ch...           Holiness   \n",
       "1  http://www.sermoncentral.com/sermons/swimming-...        Pentecostal   \n",
       "2  http://www.sermoncentral.com/sermons/out-of-th...           Wesleyan   \n",
       "3  http://www.sermoncentral.com/sermons/and-they-...             *Other   \n",
       "4  http://www.sermoncentral.com/sermons/we-belong...  Independent/Bible   \n",
       "\n",
       "                     author  \\\n",
       "0             Andy Grossman   \n",
       "1                 James May   \n",
       "2              Bruce Howell   \n",
       "3  Evangelist Stanley Baker   \n",
       "4         William R. Nabaza   \n",
       "\n",
       "                                          churchName  \\\n",
       "0  Mount Shasta Abundant Life Church Of The Nazarene   \n",
       "1           Victory Temple Pentecostal Church Of God   \n",
       "2                        Lighthouse Community Church   \n",
       "3                          Evangelist Stanley  Baker   \n",
       "4                         Cathedral Of Praise Church   \n",
       "\n",
       "                                       churchAddress   unknown1  ...  \\\n",
       "0  954 N. Old Stage Road Mount Shasta, California...  4 + years  ...   \n",
       "1    41200 Highway 933 Prairieville, Louisiana 70769  4 + years  ...   \n",
       "2             4321 11th St Kalamazoo, Michigan 49009  4 + years  ...   \n",
       "3      1274 Rice;s Park Cr Prattville, Alabama 36067  4 + years  ...   \n",
       "4                Ermita Manila, *Province/Other 1001  4 + years  ...   \n",
       "\n",
       "                                          topicsList ratingsNumber  \\\n",
       "0  ['soldier', 'battle', 'equip', 'military', 'se...             1   \n",
       "1                          ['christian disciplines']           266   \n",
       "2                         ['assurance of salvation']             8   \n",
       "3  ['worldliness', 'sin bondage to', 'disobedienc...             2   \n",
       "4  ['self-control', 'day', 'fellowship with god',...             0   \n",
       "\n",
       "         rating                                               text  \\\n",
       "0     threestar  “Onward, Christian Soldier!”\\n\\nJune 12, 2011\\...   \n",
       "1  fourhalfstar  Disclaimer:\\n\\nDue to the large amount of serm...   \n",
       "2  fourhalfstar  Out of the Mouth of Babes\\n\\nFrom the lips of ...   \n",
       "3     threestar  And They Feared Not The Lord\\n\\nBy Rev Stanley...   \n",
       "4     threestar  I. EXORDIUM:\\n\\nDo you belong to the day?\\n\\nI...   \n",
       "\n",
       "                                   recognized_verses  \\\n",
       "0  ['Ephesians 6:11', 'Ephesians 6:12', 'Ephesian...   \n",
       "1  ['Ezekiel 47:3', 'Ezekiel 47:4', 'Ezekiel 47:5...   \n",
       "2  ['Psalm 8:2', 'Mark 10:27', 'Philippians 4:7',...   \n",
       "3                                   ['Joshua 24:15']   \n",
       "4  ['1 Thessalonians 5:8', '1 Thessalonians 4:3',...   \n",
       "\n",
       "                                      corrected_text  \\\n",
       "0                                                NaN   \n",
       "1   Disclaimer: Due to the large amount of sermon...   \n",
       "2   Out of the Mouth of Babes\\n\\nFrom the lips of...   \n",
       "3   And They Feared Not The Lord\\n\\nBy Rev Stanle...   \n",
       "4   I. EXORDIUM: Do you belong to the day? II. AU...   \n",
       "\n",
       "                                         masked_text  \\\n",
       "0                                                NaN   \n",
       "1   Disclaimer: Due to the large amount of sermon...   \n",
       "2   Out of the Mouth of Babes\\n\\nFrom the lips of...   \n",
       "3   And They Feared Not The Lord\\n\\nBy Rev Stanle...   \n",
       "4   I. EXORDIUM: Do you belong to the day? II. AU...   \n",
       "\n",
       "                                       masked_verses          fuzz_scores  \\\n",
       "0                                                 []                   []   \n",
       "1  ['And when the man that had the line in his ha...        [95.0, 100.0]   \n",
       "2                                                 []                   []   \n",
       "3                                                 []                   []   \n",
       "4      ['Why comfort one another with these words.']  [90.12820512820512]   \n",
       "\n",
       "                                  original_text_list  \n",
       "0                                                 []  \n",
       "1  ['And when the man that had the line in his ha...  \n",
       "2                                                 []  \n",
       "3                                                 []  \n",
       "4  ['Therefore comfort and encourage one another ...  \n",
       "\n",
       "[5 rows x 25 columns]"
      ]
     },
     "execution_count": 46,
     "metadata": {},
     "output_type": "execute_result"
    }
   ],
   "source": [
    "data.head()"
   ]
  },
  {
   "cell_type": "code",
   "execution_count": 47,
   "id": "b16fef03",
   "metadata": {},
   "outputs": [],
   "source": [
    "# plotting\n",
    "\n",
    "import matplotlib.pyplot as plt\n",
    "import seaborn as sns"
   ]
  },
  {
   "cell_type": "markdown",
   "id": "2a71186f",
   "metadata": {},
   "source": [
    "# Parable counts"
   ]
  },
  {
   "cell_type": "code",
   "execution_count": null,
   "id": "cdcce458",
   "metadata": {},
   "outputs": [],
   "source": [
    "PARABLE_PATH = '/home/laviniad/projects/religion_in_congress/data/parable_data.csv'"
   ]
  },
  {
   "cell_type": "code",
   "execution_count": null,
   "id": "becd432c",
   "metadata": {},
   "outputs": [],
   "source": [
    "parable_data = pd.read_csv(PARABLE_PATH)"
   ]
  },
  {
   "cell_type": "code",
   "execution_count": null,
   "id": "3a96adf9",
   "metadata": {},
   "outputs": [],
   "source": [
    "verse_to_parable = "
   ]
  },
  {
   "cell_type": "code",
   "execution_count": null,
   "id": "b23141d8",
   "metadata": {},
   "outputs": [],
   "source": [
    "# label each sermon with which parable"
   ]
  },
  {
   "cell_type": "code",
   "execution_count": null,
   "id": "2c07dc69",
   "metadata": {},
   "outputs": [],
   "source": [
    "\n",
    "\n",
    "for s in sermon_df.itertuples():\n",
    "    "
   ]
  },
  {
   "cell_type": "markdown",
   "id": "518171da",
   "metadata": {},
   "source": [
    "# Log odds of verses in different denominations [TODO]"
   ]
  },
  {
   "cell_type": "code",
   "execution_count": null,
   "id": "b6915b39",
   "metadata": {},
   "outputs": [],
   "source": [
    "from scipy.stats import entropy"
   ]
  },
  {
   "cell_type": "code",
   "execution_count": 25,
   "id": "c0c7c007",
   "metadata": {},
   "outputs": [],
   "source": [
    "denomination_list = list(set(data['denomination']))"
   ]
  },
  {
   "cell_type": "code",
   "execution_count": null,
   "id": "039df28b",
   "metadata": {},
   "outputs": [],
   "source": [
    "verse_vectors = {}\n",
    "\n",
    "recognized_verse_lists = denomination_list['']\n",
    "verse_counts = \n",
    "\n",
    "for d in denomination_list:\n",
    "    denom_df = data[data['denomination'] == d]\n",
    "    verse_vectors[d] = "
   ]
  },
  {
   "cell_type": "markdown",
   "id": "9ceb28f1",
   "metadata": {},
   "source": [
    "# Distribution of fuzz scores in validation"
   ]
  },
  {
   "cell_type": "code",
   "execution_count": 32,
   "id": "f2ef0f65",
   "metadata": {},
   "outputs": [],
   "source": [
    "held_out = pd.read_csv('/home/laviniad/projects/religion_in_congress/src/validation/fuzz_results.csv')"
   ]
  },
  {
   "cell_type": "code",
   "execution_count": 37,
   "id": "088002dc",
   "metadata": {},
   "outputs": [],
   "source": [
    "fuzzed = [e for e in held_out['fuzz_scores'] if e != '[]']"
   ]
  },
  {
   "cell_type": "code",
   "execution_count": 38,
   "id": "fe6076a7",
   "metadata": {},
   "outputs": [],
   "source": [
    "from ast import literal_eval"
   ]
  },
  {
   "cell_type": "code",
   "execution_count": 39,
   "id": "2739db25",
   "metadata": {},
   "outputs": [],
   "source": [
    "fuzzed = [literal_eval(e) for e in fuzzed]\n",
    "fuzzed = [s for sublist in fuzzed for s in sublist]"
   ]
  },
  {
   "cell_type": "code",
   "execution_count": 42,
   "id": "5b507e53",
   "metadata": {},
   "outputs": [
    {
     "data": {
      "text/plain": [
       "<seaborn.axisgrid.FacetGrid at 0x7f9675bb3190>"
      ]
     },
     "execution_count": 42,
     "metadata": {},
     "output_type": "execute_result"
    },
    {
     "data": {
      "image/png": "[encoded data removed]",
      "text/plain": [
       "<Figure size 360x360 with 1 Axes>"
      ]
     },
     "metadata": {
      "needs_background": "light"
     },
     "output_type": "display_data"
    }
   ],
   "source": [
    "sns.displot(fuzzed, bins=50)"
   ]
  },
  {
   "cell_type": "markdown",
   "id": "ffd6302d",
   "metadata": {},
   "source": [
    "# performance plots"
   ]
  },
  {
   "cell_type": "code",
   "execution_count": null,
   "id": "04d00329",
   "metadata": {},
   "outputs": [],
   "source": [
    "results_path = '/home/laviniad/projects/religion_in_congress/results/'\n",
    "models = ['bm25', 'dpr', 'cos_sim']\n",
    "context_windows = [(1,1), (2,2), (3,3), (4,4),\n",
    "                   (0,1), (1,0), (2,0), (0,2),\n",
    "                   (0,3), (3,0), (4,0), (0,4)]\n",
    "recall_vals = [1, 3, 5, 10, 50, 100]\n",
    "\n"
   ]
  },
  {
   "cell_type": "code",
   "execution_count": null,
   "id": "1af0b86c",
   "metadata": {},
   "outputs": [],
   "source": [
    "# for (1,1), (2,2), (3,3), (4,4) plot bm25's perf and dpr's perf at each recall@ value"
   ]
  }
 ],
 "metadata": {
  "kernelspec": {
   "display_name": "Python 3",
   "language": "python",
   "name": "python3"
  },
  "language_info": {
   "codemirror_mode": {
    "name": "ipython",
    "version": 3
   },
   "file_extension": ".py",
   "mimetype": "text/x-python",
   "name": "python",
   "nbconvert_exporter": "python",
   "pygments_lexer": "ipython3",
   "version": "3.8.5"
  }
 },
 "nbformat": 4,
 "nbformat_minor": 5
}
