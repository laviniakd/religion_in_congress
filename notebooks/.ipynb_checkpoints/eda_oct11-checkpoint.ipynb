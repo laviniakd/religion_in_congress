{
 "cells": [
  {
   "cell_type": "code",
   "execution_count": null,
   "id": "bdeb25f9",
   "metadata": {},
   "outputs": [],
   "source": [
    "import pandas as pd\n",
    "OUTPUT_PATH = '/shared/3/projects/sermons-ir/sermoncentral/fsm_with_columns.csv'\n",
    "data = pd.read_csv(OUTPUT_PATH)\n",
    "data.head()"
   ]
  },
  {
   "cell_type": "code",
   "execution_count": null,
   "id": "5447e2fe",
   "metadata": {},
   "outputs": [],
   "source": [
    "import matplotlib.pyplot as plt\n",
    "import seaborn as sns"
   ]
  },
  {
   "cell_type": "code",
   "execution_count": null,
   "id": "14ab2504",
   "metadata": {},
   "outputs": [],
   "source": [
    "# time range?"
   ]
  }
 ],
 "metadata": {
  "kernelspec": {
   "display_name": "Python 3",
   "language": "python",
   "name": "python3"
  },
  "language_info": {
   "codemirror_mode": {
    "name": "ipython",
    "version": 3
   },
   "file_extension": ".py",
   "mimetype": "text/x-python",
   "name": "python",
   "nbconvert_exporter": "python",
   "pygments_lexer": "ipython3",
   "version": "3.8.5"
  }
 },
 "nbformat": 4,
 "nbformat_minor": 5
}
