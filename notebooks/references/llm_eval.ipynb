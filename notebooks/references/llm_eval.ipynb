{
 "cells": [
  {
   "cell_type": "code",
   "execution_count": null,
   "metadata": {},
   "outputs": [],
   "source": [
    "from transformers import AutoModelForCausalLM, AutoTokenizer, pipeline\n",
    "\n",
    "# Load the model and tokenizer\n",
    "model_name = \"meta-llama/Llama-3.2-3B-Instruct\"  # Replace with \"mistralai/Mistral-7B-Instruct-v0.2\" if needed\n",
    "tokenizer = AutoTokenizer.from_pretrained(model_name)\n",
    "model = AutoModelForCausalLM.from_pretrained(model_name)\n",
    "\n",
    "# Create a pipeline for zero-shot inference\n",
    "inference_pipeline = pipeline(\"text-generation\", model=model, tokenizer=tokenizer)\n",
    "\n",
    "# Define the prompt formats\n",
    "with open(\"PROMPT_DETECT.txt\", \"r\") as file:\n",
    "    prompt_detect = file.read()\n",
    "\n",
    "with open(\"PROMPT_DETECT_AND_ID.txt\", \"r\") as file:\n",
    "    prompt_detect_id = file.read()"
   ]
  },
  {
   "cell_type": "code",
   "execution_count": null,
   "metadata": {},
   "outputs": [],
   "source": []
  }
 ],
 "metadata": {
  "language_info": {
   "name": "python"
  }
 },
 "nbformat": 4,
 "nbformat_minor": 2
}
